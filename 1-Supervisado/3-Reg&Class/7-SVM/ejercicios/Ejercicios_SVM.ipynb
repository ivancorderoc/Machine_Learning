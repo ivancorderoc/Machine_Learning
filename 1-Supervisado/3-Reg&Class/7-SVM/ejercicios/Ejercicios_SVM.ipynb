{
 "cells": [
  {
   "cell_type": "markdown",
   "metadata": {
    "id": "783FA049nkYX"
   },
   "source": [
    "# Support Vector Machines - Exercise 1"
   ]
  },
  {
   "cell_type": "markdown",
   "metadata": {
    "id": "ki49rbd2nkYZ"
   },
   "source": [
    "In this exercise, we'll be using support vector machines (SVMs) to build a spam classifier.  We'll start with SVMs on some simple 2D data sets to see how they work.  Then we'll do some pre-processing work on a set of raw emails and build a classifier on the processed emails using a SVM to determine if they are spam or not."
   ]
  },
  {
   "cell_type": "markdown",
   "metadata": {
    "id": "0doqgOa9nkYZ"
   },
   "source": [
    "The first thing we're going to do is look at a simple 2-dimensional data set and see how a linear SVM works on the data set for varying values of C (similar to the regularization term in linear/logistic regression).  Let's load the data.\n",
    "## Exercise 1\n",
    "#### 1. Load libraries"
   ]
  },
  {
   "cell_type": "code",
   "execution_count": 1,
   "metadata": {},
   "outputs": [],
   "source": [
    "import numpy as np\n",
    "import pandas as pd\n",
    "import matplotlib.pyplot as plt\n",
    "import seaborn as sns\n",
    "\n",
    "%matplotlib inline"
   ]
  },
  {
   "cell_type": "markdown",
   "metadata": {},
   "source": [
    "#### 2. Load data\n",
    "Load the file *ejer_1_data1.mat*. Find the way for loading this kind of file."
   ]
  },
  {
   "cell_type": "code",
   "execution_count": 2,
   "metadata": {},
   "outputs": [
    {
     "data": {
      "text/plain": [
       "{'__header__': b'MATLAB 5.0 MAT-file, Platform: GLNXA64, Created on: Sun Nov 13 14:28:43 2011',\n",
       " '__version__': '1.0',\n",
       " '__globals__': [],\n",
       " 'X': array([[1.9643  , 4.5957  ],\n",
       "        [2.2753  , 3.8589  ],\n",
       "        [2.9781  , 4.5651  ],\n",
       "        [2.932   , 3.5519  ],\n",
       "        [3.5772  , 2.856   ],\n",
       "        [4.015   , 3.1937  ],\n",
       "        [3.3814  , 3.4291  ],\n",
       "        [3.9113  , 4.1761  ],\n",
       "        [2.7822  , 4.0431  ],\n",
       "        [2.5518  , 4.6162  ],\n",
       "        [3.3698  , 3.9101  ],\n",
       "        [3.1048  , 3.0709  ],\n",
       "        [1.9182  , 4.0534  ],\n",
       "        [2.2638  , 4.3706  ],\n",
       "        [2.6555  , 3.5008  ],\n",
       "        [3.1855  , 4.2888  ],\n",
       "        [3.6579  , 3.8692  ],\n",
       "        [3.9113  , 3.4291  ],\n",
       "        [3.6002  , 3.1221  ],\n",
       "        [3.0357  , 3.3165  ],\n",
       "        [1.5841  , 3.3575  ],\n",
       "        [2.0103  , 3.2039  ],\n",
       "        [1.9527  , 2.7843  ],\n",
       "        [2.2753  , 2.7127  ],\n",
       "        [2.3099  , 2.9584  ],\n",
       "        [2.8283  , 2.6309  ],\n",
       "        [3.0473  , 2.2931  ],\n",
       "        [2.4827  , 2.0373  ],\n",
       "        [2.5057  , 2.3853  ],\n",
       "        [1.8721  , 2.0577  ],\n",
       "        [2.0103  , 2.3546  ],\n",
       "        [1.2269  , 2.3239  ],\n",
       "        [1.8951  , 2.9174  ],\n",
       "        [1.561   , 3.0709  ],\n",
       "        [1.5495  , 2.6923  ],\n",
       "        [1.6878  , 2.4057  ],\n",
       "        [1.4919  , 2.0271  ],\n",
       "        [0.962   , 2.682   ],\n",
       "        [1.1693  , 2.9276  ],\n",
       "        [0.8122  , 2.9992  ],\n",
       "        [0.9735  , 3.3881  ],\n",
       "        [1.25    , 3.1937  ],\n",
       "        [1.3191  , 3.5109  ],\n",
       "        [2.2292  , 2.201   ],\n",
       "        [2.4482  , 2.6411  ],\n",
       "        [2.7938  , 1.9656  ],\n",
       "        [2.091   , 1.6177  ],\n",
       "        [2.5403  , 2.8867  ],\n",
       "        [0.9044  , 3.0198  ],\n",
       "        [0.76615 , 2.5899  ],\n",
       "        [0.086405, 4.1045  ]]),\n",
       " 'y': array([[1],\n",
       "        [1],\n",
       "        [1],\n",
       "        [1],\n",
       "        [1],\n",
       "        [1],\n",
       "        [1],\n",
       "        [1],\n",
       "        [1],\n",
       "        [1],\n",
       "        [1],\n",
       "        [1],\n",
       "        [1],\n",
       "        [1],\n",
       "        [1],\n",
       "        [1],\n",
       "        [1],\n",
       "        [1],\n",
       "        [1],\n",
       "        [1],\n",
       "        [0],\n",
       "        [0],\n",
       "        [0],\n",
       "        [0],\n",
       "        [0],\n",
       "        [0],\n",
       "        [0],\n",
       "        [0],\n",
       "        [0],\n",
       "        [0],\n",
       "        [0],\n",
       "        [0],\n",
       "        [0],\n",
       "        [0],\n",
       "        [0],\n",
       "        [0],\n",
       "        [0],\n",
       "        [0],\n",
       "        [0],\n",
       "        [0],\n",
       "        [0],\n",
       "        [0],\n",
       "        [0],\n",
       "        [0],\n",
       "        [0],\n",
       "        [0],\n",
       "        [0],\n",
       "        [0],\n",
       "        [0],\n",
       "        [0],\n",
       "        [1]], dtype=uint8)}"
      ]
     },
     "execution_count": 2,
     "metadata": {},
     "output_type": "execute_result"
    }
   ],
   "source": [
    "from scipy.io import loadmat\n",
    "\n",
    "mat = loadmat('data/ejer_1_data1.mat')\n",
    "mat"
   ]
  },
  {
   "cell_type": "code",
   "execution_count": 3,
   "metadata": {},
   "outputs": [
    {
     "data": {
      "text/plain": [
       "dict_keys(['__header__', '__version__', '__globals__', 'X', 'y'])"
      ]
     },
     "execution_count": 3,
     "metadata": {},
     "output_type": "execute_result"
    }
   ],
   "source": [
    "mat.keys()"
   ]
  },
  {
   "cell_type": "markdown",
   "metadata": {},
   "source": [
    "#### 3. Create a DataFrame with the features and target"
   ]
  },
  {
   "cell_type": "code",
   "execution_count": 4,
   "metadata": {},
   "outputs": [
    {
     "data": {
      "text/plain": [
       "Index(['x1', 'x2', 'y'], dtype='object')"
      ]
     },
     "execution_count": 4,
     "metadata": {},
     "output_type": "execute_result"
    }
   ],
   "source": [
    "df = pd.DataFrame(mat[\"X\"], columns=[\"x1\", \"x2\"])\n",
    "df = pd.concat([df, pd.DataFrame(mat[\"y\"], columns=[\"y\"])], axis=1)\n",
    "df.columns"
   ]
  },
  {
   "cell_type": "code",
   "execution_count": 5,
   "metadata": {},
   "outputs": [
    {
     "data": {
      "text/html": [
       "<div>\n",
       "<style scoped>\n",
       "    .dataframe tbody tr th:only-of-type {\n",
       "        vertical-align: middle;\n",
       "    }\n",
       "\n",
       "    .dataframe tbody tr th {\n",
       "        vertical-align: top;\n",
       "    }\n",
       "\n",
       "    .dataframe thead th {\n",
       "        text-align: right;\n",
       "    }\n",
       "</style>\n",
       "<table border=\"1\" class=\"dataframe\">\n",
       "  <thead>\n",
       "    <tr style=\"text-align: right;\">\n",
       "      <th></th>\n",
       "      <th>x1</th>\n",
       "      <th>x2</th>\n",
       "      <th>y</th>\n",
       "    </tr>\n",
       "  </thead>\n",
       "  <tbody>\n",
       "    <tr>\n",
       "      <th>0</th>\n",
       "      <td>1.9643</td>\n",
       "      <td>4.5957</td>\n",
       "      <td>1</td>\n",
       "    </tr>\n",
       "    <tr>\n",
       "      <th>1</th>\n",
       "      <td>2.2753</td>\n",
       "      <td>3.8589</td>\n",
       "      <td>1</td>\n",
       "    </tr>\n",
       "    <tr>\n",
       "      <th>2</th>\n",
       "      <td>2.9781</td>\n",
       "      <td>4.5651</td>\n",
       "      <td>1</td>\n",
       "    </tr>\n",
       "    <tr>\n",
       "      <th>3</th>\n",
       "      <td>2.9320</td>\n",
       "      <td>3.5519</td>\n",
       "      <td>1</td>\n",
       "    </tr>\n",
       "    <tr>\n",
       "      <th>4</th>\n",
       "      <td>3.5772</td>\n",
       "      <td>2.8560</td>\n",
       "      <td>1</td>\n",
       "    </tr>\n",
       "  </tbody>\n",
       "</table>\n",
       "</div>"
      ],
      "text/plain": [
       "       x1      x2  y\n",
       "0  1.9643  4.5957  1\n",
       "1  2.2753  3.8589  1\n",
       "2  2.9781  4.5651  1\n",
       "3  2.9320  3.5519  1\n",
       "4  3.5772  2.8560  1"
      ]
     },
     "execution_count": 5,
     "metadata": {},
     "output_type": "execute_result"
    }
   ],
   "source": [
    "df.head()"
   ]
  },
  {
   "cell_type": "code",
   "execution_count": 6,
   "metadata": {},
   "outputs": [
    {
     "data": {
      "text/plain": [
       "y\n",
       "0    30\n",
       "1    21\n",
       "Name: count, dtype: int64"
      ]
     },
     "execution_count": 6,
     "metadata": {},
     "output_type": "execute_result"
    }
   ],
   "source": [
    "df['y'].value_counts()"
   ]
  },
  {
   "cell_type": "markdown",
   "metadata": {},
   "source": [
    "#### 4. Plot a scatterplot with the data"
   ]
  },
  {
   "cell_type": "code",
   "execution_count": 7,
   "metadata": {},
   "outputs": [
    {
     "data": {
      "image/png": "[encoded data removed]",
      "text/plain": [
       "<Figure size 640x480 with 1 Axes>"
      ]
     },
     "metadata": {},
     "output_type": "display_data"
    }
   ],
   "source": [
    "plt.scatter(df[\"x1\"], df[\"x2\"], c = df[\"y\"]);"
   ]
  },
  {
   "cell_type": "markdown",
   "metadata": {
    "id": "IXSH26wgnkYj"
   },
   "source": [
    "Notice that there is one outlier positive example that sits apart from the others.  The classes are still linearly separable but it's a very tight fit.  We're going to train a linear support vector machine to learn the class boundary.\n",
    "\n",
    "#### 5. LinearSVC\n",
    "Declare a Linear SVC with the hyperparamenters:\n",
    "\n",
    "```Python\n",
    "LinearSVC(C=1, loss='hinge', max_iter=10000)\n",
    "```"
   ]
  },
  {
   "cell_type": "code",
   "execution_count": 8,
   "metadata": {},
   "outputs": [],
   "source": [
    "from sklearn.svm import LinearSVC\n",
    "\n",
    "svc = LinearSVC(C=1, loss=\"hinge\", max_iter=10000)"
   ]
  },
  {
   "cell_type": "code",
   "execution_count": 29,
   "metadata": {},
   "outputs": [],
   "source": [
    "svc_2 = LinearSVC(C=90, loss=\"squared_hinge\", max_iter=100000)"
   ]
  },
  {
   "cell_type": "markdown",
   "metadata": {
    "id": "E3AVSx6DnkYn"
   },
   "source": [
    "#### 6. Try the performance (score)\n",
    "For the first experiment we'll use C=1 and see how it performs."
   ]
  },
  {
   "cell_type": "code",
   "execution_count": 24,
   "metadata": {},
   "outputs": [
    {
     "data": {
      "text/html": [
       "<style>#sk-container-id-5 {color: black;background-color: white;}#sk-container-id-5 pre{padding: 0;}#sk-container-id-5 div.sk-toggleable {background-color: white;}#sk-container-id-5 label.sk-toggleable__label {cursor: pointer;display: block;width: 100%;margin-bottom: 0;padding: 0.3em;box-sizing: border-box;text-align: center;}#sk-container-id-5 label.sk-toggleable__label-arrow:before {content: \"▸\";float: left;margin-right: 0.25em;color: #696969;}#sk-container-id-5 label.sk-toggleable__label-arrow:hover:before {color: black;}#sk-container-id-5 div.sk-estimator:hover label.sk-toggleable__label-arrow:before {color: black;}#sk-container-id-5 div.sk-toggleable__content {max-height: 0;max-width: 0;overflow: hidden;text-align: left;background-color: #f0f8ff;}#sk-container-id-5 div.sk-toggleable__content pre {margin: 0.2em;color: black;border-radius: 0.25em;background-color: #f0f8ff;}#sk-container-id-5 input.sk-toggleable__control:checked~div.sk-toggleable__content {max-height: 200px;max-width: 100%;overflow: auto;}#sk-container-id-5 input.sk-toggleable__control:checked~label.sk-toggleable__label-arrow:before {content: \"▾\";}#sk-container-id-5 div.sk-estimator input.sk-toggleable__control:checked~label.sk-toggleable__label {background-color: #d4ebff;}#sk-container-id-5 div.sk-label input.sk-toggleable__control:checked~label.sk-toggleable__label {background-color: #d4ebff;}#sk-container-id-5 input.sk-hidden--visually {border: 0;clip: rect(1px 1px 1px 1px);clip: rect(1px, 1px, 1px, 1px);height: 1px;margin: -1px;overflow: hidden;padding: 0;position: absolute;width: 1px;}#sk-container-id-5 div.sk-estimator {font-family: monospace;background-color: #f0f8ff;border: 1px dotted black;border-radius: 0.25em;box-sizing: border-box;margin-bottom: 0.5em;}#sk-container-id-5 div.sk-estimator:hover {background-color: #d4ebff;}#sk-container-id-5 div.sk-parallel-item::after {content: \"\";width: 100%;border-bottom: 1px solid gray;flex-grow: 1;}#sk-container-id-5 div.sk-label:hover label.sk-toggleable__label {background-color: #d4ebff;}#sk-container-id-5 div.sk-serial::before {content: \"\";position: absolute;border-left: 1px solid gray;box-sizing: border-box;top: 0;bottom: 0;left: 50%;z-index: 0;}#sk-container-id-5 div.sk-serial {display: flex;flex-direction: column;align-items: center;background-color: white;padding-right: 0.2em;padding-left: 0.2em;position: relative;}#sk-container-id-5 div.sk-item {position: relative;z-index: 1;}#sk-container-id-5 div.sk-parallel {display: flex;align-items: stretch;justify-content: center;background-color: white;position: relative;}#sk-container-id-5 div.sk-item::before, #sk-container-id-5 div.sk-parallel-item::before {content: \"\";position: absolute;border-left: 1px solid gray;box-sizing: border-box;top: 0;bottom: 0;left: 50%;z-index: -1;}#sk-container-id-5 div.sk-parallel-item {display: flex;flex-direction: column;z-index: 1;position: relative;background-color: white;}#sk-container-id-5 div.sk-parallel-item:first-child::after {align-self: flex-end;width: 50%;}#sk-container-id-5 div.sk-parallel-item:last-child::after {align-self: flex-start;width: 50%;}#sk-container-id-5 div.sk-parallel-item:only-child::after {width: 0;}#sk-container-id-5 div.sk-dashed-wrapped {border: 1px dashed gray;margin: 0 0.4em 0.5em 0.4em;box-sizing: border-box;padding-bottom: 0.4em;background-color: white;}#sk-container-id-5 div.sk-label label {font-family: monospace;font-weight: bold;display: inline-block;line-height: 1.2em;}#sk-container-id-5 div.sk-label-container {text-align: center;}#sk-container-id-5 div.sk-container {/* jupyter's `normalize.less` sets `[hidden] { display: none; }` but bootstrap.min.css set `[hidden] { display: none !important; }` so we also need the `!important` here to be able to override the default hidden behavior on the sphinx rendered scikit-learn.org. See: https://github.com/scikit-learn/scikit-learn/issues/21755 */display: inline-block !important;position: relative;}#sk-container-id-5 div.sk-text-repr-fallback {display: none;}</style><div id=\"sk-container-id-5\" class=\"sk-top-container\"><div class=\"sk-text-repr-fallback\"><pre>LinearSVC(C=1, loss=&#x27;hinge&#x27;, max_iter=10000)</pre><b>In a Jupyter environment, please rerun this cell to show the HTML representation or trust the notebook. <br />On GitHub, the HTML representation is unable to render, please try loading this page with nbviewer.org.</b></div><div class=\"sk-container\" hidden><div class=\"sk-item\"><div class=\"sk-estimator sk-toggleable\"><input class=\"sk-toggleable__control sk-hidden--visually\" id=\"sk-estimator-id-5\" type=\"checkbox\" checked><label for=\"sk-estimator-id-5\" class=\"sk-toggleable__label sk-toggleable__label-arrow\">LinearSVC</label><div class=\"sk-toggleable__content\"><pre>LinearSVC(C=1, loss=&#x27;hinge&#x27;, max_iter=10000)</pre></div></div></div></div></div>"
      ],
      "text/plain": [
       "LinearSVC(C=1, loss='hinge', max_iter=10000)"
      ]
     },
     "execution_count": 24,
     "metadata": {},
     "output_type": "execute_result"
    }
   ],
   "source": [
    "svc.fit(df[['x1','x2']], df['y'])\n"
   ]
  },
  {
   "cell_type": "code",
   "execution_count": 30,
   "metadata": {},
   "outputs": [
    {
     "data": {
      "text/html": [
       "<style>#sk-container-id-7 {color: black;background-color: white;}#sk-container-id-7 pre{padding: 0;}#sk-container-id-7 div.sk-toggleable {background-color: white;}#sk-container-id-7 label.sk-toggleable__label {cursor: pointer;display: block;width: 100%;margin-bottom: 0;padding: 0.3em;box-sizing: border-box;text-align: center;}#sk-container-id-7 label.sk-toggleable__label-arrow:before {content: \"▸\";float: left;margin-right: 0.25em;color: #696969;}#sk-container-id-7 label.sk-toggleable__label-arrow:hover:before {color: black;}#sk-container-id-7 div.sk-estimator:hover label.sk-toggleable__label-arrow:before {color: black;}#sk-container-id-7 div.sk-toggleable__content {max-height: 0;max-width: 0;overflow: hidden;text-align: left;background-color: #f0f8ff;}#sk-container-id-7 div.sk-toggleable__content pre {margin: 0.2em;color: black;border-radius: 0.25em;background-color: #f0f8ff;}#sk-container-id-7 input.sk-toggleable__control:checked~div.sk-toggleable__content {max-height: 200px;max-width: 100%;overflow: auto;}#sk-container-id-7 input.sk-toggleable__control:checked~label.sk-toggleable__label-arrow:before {content: \"▾\";}#sk-container-id-7 div.sk-estimator input.sk-toggleable__control:checked~label.sk-toggleable__label {background-color: #d4ebff;}#sk-container-id-7 div.sk-label input.sk-toggleable__control:checked~label.sk-toggleable__label {background-color: #d4ebff;}#sk-container-id-7 input.sk-hidden--visually {border: 0;clip: rect(1px 1px 1px 1px);clip: rect(1px, 1px, 1px, 1px);height: 1px;margin: -1px;overflow: hidden;padding: 0;position: absolute;width: 1px;}#sk-container-id-7 div.sk-estimator {font-family: monospace;background-color: #f0f8ff;border: 1px dotted black;border-radius: 0.25em;box-sizing: border-box;margin-bottom: 0.5em;}#sk-container-id-7 div.sk-estimator:hover {background-color: #d4ebff;}#sk-container-id-7 div.sk-parallel-item::after {content: \"\";width: 100%;border-bottom: 1px solid gray;flex-grow: 1;}#sk-container-id-7 div.sk-label:hover label.sk-toggleable__label {background-color: #d4ebff;}#sk-container-id-7 div.sk-serial::before {content: \"\";position: absolute;border-left: 1px solid gray;box-sizing: border-box;top: 0;bottom: 0;left: 50%;z-index: 0;}#sk-container-id-7 div.sk-serial {display: flex;flex-direction: column;align-items: center;background-color: white;padding-right: 0.2em;padding-left: 0.2em;position: relative;}#sk-container-id-7 div.sk-item {position: relative;z-index: 1;}#sk-container-id-7 div.sk-parallel {display: flex;align-items: stretch;justify-content: center;background-color: white;position: relative;}#sk-container-id-7 div.sk-item::before, #sk-container-id-7 div.sk-parallel-item::before {content: \"\";position: absolute;border-left: 1px solid gray;box-sizing: border-box;top: 0;bottom: 0;left: 50%;z-index: -1;}#sk-container-id-7 div.sk-parallel-item {display: flex;flex-direction: column;z-index: 1;position: relative;background-color: white;}#sk-container-id-7 div.sk-parallel-item:first-child::after {align-self: flex-end;width: 50%;}#sk-container-id-7 div.sk-parallel-item:last-child::after {align-self: flex-start;width: 50%;}#sk-container-id-7 div.sk-parallel-item:only-child::after {width: 0;}#sk-container-id-7 div.sk-dashed-wrapped {border: 1px dashed gray;margin: 0 0.4em 0.5em 0.4em;box-sizing: border-box;padding-bottom: 0.4em;background-color: white;}#sk-container-id-7 div.sk-label label {font-family: monospace;font-weight: bold;display: inline-block;line-height: 1.2em;}#sk-container-id-7 div.sk-label-container {text-align: center;}#sk-container-id-7 div.sk-container {/* jupyter's `normalize.less` sets `[hidden] { display: none; }` but bootstrap.min.css set `[hidden] { display: none !important; }` so we also need the `!important` here to be able to override the default hidden behavior on the sphinx rendered scikit-learn.org. See: https://github.com/scikit-learn/scikit-learn/issues/21755 */display: inline-block !important;position: relative;}#sk-container-id-7 div.sk-text-repr-fallback {display: none;}</style><div id=\"sk-container-id-7\" class=\"sk-top-container\"><div class=\"sk-text-repr-fallback\"><pre>LinearSVC(C=90, max_iter=100000)</pre><b>In a Jupyter environment, please rerun this cell to show the HTML representation or trust the notebook. <br />On GitHub, the HTML representation is unable to render, please try loading this page with nbviewer.org.</b></div><div class=\"sk-container\" hidden><div class=\"sk-item\"><div class=\"sk-estimator sk-toggleable\"><input class=\"sk-toggleable__control sk-hidden--visually\" id=\"sk-estimator-id-7\" type=\"checkbox\" checked><label for=\"sk-estimator-id-7\" class=\"sk-toggleable__label sk-toggleable__label-arrow\">LinearSVC</label><div class=\"sk-toggleable__content\"><pre>LinearSVC(C=90, max_iter=100000)</pre></div></div></div></div></div>"
      ],
      "text/plain": [
       "LinearSVC(C=90, max_iter=100000)"
      ]
     },
     "execution_count": 30,
     "metadata": {},
     "output_type": "execute_result"
    }
   ],
   "source": [
    "svc_2.fit(df[['x1','x2']], df['y'])"
   ]
  },
  {
   "cell_type": "code",
   "execution_count": 31,
   "metadata": {},
   "outputs": [
    {
     "data": {
      "text/plain": [
       "1.0"
      ]
     },
     "execution_count": 31,
     "metadata": {},
     "output_type": "execute_result"
    }
   ],
   "source": [
    "svc.score(df[['x1','x2']], df['y'])\n",
    "svc_2.score(df[['x1','x2']], df['y'])"
   ]
  },
  {
   "cell_type": "code",
   "execution_count": 32,
   "metadata": {},
   "outputs": [
    {
     "data": {
      "text/plain": [
       "1.0"
      ]
     },
     "execution_count": 32,
     "metadata": {},
     "output_type": "execute_result"
    }
   ],
   "source": [
    "svc_2.score(df[['x1','x2']], df['y'])"
   ]
  },
  {
   "cell_type": "markdown",
   "metadata": {
    "id": "F1-d95TbnkYq"
   },
   "source": [
    "It appears that it mis-classified the outlier.\n",
    "\n",
    "#### 7. Increase the value of C until you get a perfect classifier"
   ]
  },
  {
   "cell_type": "code",
   "execution_count": 33,
   "metadata": {},
   "outputs": [
    {
     "data": {
      "text/plain": [
       "1.0"
      ]
     },
     "execution_count": 33,
     "metadata": {},
     "output_type": "execute_result"
    }
   ],
   "source": [
    "\n",
    "svc_2.fit(df[['x1','x2']], df['y'])\n",
    "svc_2.score(df[['x1','x2']], df['y'])"
   ]
  },
  {
   "attachments": {},
   "cell_type": "markdown",
   "metadata": {},
   "source": [
    "This time we got a perfect classification of the training data, however by increasing the value of C we've created a decision boundary that is no longer a natural fit for the data.  We can visualize this by looking at the confidence level for each class prediction, which is a function of the point's distance from the hyperplane.\n"
   ]
  },
  {
   "attachments": {},
   "cell_type": "markdown",
   "metadata": {
    "id": "JNHkUq0MnkYt"
   },
   "source": [
    "#### 8. Plot Decission Function\n",
    "Get the `decision_function()` output for the first model. Plot a scatterplot with X1, X2 and a range of colors based on `decision_function()`"
   ]
  },
  {
   "cell_type": "code",
   "execution_count": 34,
   "metadata": {},
   "outputs": [],
   "source": [
    "conf_level = svc.decision_function(df[['x1','x2']])"
   ]
  },
  {
   "cell_type": "code",
   "execution_count": 35,
   "metadata": {},
   "outputs": [
    {
     "data": {
      "text/plain": [
       "array([ 0.80283896,  0.38392354,  1.37750356,  0.52118588,  0.33342932,\n",
       "        0.86872736,  0.68654311,  1.61123039,  0.83449608,  1.16714259,\n",
       "        1.07325798,  0.22982721,  0.33183372,  0.79581774,  0.31581274,\n",
       "        1.27410729,  1.21021427,  1.        ,  0.56477022,  0.38991324,\n",
       "       -0.43521767, -0.30878616, -0.68619522, -0.55395099, -0.33244047,\n",
       "       -0.29376212, -0.44061871, -0.98390957, -0.68555425, -1.32841147,\n",
       "       -1.0037232 , -1.49225558, -0.61135925, -0.68339178, -0.99998274,\n",
       "       -1.15268234, -1.57835322, -1.35594026, -1.03235265, -1.18500501,\n",
       "       -0.77137346, -0.76687992, -0.46645663, -0.99991787, -0.51026025,\n",
       "       -0.85854986, -1.55895204, -0.25481802, -1.11360916, -1.54715384,\n",
       "       -0.70993334])"
      ]
     },
     "execution_count": 35,
     "metadata": {},
     "output_type": "execute_result"
    }
   ],
   "source": [
    "conf_level"
   ]
  },
  {
   "cell_type": "code",
   "execution_count": 36,
   "metadata": {},
   "outputs": [
    {
     "data": {
      "image/png": "[encoded data removed]",
      "text/plain": [
       "<Figure size 640x480 with 2 Axes>"
      ]
     },
     "metadata": {},
     "output_type": "display_data"
    }
   ],
   "source": [
    "plt.scatter(df['x1'], df['x2'], c = conf_level, cmap='seismic')\n",
    "plt.colorbar();"
   ]
  },
  {
   "cell_type": "markdown",
   "metadata": {
    "id": "V8ixVkZ9nkYt",
    "outputId": "afe9f1f0-32df-4bab-b782-519c839a99e5"
   },
   "source": [
    "#### 9. Do the same with the second model"
   ]
  },
  {
   "cell_type": "code",
   "execution_count": 37,
   "metadata": {},
   "outputs": [
    {
     "data": {
      "image/png": "[encoded data removed]",
      "text/plain": [
       "<Figure size 640x480 with 2 Axes>"
      ]
     },
     "metadata": {},
     "output_type": "display_data"
    }
   ],
   "source": [
    "conf_level = svc_2.decision_function(df[['x1','x2']])\n",
    "plt.scatter(df['x1'], df['x2'], c = conf_level, cmap='seismic')\n",
    "plt.colorbar();"
   ]
  },
  {
   "cell_type": "code",
   "execution_count": 38,
   "metadata": {},
   "outputs": [
    {
     "data": {
      "text/plain": [
       "array([1.45937703, 3.79950609])"
      ]
     },
     "execution_count": 38,
     "metadata": {},
     "output_type": "execute_result"
    }
   ],
   "source": [
    "svc_2.coef_[0]"
   ]
  },
  {
   "cell_type": "code",
   "execution_count": 39,
   "metadata": {},
   "outputs": [
    {
     "data": {
      "text/plain": [
       "array([-15.57905544])"
      ]
     },
     "execution_count": 39,
     "metadata": {},
     "output_type": "execute_result"
    }
   ],
   "source": [
    "svc_2.intercept_"
   ]
  },
  {
   "cell_type": "code",
   "execution_count": 40,
   "metadata": {},
   "outputs": [
    {
     "data": {
      "image/png": "[encoded data removed]",
      "text/plain": [
       "<Figure size 640x480 with 2 Axes>"
      ]
     },
     "metadata": {},
     "output_type": "display_data"
    }
   ],
   "source": [
    "w = svc_2.coef_[0]           # w consists of 2 elements\n",
    "b = svc_2.intercept_[0]      # b consists of 1 element\n",
    "x_points = df['x1'].sort_values()    # generating x-points\n",
    "y_points = -(w[0] / w[1]) * x_points - b / w[1]  # getting \n",
    "\n",
    "plt.scatter(df['x1'], df['x2'], c = conf_level, cmap='seismic')\n",
    "plt.plot(x_points, y_points, c='k')\n",
    "plt.colorbar();"
   ]
  },
  {
   "cell_type": "code",
   "execution_count": 42,
   "metadata": {},
   "outputs": [
    {
     "data": {
      "image/png": "[encoded data removed]",
      "text/plain": [
       "<Figure size 640x480 with 2 Axes>"
      ]
     },
     "metadata": {},
     "output_type": "display_data"
    }
   ],
   "source": [
    "conf_level = svc.decision_function(df[['x1','x2']])\n",
    "w = svc.coef_[0]           # w consists of 2 elements\n",
    "b = svc.intercept_[0]      # b consists of 1 element\n",
    "x_points = df['x1'].sort_values()    # generating x-points\n",
    "y_points = -(w[0] / w[1]) * x_points - b / w[1]  # getting \n",
    "\n",
    "plt.scatter(df['x1'], df['x2'], c = conf_level, cmap='seismic')\n",
    "plt.plot(x_points, y_points, c='k')\n",
    "plt.colorbar();"
   ]
  },
  {
   "cell_type": "markdown",
   "metadata": {
    "id": "J12IY0QCnkYz"
   },
   "source": [
    "Now we're going to move from a linear SVM to one that's capable of non-linear classification using kernels.  We're first tasked with implementing a gaussian kernel function.  Although scikit-learn has a gaussian kernel built in, for transparency we'll implement one from scratch.\n",
    "\n",
    "## Exercise 2"
   ]
  },
  {
   "cell_type": "markdown",
   "metadata": {
    "id": "DMvQlK0wnkY4"
   },
   "source": [
    "That result matches the expected value from the exercise.  Next we're going to examine another data set, this time with a non-linear decision boundary."
   ]
  },
  {
   "cell_type": "markdown",
   "metadata": {},
   "source": [
    "#### 1. Load the data `ejer_1_data2.mat`"
   ]
  },
  {
   "cell_type": "code",
   "execution_count": 50,
   "metadata": {},
   "outputs": [
    {
     "data": {
      "text/plain": [
       "{'__header__': b'MATLAB 5.0 MAT-file, Platform: GLNXA64, Created on: Sun Nov 13 14:28:54 2011',\n",
       " '__version__': '1.0',\n",
       " '__globals__': [],\n",
       " 'X': array([[0.107143 , 0.60307  ],\n",
       "        [0.093318 , 0.649854 ],\n",
       "        [0.0979263, 0.705409 ],\n",
       "        ...,\n",
       "        [0.975806 , 0.439474 ],\n",
       "        [0.989631 , 0.425439 ],\n",
       "        [0.996544 , 0.414912 ]]),\n",
       " 'y': array([[1],\n",
       "        [1],\n",
       "        [1],\n",
       "        [1],\n",
       "        [1],\n",
       "        [1],\n",
       "        [1],\n",
       "        [1],\n",
       "        [1],\n",
       "        [1],\n",
       "        [1],\n",
       "        [1],\n",
       "        [1],\n",
       "        [1],\n",
       "        [1],\n",
       "        [1],\n",
       "        [1],\n",
       "        [1],\n",
       "        [1],\n",
       "        [1],\n",
       "        [1],\n",
       "        [1],\n",
       "        [1],\n",
       "        [1],\n",
       "        [1],\n",
       "        [1],\n",
       "        [1],\n",
       "        [1],\n",
       "        [1],\n",
       "        [1],\n",
       "        [1],\n",
       "        [1],\n",
       "        [1],\n",
       "        [1],\n",
       "        [1],\n",
       "        [1],\n",
       "        [1],\n",
       "        [1],\n",
       "        [1],\n",
       "        [1],\n",
       "        [1],\n",
       "        [1],\n",
       "        [1],\n",
       "        [1],\n",
       "        [1],\n",
       "        [1],\n",
       "        [1],\n",
       "        [1],\n",
       "        [1],\n",
       "        [1],\n",
       "        [1],\n",
       "        [1],\n",
       "        [1],\n",
       "        [1],\n",
       "        [1],\n",
       "        [1],\n",
       "        [1],\n",
       "        [1],\n",
       "        [1],\n",
       "        [1],\n",
       "        [1],\n",
       "        [1],\n",
       "        [1],\n",
       "        [1],\n",
       "        [1],\n",
       "        [1],\n",
       "        [1],\n",
       "        [1],\n",
       "        [1],\n",
       "        [1],\n",
       "        [1],\n",
       "        [1],\n",
       "        [1],\n",
       "        [1],\n",
       "        [1],\n",
       "        [1],\n",
       "        [1],\n",
       "        [1],\n",
       "        [1],\n",
       "        [1],\n",
       "        [1],\n",
       "        [1],\n",
       "        [1],\n",
       "        [1],\n",
       "        [1],\n",
       "        [1],\n",
       "        [1],\n",
       "        [1],\n",
       "        [1],\n",
       "        [1],\n",
       "        [1],\n",
       "        [1],\n",
       "        [1],\n",
       "        [1],\n",
       "        [1],\n",
       "        [1],\n",
       "        [1],\n",
       "        [1],\n",
       "        [1],\n",
       "        [1],\n",
       "        [1],\n",
       "        [1],\n",
       "        [1],\n",
       "        [1],\n",
       "        [1],\n",
       "        [1],\n",
       "        [1],\n",
       "        [1],\n",
       "        [1],\n",
       "        [1],\n",
       "        [1],\n",
       "        [1],\n",
       "        [1],\n",
       "        [1],\n",
       "        [1],\n",
       "        [1],\n",
       "        [1],\n",
       "        [1],\n",
       "        [1],\n",
       "        [1],\n",
       "        [1],\n",
       "        [1],\n",
       "        [1],\n",
       "        [1],\n",
       "        [1],\n",
       "        [1],\n",
       "        [1],\n",
       "        [1],\n",
       "        [1],\n",
       "        [1],\n",
       "        [1],\n",
       "        [1],\n",
       "        [1],\n",
       "        [1],\n",
       "        [1],\n",
       "        [1],\n",
       "        [1],\n",
       "        [1],\n",
       "        [1],\n",
       "        [1],\n",
       "        [1],\n",
       "        [1],\n",
       "        [1],\n",
       "        [1],\n",
       "        [1],\n",
       "        [1],\n",
       "        [1],\n",
       "        [1],\n",
       "        [1],\n",
       "        [1],\n",
       "        [1],\n",
       "        [1],\n",
       "        [1],\n",
       "        [1],\n",
       "        [1],\n",
       "        [1],\n",
       "        [1],\n",
       "        [1],\n",
       "        [1],\n",
       "        [1],\n",
       "        [1],\n",
       "        [1],\n",
       "        [1],\n",
       "        [1],\n",
       "        [1],\n",
       "        [1],\n",
       "        [1],\n",
       "        [1],\n",
       "        [1],\n",
       "        [1],\n",
       "        [1],\n",
       "        [1],\n",
       "        [1],\n",
       "        [1],\n",
       "        [1],\n",
       "        [1],\n",
       "        [1],\n",
       "        [1],\n",
       "        [1],\n",
       "        [1],\n",
       "        [1],\n",
       "        [1],\n",
       "        [1],\n",
       "        [1],\n",
       "        [1],\n",
       "        [1],\n",
       "        [1],\n",
       "        [1],\n",
       "        [1],\n",
       "        [1],\n",
       "        [1],\n",
       "        [1],\n",
       "        [1],\n",
       "        [0],\n",
       "        [0],\n",
       "        [0],\n",
       "        [0],\n",
       "        [0],\n",
       "        [0],\n",
       "        [0],\n",
       "        [0],\n",
       "        [0],\n",
       "        [0],\n",
       "        [0],\n",
       "        [0],\n",
       "        [0],\n",
       "        [0],\n",
       "        [0],\n",
       "        [0],\n",
       "        [0],\n",
       "        [0],\n",
       "        [0],\n",
       "        [0],\n",
       "        [0],\n",
       "        [0],\n",
       "        [0],\n",
       "        [0],\n",
       "        [0],\n",
       "        [0],\n",
       "        [0],\n",
       "        [0],\n",
       "        [0],\n",
       "        [0],\n",
       "        [0],\n",
       "        [0],\n",
       "        [0],\n",
       "        [0],\n",
       "        [0],\n",
       "        [0],\n",
       "        [0],\n",
       "        [0],\n",
       "        [0],\n",
       "        [0],\n",
       "        [0],\n",
       "        [0],\n",
       "        [0],\n",
       "        [0],\n",
       "        [0],\n",
       "        [0],\n",
       "        [0],\n",
       "        [0],\n",
       "        [0],\n",
       "        [0],\n",
       "        [0],\n",
       "        [0],\n",
       "        [0],\n",
       "        [0],\n",
       "        [0],\n",
       "        [0],\n",
       "        [0],\n",
       "        [0],\n",
       "        [0],\n",
       "        [0],\n",
       "        [0],\n",
       "        [0],\n",
       "        [0],\n",
       "        [0],\n",
       "        [0],\n",
       "        [0],\n",
       "        [0],\n",
       "        [0],\n",
       "        [0],\n",
       "        [0],\n",
       "        [0],\n",
       "        [0],\n",
       "        [0],\n",
       "        [0],\n",
       "        [0],\n",
       "        [0],\n",
       "        [0],\n",
       "        [0],\n",
       "        [0],\n",
       "        [0],\n",
       "        [0],\n",
       "        [0],\n",
       "        [0],\n",
       "        [0],\n",
       "        [0],\n",
       "        [0],\n",
       "        [0],\n",
       "        [0],\n",
       "        [0],\n",
       "        [0],\n",
       "        [0],\n",
       "        [0],\n",
       "        [0],\n",
       "        [0],\n",
       "        [0],\n",
       "        [0],\n",
       "        [0],\n",
       "        [0],\n",
       "        [0],\n",
       "        [0],\n",
       "        [0],\n",
       "        [0],\n",
       "        [0],\n",
       "        [0],\n",
       "        [0],\n",
       "        [0],\n",
       "        [0],\n",
       "        [0],\n",
       "        [0],\n",
       "        [0],\n",
       "        [0],\n",
       "        [0],\n",
       "        [0],\n",
       "        [0],\n",
       "        [0],\n",
       "        [0],\n",
       "        [0],\n",
       "        [0],\n",
       "        [0],\n",
       "        [0],\n",
       "        [0],\n",
       "        [0],\n",
       "        [0],\n",
       "        [0],\n",
       "        [0],\n",
       "        [0],\n",
       "        [0],\n",
       "        [0],\n",
       "        [0],\n",
       "        [0],\n",
       "        [0],\n",
       "        [1],\n",
       "        [1],\n",
       "        [1],\n",
       "        [1],\n",
       "        [1],\n",
       "        [1],\n",
       "        [1],\n",
       "        [1],\n",
       "        [1],\n",
       "        [1],\n",
       "        [1],\n",
       "        [1],\n",
       "        [1],\n",
       "        [1],\n",
       "        [1],\n",
       "        [1],\n",
       "        [1],\n",
       "        [1],\n",
       "        [1],\n",
       "        [1],\n",
       "        [1],\n",
       "        [1],\n",
       "        [1],\n",
       "        [1],\n",
       "        [1],\n",
       "        [1],\n",
       "        [1],\n",
       "        [1],\n",
       "        [1],\n",
       "        [1],\n",
       "        [1],\n",
       "        [1],\n",
       "        [1],\n",
       "        [1],\n",
       "        [1],\n",
       "        [1],\n",
       "        [1],\n",
       "        [1],\n",
       "        [1],\n",
       "        [1],\n",
       "        [1],\n",
       "        [1],\n",
       "        [1],\n",
       "        [1],\n",
       "        [1],\n",
       "        [1],\n",
       "        [1],\n",
       "        [1],\n",
       "        [1],\n",
       "        [1],\n",
       "        [1],\n",
       "        [1],\n",
       "        [1],\n",
       "        [0],\n",
       "        [0],\n",
       "        [0],\n",
       "        [0],\n",
       "        [0],\n",
       "        [0],\n",
       "        [0],\n",
       "        [0],\n",
       "        [0],\n",
       "        [0],\n",
       "        [0],\n",
       "        [0],\n",
       "        [0],\n",
       "        [0],\n",
       "        [0],\n",
       "        [0],\n",
       "        [0],\n",
       "        [0],\n",
       "        [0],\n",
       "        [0],\n",
       "        [0],\n",
       "        [0],\n",
       "        [0],\n",
       "        [0],\n",
       "        [0],\n",
       "        [0],\n",
       "        [0],\n",
       "        [0],\n",
       "        [0],\n",
       "        [1],\n",
       "        [1],\n",
       "        [1],\n",
       "        [1],\n",
       "        [1],\n",
       "        [1],\n",
       "        [1],\n",
       "        [1],\n",
       "        [1],\n",
       "        [1],\n",
       "        [1],\n",
       "        [1],\n",
       "        [1],\n",
       "        [1],\n",
       "        [1],\n",
       "        [1],\n",
       "        [1],\n",
       "        [1],\n",
       "        [1],\n",
       "        [1],\n",
       "        [1],\n",
       "        [1],\n",
       "        [1],\n",
       "        [1],\n",
       "        [1],\n",
       "        [1],\n",
       "        [1],\n",
       "        [1],\n",
       "        [1],\n",
       "        [1],\n",
       "        [1],\n",
       "        [1],\n",
       "        [1],\n",
       "        [1],\n",
       "        [1],\n",
       "        [1],\n",
       "        [1],\n",
       "        [1],\n",
       "        [1],\n",
       "        [1],\n",
       "        [1],\n",
       "        [1],\n",
       "        [1],\n",
       "        [1],\n",
       "        [1],\n",
       "        [1],\n",
       "        [1],\n",
       "        [0],\n",
       "        [0],\n",
       "        [0],\n",
       "        [0],\n",
       "        [0],\n",
       "        [0],\n",
       "        [0],\n",
       "        [0],\n",
       "        [0],\n",
       "        [0],\n",
       "        [0],\n",
       "        [0],\n",
       "        [0],\n",
       "        [0],\n",
       "        [0],\n",
       "        [0],\n",
       "        [0],\n",
       "        [0],\n",
       "        [0],\n",
       "        [0],\n",
       "        [0],\n",
       "        [0],\n",
       "        [0],\n",
       "        [0],\n",
       "        [0],\n",
       "        [0],\n",
       "        [0],\n",
       "        [0],\n",
       "        [0],\n",
       "        [0],\n",
       "        [0],\n",
       "        [0],\n",
       "        [0],\n",
       "        [0],\n",
       "        [0],\n",
       "        [0],\n",
       "        [0],\n",
       "        [0],\n",
       "        [0],\n",
       "        [0],\n",
       "        [0],\n",
       "        [0],\n",
       "        [0],\n",
       "        [0],\n",
       "        [0],\n",
       "        [0],\n",
       "        [0],\n",
       "        [0],\n",
       "        [0],\n",
       "        [0],\n",
       "        [0],\n",
       "        [0],\n",
       "        [0],\n",
       "        [0],\n",
       "        [0],\n",
       "        [0],\n",
       "        [0],\n",
       "        [0],\n",
       "        [0],\n",
       "        [0],\n",
       "        [0],\n",
       "        [0],\n",
       "        [0],\n",
       "        [0],\n",
       "        [1],\n",
       "        [1],\n",
       "        [1],\n",
       "        [1],\n",
       "        [1],\n",
       "        [1],\n",
       "        [1],\n",
       "        [1],\n",
       "        [1],\n",
       "        [1],\n",
       "        [1],\n",
       "        [1],\n",
       "        [1],\n",
       "        [1],\n",
       "        [1],\n",
       "        [1],\n",
       "        [1],\n",
       "        [1],\n",
       "        [1],\n",
       "        [1],\n",
       "        [1],\n",
       "        [1],\n",
       "        [1],\n",
       "        [1],\n",
       "        [1],\n",
       "        [1],\n",
       "        [0],\n",
       "        [0],\n",
       "        [0],\n",
       "        [0],\n",
       "        [0],\n",
       "        [0],\n",
       "        [0],\n",
       "        [0],\n",
       "        [0],\n",
       "        [0],\n",
       "        [0],\n",
       "        [0],\n",
       "        [0],\n",
       "        [0],\n",
       "        [0],\n",
       "        [0],\n",
       "        [0],\n",
       "        [0],\n",
       "        [0],\n",
       "        [0],\n",
       "        [0],\n",
       "        [0],\n",
       "        [0],\n",
       "        [0],\n",
       "        [0],\n",
       "        [0],\n",
       "        [0],\n",
       "        [0],\n",
       "        [0],\n",
       "        [0],\n",
       "        [0],\n",
       "        [0],\n",
       "        [0],\n",
       "        [1],\n",
       "        [1],\n",
       "        [1],\n",
       "        [1],\n",
       "        [1],\n",
       "        [1],\n",
       "        [1],\n",
       "        [1],\n",
       "        [1],\n",
       "        [1],\n",
       "        [1],\n",
       "        [1],\n",
       "        [1],\n",
       "        [1],\n",
       "        [1],\n",
       "        [1],\n",
       "        [1],\n",
       "        [1],\n",
       "        [1],\n",
       "        [1],\n",
       "        [1],\n",
       "        [1],\n",
       "        [1],\n",
       "        [1],\n",
       "        [1],\n",
       "        [1],\n",
       "        [1],\n",
       "        [1],\n",
       "        [1],\n",
       "        [1],\n",
       "        [1],\n",
       "        [1],\n",
       "        [1],\n",
       "        [1],\n",
       "        [1],\n",
       "        [1],\n",
       "        [1],\n",
       "        [1],\n",
       "        [1],\n",
       "        [1],\n",
       "        [1],\n",
       "        [1],\n",
       "        [1],\n",
       "        [1],\n",
       "        [1],\n",
       "        [1],\n",
       "        [0],\n",
       "        [0],\n",
       "        [0],\n",
       "        [0],\n",
       "        [0],\n",
       "        [0],\n",
       "        [0],\n",
       "        [0],\n",
       "        [0],\n",
       "        [0],\n",
       "        [0],\n",
       "        [0],\n",
       "        [0],\n",
       "        [0],\n",
       "        [0],\n",
       "        [0],\n",
       "        [0],\n",
       "        [0],\n",
       "        [0],\n",
       "        [0],\n",
       "        [0],\n",
       "        [0],\n",
       "        [0],\n",
       "        [0],\n",
       "        [0],\n",
       "        [0],\n",
       "        [0],\n",
       "        [0],\n",
       "        [0],\n",
       "        [0],\n",
       "        [0],\n",
       "        [0],\n",
       "        [0],\n",
       "        [0],\n",
       "        [0],\n",
       "        [0],\n",
       "        [0],\n",
       "        [0],\n",
       "        [0],\n",
       "        [0],\n",
       "        [0],\n",
       "        [0],\n",
       "        [0],\n",
       "        [0],\n",
       "        [0],\n",
       "        [0],\n",
       "        [0],\n",
       "        [0],\n",
       "        [0],\n",
       "        [0],\n",
       "        [0],\n",
       "        [0],\n",
       "        [0],\n",
       "        [0],\n",
       "        [0],\n",
       "        [0],\n",
       "        [0],\n",
       "        [0],\n",
       "        [0],\n",
       "        [0],\n",
       "        [0],\n",
       "        [0],\n",
       "        [0],\n",
       "        [0],\n",
       "        [0],\n",
       "        [1],\n",
       "        [1],\n",
       "        [1],\n",
       "        [1],\n",
       "        [1],\n",
       "        [1],\n",
       "        [1],\n",
       "        [1],\n",
       "        [1],\n",
       "        [1],\n",
       "        [1],\n",
       "        [1],\n",
       "        [1],\n",
       "        [1],\n",
       "        [1],\n",
       "        [1],\n",
       "        [1],\n",
       "        [1],\n",
       "        [1],\n",
       "        [1],\n",
       "        [1],\n",
       "        [1],\n",
       "        [1],\n",
       "        [1],\n",
       "        [1],\n",
       "        [1],\n",
       "        [1],\n",
       "        [1],\n",
       "        [1],\n",
       "        [1],\n",
       "        [1],\n",
       "        [1],\n",
       "        [1],\n",
       "        [1],\n",
       "        [1],\n",
       "        [1],\n",
       "        [1],\n",
       "        [1],\n",
       "        [1],\n",
       "        [1],\n",
       "        [1],\n",
       "        [1],\n",
       "        [1],\n",
       "        [1],\n",
       "        [1],\n",
       "        [1],\n",
       "        [1],\n",
       "        [1],\n",
       "        [1],\n",
       "        [1],\n",
       "        [1],\n",
       "        [1],\n",
       "        [1],\n",
       "        [1],\n",
       "        [1],\n",
       "        [1],\n",
       "        [1],\n",
       "        [1],\n",
       "        [1],\n",
       "        [1],\n",
       "        [1],\n",
       "        [1],\n",
       "        [1],\n",
       "        [1],\n",
       "        [1],\n",
       "        [0],\n",
       "        [0],\n",
       "        [0],\n",
       "        [0],\n",
       "        [0],\n",
       "        [0],\n",
       "        [0],\n",
       "        [0],\n",
       "        [0],\n",
       "        [0],\n",
       "        [0],\n",
       "        [0],\n",
       "        [0],\n",
       "        [0],\n",
       "        [0],\n",
       "        [0],\n",
       "        [0],\n",
       "        [0],\n",
       "        [0],\n",
       "        [0],\n",
       "        [0],\n",
       "        [0],\n",
       "        [0],\n",
       "        [0],\n",
       "        [0],\n",
       "        [0],\n",
       "        [0],\n",
       "        [0],\n",
       "        [0],\n",
       "        [0],\n",
       "        [0],\n",
       "        [0],\n",
       "        [0],\n",
       "        [0],\n",
       "        [0],\n",
       "        [0],\n",
       "        [0],\n",
       "        [0],\n",
       "        [0],\n",
       "        [0],\n",
       "        [0],\n",
       "        [0],\n",
       "        [0],\n",
       "        [0],\n",
       "        [0],\n",
       "        [0],\n",
       "        [0],\n",
       "        [0],\n",
       "        [0],\n",
       "        [0],\n",
       "        [0],\n",
       "        [0],\n",
       "        [0],\n",
       "        [0],\n",
       "        [0],\n",
       "        [0],\n",
       "        [0],\n",
       "        [0],\n",
       "        [0],\n",
       "        [0],\n",
       "        [0],\n",
       "        [1],\n",
       "        [1],\n",
       "        [1],\n",
       "        [1],\n",
       "        [1],\n",
       "        [1],\n",
       "        [1],\n",
       "        [1],\n",
       "        [1],\n",
       "        [1],\n",
       "        [1],\n",
       "        [1],\n",
       "        [1],\n",
       "        [1],\n",
       "        [1],\n",
       "        [1],\n",
       "        [1],\n",
       "        [1],\n",
       "        [1],\n",
       "        [1],\n",
       "        [1],\n",
       "        [1],\n",
       "        [1],\n",
       "        [1],\n",
       "        [1],\n",
       "        [1],\n",
       "        [1],\n",
       "        [1],\n",
       "        [1],\n",
       "        [1],\n",
       "        [1],\n",
       "        [1],\n",
       "        [1],\n",
       "        [1],\n",
       "        [1],\n",
       "        [1],\n",
       "        [1],\n",
       "        [1],\n",
       "        [1],\n",
       "        [1],\n",
       "        [1],\n",
       "        [1],\n",
       "        [1],\n",
       "        [1],\n",
       "        [1],\n",
       "        [1],\n",
       "        [1],\n",
       "        [1],\n",
       "        [1],\n",
       "        [1]], dtype=uint8)}"
      ]
     },
     "execution_count": 50,
     "metadata": {},
     "output_type": "execute_result"
    }
   ],
   "source": [
    "from scipy.io import loadmat\n",
    "\n",
    "mat = loadmat('data/ejer_1_data2.mat')\n",
    "mat"
   ]
  },
  {
   "cell_type": "code",
   "execution_count": 51,
   "metadata": {},
   "outputs": [
    {
     "data": {
      "text/plain": [
       "dict_keys(['__header__', '__version__', '__globals__', 'X', 'y'])"
      ]
     },
     "execution_count": 51,
     "metadata": {},
     "output_type": "execute_result"
    }
   ],
   "source": [
    "mat.keys()"
   ]
  },
  {
   "cell_type": "markdown",
   "metadata": {},
   "source": [
    "#### 2. Create a DataFrame with the features and target"
   ]
  },
  {
   "cell_type": "code",
   "execution_count": 52,
   "metadata": {},
   "outputs": [
    {
     "data": {
      "text/html": [
       "<div>\n",
       "<style scoped>\n",
       "    .dataframe tbody tr th:only-of-type {\n",
       "        vertical-align: middle;\n",
       "    }\n",
       "\n",
       "    .dataframe tbody tr th {\n",
       "        vertical-align: top;\n",
       "    }\n",
       "\n",
       "    .dataframe thead th {\n",
       "        text-align: right;\n",
       "    }\n",
       "</style>\n",
       "<table border=\"1\" class=\"dataframe\">\n",
       "  <thead>\n",
       "    <tr style=\"text-align: right;\">\n",
       "      <th></th>\n",
       "      <th>x1</th>\n",
       "      <th>x2</th>\n",
       "      <th>y</th>\n",
       "      <th>y</th>\n",
       "    </tr>\n",
       "  </thead>\n",
       "  <tbody>\n",
       "    <tr>\n",
       "      <th>0</th>\n",
       "      <td>0.107143</td>\n",
       "      <td>0.603070</td>\n",
       "      <td>1</td>\n",
       "      <td>1</td>\n",
       "    </tr>\n",
       "    <tr>\n",
       "      <th>1</th>\n",
       "      <td>0.093318</td>\n",
       "      <td>0.649854</td>\n",
       "      <td>1</td>\n",
       "      <td>1</td>\n",
       "    </tr>\n",
       "    <tr>\n",
       "      <th>2</th>\n",
       "      <td>0.097926</td>\n",
       "      <td>0.705409</td>\n",
       "      <td>1</td>\n",
       "      <td>1</td>\n",
       "    </tr>\n",
       "    <tr>\n",
       "      <th>3</th>\n",
       "      <td>0.155530</td>\n",
       "      <td>0.784357</td>\n",
       "      <td>1</td>\n",
       "      <td>1</td>\n",
       "    </tr>\n",
       "    <tr>\n",
       "      <th>4</th>\n",
       "      <td>0.210829</td>\n",
       "      <td>0.866228</td>\n",
       "      <td>1</td>\n",
       "      <td>1</td>\n",
       "    </tr>\n",
       "  </tbody>\n",
       "</table>\n",
       "</div>"
      ],
      "text/plain": [
       "         x1        x2  y  y\n",
       "0  0.107143  0.603070  1  1\n",
       "1  0.093318  0.649854  1  1\n",
       "2  0.097926  0.705409  1  1\n",
       "3  0.155530  0.784357  1  1\n",
       "4  0.210829  0.866228  1  1"
      ]
     },
     "execution_count": 52,
     "metadata": {},
     "output_type": "execute_result"
    }
   ],
   "source": [
    "df_1 = pd.DataFrame(mat[\"X\"], columns=[\"x1\", \"x2\"])\n",
    "df_1 = pd.concat([df, pd.DataFrame(mat[\"y\"], columns=[\"y\"])], axis=1)\n",
    "df_1.head()"
   ]
  },
  {
   "cell_type": "code",
   "execution_count": 4,
   "metadata": {},
   "outputs": [
    {
     "data": {
      "text/html": [
       "<div>\n",
       "<style scoped>\n",
       "    .dataframe tbody tr th:only-of-type {\n",
       "        vertical-align: middle;\n",
       "    }\n",
       "\n",
       "    .dataframe tbody tr th {\n",
       "        vertical-align: top;\n",
       "    }\n",
       "\n",
       "    .dataframe thead th {\n",
       "        text-align: right;\n",
       "    }\n",
       "</style>\n",
       "<table border=\"1\" class=\"dataframe\">\n",
       "  <thead>\n",
       "    <tr style=\"text-align: right;\">\n",
       "      <th></th>\n",
       "      <th>x1</th>\n",
       "      <th>x2</th>\n",
       "      <th>y</th>\n",
       "    </tr>\n",
       "  </thead>\n",
       "  <tbody>\n",
       "    <tr>\n",
       "      <th>0</th>\n",
       "      <td>0.107143</td>\n",
       "      <td>0.603070</td>\n",
       "      <td>1</td>\n",
       "    </tr>\n",
       "    <tr>\n",
       "      <th>1</th>\n",
       "      <td>0.093318</td>\n",
       "      <td>0.649854</td>\n",
       "      <td>1</td>\n",
       "    </tr>\n",
       "    <tr>\n",
       "      <th>2</th>\n",
       "      <td>0.097926</td>\n",
       "      <td>0.705409</td>\n",
       "      <td>1</td>\n",
       "    </tr>\n",
       "    <tr>\n",
       "      <th>3</th>\n",
       "      <td>0.155530</td>\n",
       "      <td>0.784357</td>\n",
       "      <td>1</td>\n",
       "    </tr>\n",
       "    <tr>\n",
       "      <th>4</th>\n",
       "      <td>0.210829</td>\n",
       "      <td>0.866228</td>\n",
       "      <td>1</td>\n",
       "    </tr>\n",
       "  </tbody>\n",
       "</table>\n",
       "</div>"
      ],
      "text/plain": [
       "         x1        x2  y\n",
       "0  0.107143  0.603070  1\n",
       "1  0.093318  0.649854  1\n",
       "2  0.097926  0.705409  1\n",
       "3  0.155530  0.784357  1\n",
       "4  0.210829  0.866228  1"
      ]
     },
     "execution_count": 4,
     "metadata": {},
     "output_type": "execute_result"
    }
   ],
   "source": []
  },
  {
   "cell_type": "code",
   "execution_count": 7,
   "metadata": {},
   "outputs": [
    {
     "data": {
      "text/plain": [
       "1    480\n",
       "0    383\n",
       "Name: y, dtype: int64"
      ]
     },
     "execution_count": 7,
     "metadata": {},
     "output_type": "execute_result"
    }
   ],
   "source": [
    "df['y'].value_counts()"
   ]
  },
  {
   "cell_type": "markdown",
   "metadata": {},
   "source": [
    "#### 3. Plot a scatterplot with the data"
   ]
  },
  {
   "cell_type": "code",
   "execution_count": 9,
   "metadata": {},
   "outputs": [
    {
     "data": {
      "image/png": "[encoded data removed]",
      "text/plain": [
       "<Figure size 432x288 with 1 Axes>"
      ]
     },
     "metadata": {
      "needs_background": "light"
     },
     "output_type": "display_data"
    }
   ],
   "source": [
    "sns.scatterplot(data=df, x='x1', y=\"x2\", hue=\"y\");"
   ]
  },
  {
   "cell_type": "markdown",
   "metadata": {
    "id": "LIRNjrjwnkY7"
   },
   "source": [
    "For this data set we'll build a support vector machine classifier using the built-in RBF kernel and examine its accuracy on the training data.  To visualize the decision boundary, this time we'll shade the points based on the predicted probability that the instance has a negative class label.  We'll see from the result that it gets most of them right."
   ]
  },
  {
   "cell_type": "markdown",
   "metadata": {},
   "source": [
    "#### 4. Declare a SVC with this hyperparameters\n",
    "```Python\n",
    "SVC(C=100, gamma=10, probability=True)\n",
    "```\n"
   ]
  },
  {
   "cell_type": "code",
   "execution_count": 20,
   "metadata": {},
   "outputs": [],
   "source": [
    "from sklearn.svm import SVC\n"
   ]
  },
  {
   "cell_type": "markdown",
   "metadata": {},
   "source": [
    "#### 5. Fit the classifier and get the score"
   ]
  },
  {
   "cell_type": "code",
   "execution_count": 21,
   "metadata": {},
   "outputs": [
    {
     "data": {
      "text/plain": [
       "0.9698725376593279"
      ]
     },
     "execution_count": 21,
     "metadata": {},
     "output_type": "execute_result"
    }
   ],
   "source": [
    "svc.fit(df[['x1','x2']], df['y'])\n",
    "svc.score(df[['x1','x2']], df['y'])"
   ]
  },
  {
   "cell_type": "markdown",
   "metadata": {},
   "source": [
    "#### 6. Plot the scatter plot and probability of predicting 0 with a [sequential color](https://matplotlib.org/3.1.1/tutorials/colors/colormaps.html)"
   ]
  },
  {
   "cell_type": "code",
   "execution_count": 14,
   "metadata": {},
   "outputs": [
    {
     "data": {
      "text/plain": [
       "array([3.00000090e-14, 3.00000090e-14, 3.00000090e-14, 1.94004333e-06,\n",
       "       7.81922850e-03, 3.64288094e-03, 2.85829666e-07, 1.38258813e-02,\n",
       "       3.00000090e-14, 3.00000090e-14, 1.82296958e-13, 1.59871376e-02,\n",
       "       5.42095102e-11, 3.00000090e-14, 3.00000090e-14, 1.93570101e-09,\n",
       "       2.62480091e-01, 5.74566838e-01, 2.37203020e-13, 3.00000090e-14,\n",
       "       1.84817204e-02, 2.82388615e-03, 1.14741976e-02, 1.35197232e-01,\n",
       "       2.31251883e-02, 5.58543942e-06, 2.92181325e-06, 7.37731684e-07,\n",
       "       7.94129980e-06, 2.84489599e-02, 1.74723189e-01, 3.44655803e-02,\n",
       "       3.00000090e-14, 3.00000090e-14, 3.00000090e-14, 3.00000090e-14,\n",
       "       3.00000090e-14, 2.63885905e-12, 1.62774432e-09, 3.79649840e-13,\n",
       "       3.00000090e-14, 3.00000090e-14, 3.00000090e-14, 3.00000090e-14,\n",
       "       3.00000090e-14, 3.00000090e-14, 3.42765045e-14, 7.52440197e-10,\n",
       "       6.97277654e-13, 3.00000090e-14, 1.90030736e-08, 5.16145454e-07,\n",
       "       2.80620996e-03, 8.35999934e-13, 3.00000090e-14, 3.00000090e-14,\n",
       "       3.00000090e-14, 3.00000090e-14, 3.00000090e-14, 2.56776571e-10,\n",
       "       5.42572293e-09, 3.00000090e-14, 1.21634576e-13, 1.43742798e-05,\n",
       "       9.49336974e-07, 9.61533681e-08, 1.54308697e-07, 2.49505803e-07,\n",
       "       7.58223075e-06, 1.45067071e-06, 5.08359579e-09, 1.12930578e-10,\n",
       "       3.77587260e-08, 1.53422584e-08, 1.31315217e-07, 2.91425981e-08,\n",
       "       2.11263980e-08, 5.30307984e-07, 1.02989771e-06, 1.19197418e-06,\n",
       "       1.57148738e-05, 5.35654554e-03, 8.48585721e-03, 2.13555278e-02,\n",
       "       3.40564725e-03, 1.76838921e-05, 3.00914755e-07, 4.26112127e-08,\n",
       "       2.21911897e-08, 5.43464139e-07, 1.10580992e-05, 1.54514557e-02,\n",
       "       3.94785422e-03, 3.30620450e-03, 2.82190192e-03, 3.33938453e-07,\n",
       "       1.03897205e-08, 9.75462920e-07, 6.63446797e-14, 3.00000090e-14,\n",
       "       2.15980230e-07, 6.32797415e-09, 1.52310815e-09, 9.40855633e-06,\n",
       "       6.31661970e-03, 5.32664651e-07, 1.65561906e-07, 1.75243460e-05,\n",
       "       1.96368188e-01, 6.54260736e-01, 4.87716560e-02, 3.04677327e-10,\n",
       "       3.00000090e-14, 3.10121947e-12, 1.15659904e-07, 2.45935623e-02,\n",
       "       7.87291882e-06, 1.39896521e-13, 3.00000090e-14, 3.00000090e-14,\n",
       "       3.00000090e-14, 3.00000090e-14, 1.87858016e-11, 3.00000090e-14,\n",
       "       1.65683613e-08, 5.89658074e-03, 5.98812175e-03, 1.26997564e-05,\n",
       "       6.66066857e-07, 2.03162946e-06, 4.24368622e-03, 1.74838027e-05,\n",
       "       2.46295456e-06, 2.72103449e-06, 4.46102820e-08, 2.24848012e-07,\n",
       "       1.24463268e-05, 7.43822714e-03, 8.78343498e-03, 5.15707130e-03,\n",
       "       7.05964471e-07, 1.82087690e-05, 1.45871333e-07, 2.40674247e-06,\n",
       "       2.69027728e-11, 3.00000090e-14, 3.00000090e-14, 3.00000090e-14,\n",
       "       1.87003062e-02, 3.54951914e-03, 6.62540534e-02, 5.49861792e-02,\n",
       "       2.37285548e-02, 1.28558316e-02, 1.12425744e-02, 2.10556399e-02,\n",
       "       3.71126823e-02, 2.06365384e-02, 1.46949803e-02, 1.75175880e-02,\n",
       "       7.45891230e-02, 6.62454805e-02, 5.89036138e-02, 5.08560418e-02,\n",
       "       6.63225191e-02, 4.80400240e-03, 6.86578266e-07, 4.50339921e-03,\n",
       "       1.31891672e-01, 4.73463237e-03, 4.96459969e-14, 3.00000090e-14,\n",
       "       3.00000090e-14, 1.63987616e-13, 2.06444196e-08, 3.00000090e-14,\n",
       "       3.00000090e-14, 4.71575631e-09, 4.31664430e-03, 1.90353477e-13,\n",
       "       3.00000090e-14, 3.00000090e-14, 3.00000090e-14, 3.00000090e-14,\n",
       "       3.00000090e-14, 3.00000090e-14, 3.00000090e-14, 3.00000090e-14,\n",
       "       3.00000090e-14, 3.00000090e-14, 1.37701374e-11, 7.36873222e-06,\n",
       "       3.33586615e-01, 3.42678510e-01, 3.84698330e-01, 8.88980467e-01,\n",
       "       9.42484670e-01, 9.85359965e-01, 9.89020985e-01, 9.98258477e-01,\n",
       "       9.99129394e-01, 9.54822559e-01, 8.76353490e-01, 9.42649331e-01,\n",
       "       9.98763225e-01, 9.99776544e-01, 9.98497054e-01, 9.98883641e-01,\n",
       "       9.96090426e-01, 9.94487575e-01, 9.99537156e-01, 9.99656903e-01,\n",
       "       9.98523109e-01, 9.98525287e-01, 9.99961965e-01, 9.99993442e-01,\n",
       "       9.99990877e-01, 9.99913777e-01, 9.99964763e-01, 9.99991446e-01,\n",
       "       9.99990608e-01, 9.99982705e-01, 9.99901563e-01, 9.95043539e-01,\n",
       "       9.98697801e-01, 9.98563615e-01, 9.98927217e-01, 9.99895842e-01,\n",
       "       9.99952764e-01, 9.99985785e-01, 9.99995170e-01, 9.99994343e-01,\n",
       "       9.99986728e-01, 9.99934703e-01, 9.97305827e-01, 9.84515036e-01,\n",
       "       8.83893981e-01, 6.66752778e-01, 8.22394938e-01, 8.52931553e-01,\n",
       "       9.97350973e-01, 9.98868730e-01, 9.96829242e-01, 9.76232029e-01,\n",
       "       9.95369733e-01, 9.99520700e-01, 9.99965211e-01, 9.99985177e-01,\n",
       "       9.99992366e-01, 9.99986778e-01, 9.99922606e-01, 9.99946008e-01,\n",
       "       9.95274882e-01, 9.97493655e-01, 8.66168419e-01, 7.04114386e-01,\n",
       "       9.25581312e-01, 9.87999157e-01, 9.98655221e-01, 9.99800132e-01,\n",
       "       9.99945950e-01, 9.99419312e-01, 9.99774391e-01, 9.99833915e-01,\n",
       "       9.99331667e-01, 8.39799577e-01, 9.30441330e-01, 7.88763231e-01,\n",
       "       8.25437376e-01, 8.12142026e-01, 7.79106089e-01, 8.41244361e-01,\n",
       "       8.80667507e-01, 8.93054952e-01, 8.45111465e-01, 7.84930582e-01,\n",
       "       7.74658616e-01, 8.20949568e-01, 9.55196315e-01, 9.55345460e-01,\n",
       "       9.36049533e-01, 9.51760779e-01, 9.67357887e-01, 9.77646247e-01,\n",
       "       9.82963979e-01, 9.89971240e-01, 9.89761946e-01, 9.66035588e-01,\n",
       "       8.95989544e-01, 8.56288073e-01, 9.34604918e-01, 9.98066038e-01,\n",
       "       9.99208829e-01, 9.99789409e-01, 9.99747647e-01, 9.86867577e-01,\n",
       "       9.20052641e-01, 9.21714966e-01, 9.19007072e-01, 9.63076005e-01,\n",
       "       9.85459619e-01, 9.94463931e-01, 9.64203878e-01, 9.87749550e-01,\n",
       "       9.66818721e-01, 9.75595883e-01, 9.38001229e-01, 8.88907338e-01,\n",
       "       8.78408689e-01, 9.32152686e-01, 8.70992316e-01, 9.23095248e-01,\n",
       "       9.34201391e-01, 9.27315375e-01, 9.34188531e-01, 9.47581971e-01,\n",
       "       9.71171887e-01, 9.73834442e-01, 9.75406933e-01, 9.82210726e-01,\n",
       "       9.87769399e-01, 9.81142492e-01, 9.75213407e-01, 8.71880461e-01,\n",
       "       2.15925910e-02, 2.52634720e-01, 1.75455401e-01, 1.71312222e-02,\n",
       "       5.09788099e-01, 6.63151002e-02, 3.12293955e-02, 4.26656387e-02,\n",
       "       4.77258039e-02, 1.80199835e-07, 3.25707005e-10, 9.79999605e-07,\n",
       "       1.41492074e-07, 1.64137874e-08, 9.72406956e-09, 9.60805907e-08,\n",
       "       7.18295437e-07, 1.38601342e-11, 7.55713998e-14, 3.87332402e-13,\n",
       "       1.31444290e-12, 3.00000090e-14, 3.00000090e-14, 3.00000090e-14,\n",
       "       3.00000090e-14, 3.00000090e-14, 3.00000090e-14, 3.00000090e-14,\n",
       "       3.00000090e-14, 3.00000090e-14, 8.92380494e-10, 2.54808056e-09,\n",
       "       3.00000090e-14, 3.00000090e-14, 1.13833218e-02, 1.13833218e-02,\n",
       "       9.03562488e-07, 8.50126025e-10, 1.82084017e-06, 3.00000090e-14,\n",
       "       1.02740600e-08, 3.00000090e-14, 3.00000090e-14, 3.00000090e-14,\n",
       "       3.00000090e-14, 3.00000090e-14, 3.00000090e-14, 3.00000090e-14,\n",
       "       6.56315081e-08, 3.00000090e-14, 3.00000090e-14, 3.00000090e-14,\n",
       "       3.00000090e-14, 9.99972821e-01, 9.99864306e-01, 9.99952203e-01,\n",
       "       9.99993034e-01, 9.99929066e-01, 9.99881362e-01, 9.99613935e-01,\n",
       "       9.95840068e-01, 9.72315792e-01, 9.99817677e-01, 9.75426414e-01,\n",
       "       9.96977934e-01, 9.63257249e-01, 9.99060529e-01, 8.51327451e-01,\n",
       "       9.83780998e-01, 9.93573006e-01, 9.95904895e-01, 9.93616704e-01,\n",
       "       9.38014987e-01, 9.42931642e-01, 9.79853029e-01, 9.90716063e-01,\n",
       "       9.93684444e-01, 9.91626359e-01, 9.76804051e-01, 8.97837244e-01,\n",
       "       7.24744206e-01, 5.67580250e-01, 6.59292163e-02, 6.46550371e-02,\n",
       "       8.26660723e-02, 2.23064237e-01, 1.85753369e-01, 4.86802388e-02,\n",
       "       2.02018543e-02, 1.76483790e-02, 2.10820645e-02, 1.93848071e-02,\n",
       "       1.04498629e-02, 1.16279854e-02, 1.15486433e-02, 1.09177033e-02,\n",
       "       6.75092374e-03, 8.54093118e-03, 8.98847789e-03, 2.63308673e-02,\n",
       "       1.03434986e-01, 6.62478276e-01, 7.98057199e-01, 8.17691549e-01,\n",
       "       1.26588447e-01, 4.48965353e-02, 5.88434375e-02, 9.25089663e-02,\n",
       "       1.77718519e-01, 2.56107932e-01, 1.72248001e-01, 1.49333199e-01,\n",
       "       6.32105056e-02, 7.42334533e-03, 8.10665318e-03, 8.66936017e-03,\n",
       "       8.77852098e-03, 9.55760111e-03, 2.35327713e-01, 2.76481703e-01,\n",
       "       1.01605690e-01, 1.01605690e-01, 4.00898849e-02, 2.36954266e-01,\n",
       "       1.19151006e-02, 3.55967911e-02, 4.46927274e-02, 5.37360957e-02,\n",
       "       1.54191912e-01, 9.99961437e-01, 9.99970279e-01, 9.99993103e-01,\n",
       "       9.99987011e-01, 9.99976253e-01, 9.99980319e-01, 9.99959140e-01,\n",
       "       9.99812581e-01, 9.99976741e-01, 9.99975602e-01, 9.99992199e-01,\n",
       "       9.99994006e-01, 9.99987287e-01, 9.99946921e-01, 9.99938480e-01,\n",
       "       9.99654522e-01, 9.99613733e-01, 9.97661723e-01, 9.99638430e-01,\n",
       "       9.99986603e-01, 9.99989473e-01, 9.99985322e-01, 9.99506328e-01,\n",
       "       9.99923239e-01, 9.58880772e-01, 8.89072466e-01, 9.16928115e-01,\n",
       "       9.91400637e-01, 9.95974818e-01, 9.96540688e-01, 9.92498202e-01,\n",
       "       9.60577510e-01, 9.37290636e-01, 9.38703278e-01, 8.65686693e-01,\n",
       "       9.76894129e-01, 9.91927147e-01, 9.73754052e-01, 9.31511158e-01,\n",
       "       9.43109051e-01, 9.77832021e-01, 9.85935638e-01, 9.91328826e-01,\n",
       "       9.65641232e-01, 9.43035187e-01, 9.54491976e-01, 9.71634396e-01,\n",
       "       9.72764596e-01, 9.93845344e-01, 9.96619142e-01, 9.96707739e-01,\n",
       "       9.96953083e-01, 9.97033852e-01, 9.96991171e-01, 9.96982625e-01,\n",
       "       9.95533475e-01, 9.90543025e-01, 9.91743619e-01, 9.94616337e-01,\n",
       "       9.97141635e-01, 9.96544592e-01, 9.93368590e-01, 9.82523234e-01,\n",
       "       9.61903468e-01, 2.50155317e-06, 1.05806099e-11, 8.88599446e-11,\n",
       "       3.00000090e-14, 3.00000090e-14, 3.00000090e-14, 3.00000090e-14,\n",
       "       9.73909478e-13, 3.00000090e-14, 3.02112808e-09, 7.44360484e-10,\n",
       "       1.45743120e-06, 9.96939241e-10, 2.97850878e-01, 3.00000090e-14,\n",
       "       3.10814946e-09, 3.00000090e-14, 3.00000090e-14, 3.00000090e-14,\n",
       "       3.00000090e-14, 3.00000090e-14, 3.00000090e-14, 3.00000090e-14,\n",
       "       3.00000090e-14, 3.00000090e-14, 3.57373503e-03, 9.88216237e-01,\n",
       "       9.36196743e-01, 8.88876056e-01, 8.45523212e-01, 9.12461458e-01,\n",
       "       9.35607918e-01, 8.83775651e-01, 9.38380177e-01, 9.51139006e-01,\n",
       "       9.66828967e-01, 9.72178157e-01, 9.74159576e-01, 9.73958609e-01,\n",
       "       9.73321278e-01, 9.84802829e-01, 9.63559257e-01, 9.06723949e-01,\n",
       "       9.47975387e-01, 9.38744976e-01, 9.17832179e-01, 8.88957401e-01,\n",
       "       9.33081060e-01, 8.89032348e-01, 9.38159789e-01, 9.71737339e-01,\n",
       "       9.89703652e-01, 9.93303184e-01, 9.95677841e-01, 9.76642161e-01,\n",
       "       9.77467861e-01, 9.98535088e-01, 9.99756917e-01, 9.97220366e-01,\n",
       "       6.63154968e-02, 3.00000090e-14, 3.00000090e-14, 3.00000090e-14,\n",
       "       3.00000090e-14, 3.00000090e-14, 3.00000090e-14, 2.51021371e-11,\n",
       "       3.66435810e-03, 6.63284917e-02, 2.31982455e-02, 7.88229253e-09,\n",
       "       3.00000090e-14, 3.00000090e-14, 3.00000090e-14, 3.00000090e-14,\n",
       "       3.00000090e-14, 1.09803644e-10, 3.00000090e-14, 3.00000090e-14,\n",
       "       9.55128312e-14, 3.00000090e-14, 3.39364366e-13, 1.47678464e-12,\n",
       "       4.49995977e-07, 5.82363073e-06, 4.45871794e-02, 1.28258391e-01,\n",
       "       2.70016145e-01, 3.52229550e-01, 6.45554672e-01, 8.68919479e-01,\n",
       "       9.14827662e-01, 8.18872944e-01, 4.61420509e-01, 2.33596714e-01,\n",
       "       5.41738568e-02, 5.64146470e-03, 3.18730997e-06, 5.11400867e-06,\n",
       "       2.45583460e-02, 2.71657212e-01, 6.45554672e-01, 9.30257683e-01,\n",
       "       9.48420682e-01, 7.67495928e-01, 9.82005934e-01, 9.82788339e-01,\n",
       "       9.48478896e-01, 9.33947117e-01, 9.12001639e-01, 8.88884615e-01,\n",
       "       8.59323026e-01, 9.38922724e-01, 9.89538822e-01, 9.95951181e-01,\n",
       "       9.91713336e-01, 9.80980635e-01, 9.76611362e-01, 8.88869653e-01,\n",
       "       8.18587286e-01, 8.06842303e-01, 7.41114876e-01, 6.04532348e-01,\n",
       "       9.59272525e-01, 9.80948675e-01, 9.90947221e-01, 9.99930911e-01,\n",
       "       9.99992216e-01, 9.97067907e-01, 9.48043827e-01, 9.77269284e-01,\n",
       "       7.63697352e-01, 7.74974759e-01, 8.88966801e-01, 9.12573025e-01,\n",
       "       9.04247276e-01, 9.44393212e-01, 9.76583985e-01, 9.93104422e-01,\n",
       "       9.99992606e-01, 9.99999742e-01, 9.98775739e-01, 9.99484728e-01,\n",
       "       9.99937315e-01, 9.99931773e-01, 9.99967654e-01, 9.99988324e-01,\n",
       "       9.99829924e-01, 9.97379869e-01, 9.96489339e-01, 9.91394279e-01,\n",
       "       9.81983022e-01, 9.81983022e-01, 9.64117870e-01, 9.98261113e-01,\n",
       "       9.96241320e-01, 7.49249842e-01, 6.36214440e-01, 6.46726224e-01,\n",
       "       7.79452925e-01, 3.89824517e-01, 3.42935719e-01, 6.29632794e-01,\n",
       "       9.12679685e-01, 9.75824015e-01, 5.10257759e-01, 3.29640236e-01,\n",
       "       7.13574419e-01, 9.22219547e-01, 8.88903530e-01, 9.17001339e-03,\n",
       "       2.78829939e-02, 2.89771036e-02, 2.02767930e-02, 1.13265608e-02,\n",
       "       1.88779676e-02, 1.94742620e-02, 1.52930180e-02, 3.43289621e-02,\n",
       "       5.46424156e-02, 3.05093043e-02, 3.22301899e-02, 1.05930503e-01,\n",
       "       7.99443054e-02, 1.22525004e-01, 1.36266493e-01, 1.56893828e-01,\n",
       "       7.24905849e-02, 4.73859770e-02, 2.20949624e-02, 2.86177719e-01,\n",
       "       1.12124959e-01, 1.47052991e-01, 2.14865985e-01, 2.47634147e-01,\n",
       "       6.62983750e-02, 1.77429966e-02, 5.09861178e-02, 2.17594708e-02,\n",
       "       2.47865365e-02, 4.82871705e-13, 2.84479998e-08, 6.19007017e-12,\n",
       "       7.32773718e-13, 1.61606335e-12, 6.74659325e-11, 1.85875658e-10,\n",
       "       3.61521207e-12, 3.00000090e-14, 3.00000090e-14, 3.00000090e-14,\n",
       "       3.00000090e-14, 3.00000090e-14, 3.00000090e-14, 3.00000090e-14,\n",
       "       5.82263358e-14, 3.00000090e-14, 7.22201147e-12, 1.02638558e-09,\n",
       "       1.95945944e-07, 5.12864351e-03, 3.00000090e-14, 3.00000090e-14,\n",
       "       3.00000090e-14, 3.00000090e-14, 1.56347888e-08, 7.08610456e-01,\n",
       "       6.25798184e-01, 3.00000090e-14, 7.73866963e-09, 1.06158864e-13,\n",
       "       4.26342972e-14, 4.41325756e-09, 4.86610387e-08, 1.70601349e-08,\n",
       "       9.86451319e-01, 9.35641030e-01, 8.00885725e-01, 7.95113124e-01,\n",
       "       9.01920304e-01, 9.75108002e-01, 8.96603909e-01, 3.98422128e-01,\n",
       "       9.59062446e-01, 9.99769785e-01, 9.94684739e-01, 9.96233471e-01,\n",
       "       9.99891304e-01, 9.69200064e-01, 2.39932771e-01, 1.79290595e-01,\n",
       "       9.98650964e-01, 9.99918646e-01, 9.99677338e-01, 9.99722377e-01,\n",
       "       9.91938677e-01, 8.89077470e-01, 9.43311713e-01, 9.99698177e-01,\n",
       "       9.99935498e-01, 9.99961019e-01, 9.99967487e-01, 9.99958721e-01,\n",
       "       9.99706682e-01, 9.98835382e-01, 9.01763185e-01, 8.80336689e-01,\n",
       "       8.88853553e-01, 9.84606075e-01, 9.88090762e-01, 9.95032546e-01,\n",
       "       9.95901695e-01, 9.92033554e-01, 9.86759001e-01, 9.72339684e-01,\n",
       "       9.92566377e-01, 9.94753590e-01, 9.93333058e-01, 9.70227941e-01,\n",
       "       9.08564758e-01, 8.89007508e-01, 8.96809388e-01, 9.83935903e-01,\n",
       "       9.45831450e-01, 8.43238289e-01, 9.10052259e-01, 8.99145247e-01,\n",
       "       6.59942052e-01, 4.82917808e-01, 5.84542022e-01, 7.13988822e-01,\n",
       "       8.10612378e-01, 9.46906676e-01, 9.91583058e-01, 6.47220161e-01,\n",
       "       6.53375377e-01, 3.76500961e-02, 4.77893596e-01, 1.30667473e-01,\n",
       "       2.43661266e-02, 9.90558245e-07, 1.71747797e-05, 6.63065815e-02,\n",
       "       6.63065815e-02, 1.21755717e-05, 3.28161183e-07, 3.60107702e-10,\n",
       "       3.00000090e-14, 3.00000090e-14, 1.85875658e-07, 7.63392344e-09,\n",
       "       1.37816402e-10, 1.00208540e-08, 4.35343999e-08, 2.13152959e-09,\n",
       "       3.73459115e-09, 1.56785354e-02, 6.63003816e-02, 3.00000090e-14,\n",
       "       3.00000090e-14, 3.00000090e-14, 3.00000090e-14, 3.00000090e-14,\n",
       "       3.00000090e-14, 3.00000090e-14, 3.00000090e-14, 3.00000090e-14,\n",
       "       3.00000090e-14, 3.00000090e-14, 1.11427356e-11, 1.17078160e-05,\n",
       "       1.87117556e-01, 3.05134713e-03, 8.24796994e-09, 1.29368628e-09,\n",
       "       4.19866803e-06, 9.60325032e-02, 2.64448144e-02, 1.30109637e-02,\n",
       "       3.47223690e-03, 1.01012287e-02, 3.00000090e-14, 3.00000090e-14,\n",
       "       3.00000090e-14, 3.00000090e-14, 3.00000090e-14])"
      ]
     },
     "execution_count": 14,
     "metadata": {},
     "output_type": "execute_result"
    }
   ],
   "source": [
    "probability_0 = svc.predict_proba(df[['x1','x2']])[:,0]\n",
    "probability_0"
   ]
  },
  {
   "cell_type": "code",
   "execution_count": 17,
   "metadata": {},
   "outputs": [
    {
     "data": {
      "image/png": "[encoded data removed]",
      "text/plain": [
       "<Figure size 432x288 with 2 Axes>"
      ]
     },
     "metadata": {
      "needs_background": "light"
     },
     "output_type": "display_data"
    }
   ],
   "source": [
    "plt.scatter(df['x1'], df['x2'], c = probability_0, cmap='seismic')\n",
    "plt.colorbar();"
   ]
  },
  {
   "cell_type": "markdown",
   "metadata": {},
   "source": [
    "## Exercise 3"
   ]
  },
  {
   "cell_type": "markdown",
   "metadata": {
    "id": "xRiiui_AnkZE"
   },
   "source": [
    "For the third data set we're given both training and validation sets and tasked with finding optimal hyper-parameters for an SVM model based on validation set performance.  Although we could use scikit-learn's built-in grid search to do this quite easily, in the spirit of following the exercise directions we'll implement a simple grid search from scratch.\n",
    "\n",
    "#### 1. Load the data `ejer_1_data3.mat`"
   ]
  },
  {
   "cell_type": "code",
   "execution_count": null,
   "metadata": {},
   "outputs": [],
   "source": []
  },
  {
   "cell_type": "markdown",
   "metadata": {},
   "source": [
    "#### 2. Create a DataFrame with the features and target"
   ]
  },
  {
   "cell_type": "code",
   "execution_count": null,
   "metadata": {},
   "outputs": [],
   "source": []
  },
  {
   "cell_type": "markdown",
   "metadata": {},
   "source": [
    "#### 3. Get the validation data from the dataset `Xval` and `yval`"
   ]
  },
  {
   "cell_type": "code",
   "execution_count": null,
   "metadata": {},
   "outputs": [],
   "source": []
  },
  {
   "cell_type": "markdown",
   "metadata": {},
   "source": [
    "#### 4. Try different hyperparameters\n",
    "You are going to find the best hyperparameters that best fit your model.\n",
    "1. Try C from 0.01 to 100\n",
    "2. Try gamma from 0.01 to 100\n",
    "\n",
    "Train the model and then get the score with the validation data. Which combination of hyperparameters trains the best model in validation score?"
   ]
  },
  {
   "cell_type": "code",
   "execution_count": null,
   "metadata": {},
   "outputs": [],
   "source": []
  },
  {
   "cell_type": "markdown",
   "metadata": {
    "id": "ex3nqod6nkZI"
   },
   "source": [
    "## Exercise 4\n",
    "Now we'll move on to the second part of the exercise. In this part our objective is to use SVMs to build a spam filter.  In the exercise text, there's a task involving some text pre-processing to get our data in a format suitable for an SVM to handle.  However, the task is pretty trivial (mapping words to an ID from a dictionary that's provided for the exercise) and the rest of the pre-processing steps such as HTML removal, stemming, normalization etc. are already done.  Rather than reproduce these pre-processing steps, I'm going to skip ahead to the machine learning task which involves building a classifier from pre-processed train and test data sets consisting of spam and non-spam emails transformed to word occurance vectors.\n",
    "\n",
    "#### 1. Load the data `spamTrain.mat` and `spamTest.mat`"
   ]
  },
  {
   "cell_type": "code",
   "execution_count": null,
   "metadata": {
    "id": "61GyjQiinkZI",
    "outputId": "7cdbfce2-8dfe-4e05-87b9-3e02809f5d3c"
   },
   "outputs": [],
   "source": []
  },
  {
   "cell_type": "markdown",
   "metadata": {},
   "source": [
    "#### 2. Create a DataFrame with the features and target, for train and test\n",
    "Be careful with the test dimensions"
   ]
  },
  {
   "cell_type": "code",
   "execution_count": null,
   "metadata": {},
   "outputs": [],
   "source": []
  },
  {
   "cell_type": "markdown",
   "metadata": {},
   "source": [
    "#### 3. Fit a SVC and get the accuracy in train and test"
   ]
  },
  {
   "cell_type": "code",
   "execution_count": null,
   "metadata": {},
   "outputs": [],
   "source": []
  },
  {
   "cell_type": "markdown",
   "metadata": {
    "id": "3DqRr2QWnkZN"
   },
   "source": [
    "Each document has been converted to a vector with 1,899 dimensions corresponding to the 1,899 words in the vocabulary.  The values are binary, indicating the presence or absence of the word in the document.  At this point, training and evaluation are just a matter of fitting the testing the classifer. "
   ]
  }
 ],
 "metadata": {
  "colab": {
   "name": "ML-Exercise6.ipynb",
   "provenance": []
  },
  "kernelspec": {
   "display_name": "Python 3",
   "language": "python",
   "name": "python3"
  },
  "language_info": {
   "codemirror_mode": {
    "name": "ipython",
    "version": 3
   },
   "file_extension": ".py",
   "mimetype": "text/x-python",
   "name": "python",
   "nbconvert_exporter": "python",
   "pygments_lexer": "ipython3",
   "version": "3.10.10"
  }
 },
 "nbformat": 4,
 "nbformat_minor": 4
}
