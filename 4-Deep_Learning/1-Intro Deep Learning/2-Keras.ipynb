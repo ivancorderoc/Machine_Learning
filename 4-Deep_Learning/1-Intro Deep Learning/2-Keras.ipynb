{
 "cells": [
  {
   "cell_type": "markdown",
   "metadata": {},
   "source": [
    "# Keras\n",
    "Librería para programar redes neuronales de una manera más sencilla que con TensorFlow. Keras se encuentra en una capa de abstracción por encima de TensorFlow.\n",
    "\n",
    "[Documentación](https://keras.io/guides/)"
   ]
  },
  {
   "cell_type": "markdown",
   "metadata": {},
   "source": [
    "Empezamos importando librerías"
   ]
  },
  {
   "cell_type": "code",
   "execution_count": 4,
   "metadata": {},
   "outputs": [],
   "source": [
    "import tensorflow as tf\n",
    "from tensorflow import keras\n",
    "from tensorflow.keras import layers\n",
    "import pandas as pd\n",
    "import numpy as np"
   ]
  },
  {
   "cell_type": "markdown",
   "metadata": {},
   "source": [
    "Cargamos los datos de mnist. No vamos a tratar imagenes con redes convolucionales (perdemos la estructura espacial 2D). Todos los pixeles se convertirán en un vector de 28x28 features independientes, que serán las entradas del modelo."
   ]
  },
  {
   "cell_type": "code",
   "execution_count": 5,
   "metadata": {},
   "outputs": [],
   "source": [
    "# Cogemos las imágenes de los dígitos asi como el conjunto de train y test\n",
    "(X_train, y_train), (X_test, y_test) = keras.datasets.mnist.load_data()"
   ]
  },
  {
   "cell_type": "markdown",
   "metadata": {},
   "source": [
    "Vemos dimensiones del dataset"
   ]
  },
  {
   "cell_type": "code",
   "execution_count": 6,
   "metadata": {},
   "outputs": [
    {
     "name": "stdout",
     "output_type": "stream",
     "text": [
      "(60000, 28, 28)\n",
      "(60000,)\n",
      "(10000, 28, 28)\n",
      "(10000,)\n"
     ]
    }
   ],
   "source": [
    "'''\n",
    "60.000 imagenes de 28x28 pixeles\n",
    "'''\n",
    "print(X_train.shape)\n",
    "print(y_train.shape)\n",
    "print(X_test.shape)\n",
    "print(y_test.shape)"
   ]
  },
  {
   "cell_type": "code",
   "execution_count": null,
   "metadata": {},
   "outputs": [],
   "source": []
  },
  {
   "cell_type": "code",
   "execution_count": 7,
   "metadata": {
    "collapsed": true,
    "jupyter": {
     "outputs_hidden": true
    },
    "tags": []
   },
   "outputs": [
    {
     "data": {
      "text/plain": [
       "array([[  0,   0,   0,   0,   0,   0,   0,   0,   0,   0,   0,   0,   0,\n",
       "          0,   0,   0,   0,   0,   0,   0,   0,   0,   0,   0,   0,   0,\n",
       "          0,   0],\n",
       "       [  0,   0,   0,   0,   0,   0,   0,   0,   0,   0,   0,   0,   0,\n",
       "          0,   0,   0,   0,   0,   0,   0,   0,   0,   0,   0,   0,   0,\n",
       "          0,   0],\n",
       "       [  0,   0,   0,   0,   0,   0,   0,   0,   0,   0,   0,   0,   0,\n",
       "          0,   0,   0,   0,   0,   0,   0,   0,   0,   0,   0,   0,   0,\n",
       "          0,   0],\n",
       "       [  0,   0,   0,   0,   0,   0,   0,   0,   0,   0,   0,   0,   0,\n",
       "          0,   0,   0,   0,   0,   0,   0,   0,   0,   0,   0,   0,   0,\n",
       "          0,   0],\n",
       "       [  0,   0,   0,   0,   0,   0,   0,   0,   0,   0,   0,   0,   0,\n",
       "          0,   0,   0,   0,   0,   0,   0,   0,   0,   0,   0,   0,   0,\n",
       "          0,   0],\n",
       "       [  0,   0,   0,   0,   0,   0,   0,   0,   0,   0,   0,   0,   3,\n",
       "         18,  18,  18, 126, 136, 175,  26, 166, 255, 247, 127,   0,   0,\n",
       "          0,   0],\n",
       "       [  0,   0,   0,   0,   0,   0,   0,   0,  30,  36,  94, 154, 170,\n",
       "        253, 253, 253, 253, 253, 225, 172, 253, 242, 195,  64,   0,   0,\n",
       "          0,   0],\n",
       "       [  0,   0,   0,   0,   0,   0,   0,  49, 238, 253, 253, 253, 253,\n",
       "        253, 253, 253, 253, 251,  93,  82,  82,  56,  39,   0,   0,   0,\n",
       "          0,   0],\n",
       "       [  0,   0,   0,   0,   0,   0,   0,  18, 219, 253, 253, 253, 253,\n",
       "        253, 198, 182, 247, 241,   0,   0,   0,   0,   0,   0,   0,   0,\n",
       "          0,   0],\n",
       "       [  0,   0,   0,   0,   0,   0,   0,   0,  80, 156, 107, 253, 253,\n",
       "        205,  11,   0,  43, 154,   0,   0,   0,   0,   0,   0,   0,   0,\n",
       "          0,   0],\n",
       "       [  0,   0,   0,   0,   0,   0,   0,   0,   0,  14,   1, 154, 253,\n",
       "         90,   0,   0,   0,   0,   0,   0,   0,   0,   0,   0,   0,   0,\n",
       "          0,   0],\n",
       "       [  0,   0,   0,   0,   0,   0,   0,   0,   0,   0,   0, 139, 253,\n",
       "        190,   2,   0,   0,   0,   0,   0,   0,   0,   0,   0,   0,   0,\n",
       "          0,   0],\n",
       "       [  0,   0,   0,   0,   0,   0,   0,   0,   0,   0,   0,  11, 190,\n",
       "        253,  70,   0,   0,   0,   0,   0,   0,   0,   0,   0,   0,   0,\n",
       "          0,   0],\n",
       "       [  0,   0,   0,   0,   0,   0,   0,   0,   0,   0,   0,   0,  35,\n",
       "        241, 225, 160, 108,   1,   0,   0,   0,   0,   0,   0,   0,   0,\n",
       "          0,   0],\n",
       "       [  0,   0,   0,   0,   0,   0,   0,   0,   0,   0,   0,   0,   0,\n",
       "         81, 240, 253, 253, 119,  25,   0,   0,   0,   0,   0,   0,   0,\n",
       "          0,   0],\n",
       "       [  0,   0,   0,   0,   0,   0,   0,   0,   0,   0,   0,   0,   0,\n",
       "          0,  45, 186, 253, 253, 150,  27,   0,   0,   0,   0,   0,   0,\n",
       "          0,   0],\n",
       "       [  0,   0,   0,   0,   0,   0,   0,   0,   0,   0,   0,   0,   0,\n",
       "          0,   0,  16,  93, 252, 253, 187,   0,   0,   0,   0,   0,   0,\n",
       "          0,   0],\n",
       "       [  0,   0,   0,   0,   0,   0,   0,   0,   0,   0,   0,   0,   0,\n",
       "          0,   0,   0,   0, 249, 253, 249,  64,   0,   0,   0,   0,   0,\n",
       "          0,   0],\n",
       "       [  0,   0,   0,   0,   0,   0,   0,   0,   0,   0,   0,   0,   0,\n",
       "          0,  46, 130, 183, 253, 253, 207,   2,   0,   0,   0,   0,   0,\n",
       "          0,   0],\n",
       "       [  0,   0,   0,   0,   0,   0,   0,   0,   0,   0,   0,   0,  39,\n",
       "        148, 229, 253, 253, 253, 250, 182,   0,   0,   0,   0,   0,   0,\n",
       "          0,   0],\n",
       "       [  0,   0,   0,   0,   0,   0,   0,   0,   0,   0,  24, 114, 221,\n",
       "        253, 253, 253, 253, 201,  78,   0,   0,   0,   0,   0,   0,   0,\n",
       "          0,   0],\n",
       "       [  0,   0,   0,   0,   0,   0,   0,   0,  23,  66, 213, 253, 253,\n",
       "        253, 253, 198,  81,   2,   0,   0,   0,   0,   0,   0,   0,   0,\n",
       "          0,   0],\n",
       "       [  0,   0,   0,   0,   0,   0,  18, 171, 219, 253, 253, 253, 253,\n",
       "        195,  80,   9,   0,   0,   0,   0,   0,   0,   0,   0,   0,   0,\n",
       "          0,   0],\n",
       "       [  0,   0,   0,   0,  55, 172, 226, 253, 253, 253, 253, 244, 133,\n",
       "         11,   0,   0,   0,   0,   0,   0,   0,   0,   0,   0,   0,   0,\n",
       "          0,   0],\n",
       "       [  0,   0,   0,   0, 136, 253, 253, 253, 212, 135, 132,  16,   0,\n",
       "          0,   0,   0,   0,   0,   0,   0,   0,   0,   0,   0,   0,   0,\n",
       "          0,   0],\n",
       "       [  0,   0,   0,   0,   0,   0,   0,   0,   0,   0,   0,   0,   0,\n",
       "          0,   0,   0,   0,   0,   0,   0,   0,   0,   0,   0,   0,   0,\n",
       "          0,   0],\n",
       "       [  0,   0,   0,   0,   0,   0,   0,   0,   0,   0,   0,   0,   0,\n",
       "          0,   0,   0,   0,   0,   0,   0,   0,   0,   0,   0,   0,   0,\n",
       "          0,   0],\n",
       "       [  0,   0,   0,   0,   0,   0,   0,   0,   0,   0,   0,   0,   0,\n",
       "          0,   0,   0,   0,   0,   0,   0,   0,   0,   0,   0,   0,   0,\n",
       "          0,   0]], dtype=uint8)"
      ]
     },
     "execution_count": 7,
     "metadata": {},
     "output_type": "execute_result"
    }
   ],
   "source": [
    "X_train[0]"
   ]
  },
  {
   "cell_type": "markdown",
   "metadata": {},
   "source": [
    "60.000 imágenes de 28x28 pixeles. Vamos a representar una de ellas"
   ]
  },
  {
   "cell_type": "code",
   "execution_count": 8,
   "metadata": {},
   "outputs": [
    {
     "data": {
      "image/png": "[encoded data removed]",
      "text/plain": [
       "<Figure size 640x480 with 1 Axes>"
      ]
     },
     "metadata": {},
     "output_type": "display_data"
    }
   ],
   "source": [
    "import matplotlib.pyplot as plt\n",
    "\n",
    "plt.imshow(X_train[0], cmap=plt.cm.get_cmap('Greys'));"
   ]
  },
  {
   "cell_type": "markdown",
   "metadata": {},
   "source": [
    "Cada imagen se compone de 28x28 pixeles, y cada pixel representa una escala de grises que va del 0 al 255. Siendo 0 el blanco y 255 negro.\n",
    "\n",
    "¿Se te ocurre alguna manera de normalizar los datos?"
   ]
  },
  {
   "cell_type": "code",
   "execution_count": 9,
   "metadata": {},
   "outputs": [
    {
     "data": {
      "text/plain": [
       "0.0"
      ]
     },
     "execution_count": 9,
     "metadata": {},
     "output_type": "execute_result"
    }
   ],
   "source": [
    "0/255"
   ]
  },
  {
   "cell_type": "code",
   "execution_count": 10,
   "metadata": {},
   "outputs": [
    {
     "data": {
      "text/plain": [
       "0.5019607843137255"
      ]
     },
     "execution_count": 10,
     "metadata": {},
     "output_type": "execute_result"
    }
   ],
   "source": [
    "128/255"
   ]
  },
  {
   "cell_type": "code",
   "execution_count": 11,
   "metadata": {},
   "outputs": [
    {
     "data": {
      "text/plain": [
       "1.0"
      ]
     },
     "execution_count": 11,
     "metadata": {},
     "output_type": "execute_result"
    }
   ],
   "source": [
    "255/255"
   ]
  },
  {
   "cell_type": "code",
   "execution_count": 12,
   "metadata": {},
   "outputs": [],
   "source": [
    "X_train = X_train.astype(\"float32\")/255\n",
    "X_test = X_test.astype(\"float32\")/255"
   ]
  },
  {
   "cell_type": "code",
   "execution_count": 13,
   "metadata": {},
   "outputs": [
    {
     "data": {
      "text/plain": [
       "0.13066062"
      ]
     },
     "execution_count": 13,
     "metadata": {},
     "output_type": "execute_result"
    }
   ],
   "source": [
    "np.mean(X_train)"
   ]
  },
  {
   "cell_type": "code",
   "execution_count": 14,
   "metadata": {
    "collapsed": true,
    "jupyter": {
     "outputs_hidden": true
    },
    "tags": []
   },
   "outputs": [
    {
     "data": {
      "text/plain": [
       "array([[0.        , 0.        , 0.        , 0.        , 0.        ,\n",
       "        0.        , 0.        , 0.        , 0.        , 0.        ,\n",
       "        0.        , 0.        , 0.        , 0.        , 0.        ,\n",
       "        0.        , 0.        , 0.        , 0.        , 0.        ,\n",
       "        0.        , 0.        , 0.        , 0.        , 0.        ,\n",
       "        0.        , 0.        , 0.        ],\n",
       "       [0.        , 0.        , 0.        , 0.        , 0.        ,\n",
       "        0.        , 0.        , 0.        , 0.        , 0.        ,\n",
       "        0.        , 0.        , 0.        , 0.        , 0.        ,\n",
       "        0.        , 0.        , 0.        , 0.        , 0.        ,\n",
       "        0.        , 0.        , 0.        , 0.        , 0.        ,\n",
       "        0.        , 0.        , 0.        ],\n",
       "       [0.        , 0.        , 0.        , 0.        , 0.        ,\n",
       "        0.        , 0.        , 0.        , 0.        , 0.        ,\n",
       "        0.        , 0.        , 0.        , 0.        , 0.        ,\n",
       "        0.        , 0.        , 0.        , 0.        , 0.        ,\n",
       "        0.        , 0.        , 0.        , 0.        , 0.        ,\n",
       "        0.        , 0.        , 0.        ],\n",
       "       [0.        , 0.        , 0.        , 0.        , 0.        ,\n",
       "        0.        , 0.        , 0.        , 0.        , 0.        ,\n",
       "        0.        , 0.        , 0.        , 0.        , 0.        ,\n",
       "        0.        , 0.        , 0.        , 0.        , 0.        ,\n",
       "        0.        , 0.        , 0.        , 0.        , 0.        ,\n",
       "        0.        , 0.        , 0.        ],\n",
       "       [0.        , 0.        , 0.        , 0.        , 0.        ,\n",
       "        0.        , 0.        , 0.        , 0.        , 0.        ,\n",
       "        0.        , 0.        , 0.        , 0.        , 0.        ,\n",
       "        0.        , 0.        , 0.        , 0.        , 0.        ,\n",
       "        0.        , 0.        , 0.        , 0.        , 0.        ,\n",
       "        0.        , 0.        , 0.        ],\n",
       "       [0.        , 0.        , 0.        , 0.        , 0.        ,\n",
       "        0.        , 0.        , 0.        , 0.        , 0.        ,\n",
       "        0.        , 0.        , 0.01176471, 0.07058824, 0.07058824,\n",
       "        0.07058824, 0.49411765, 0.53333336, 0.6862745 , 0.10196079,\n",
       "        0.6509804 , 1.        , 0.96862745, 0.49803922, 0.        ,\n",
       "        0.        , 0.        , 0.        ],\n",
       "       [0.        , 0.        , 0.        , 0.        , 0.        ,\n",
       "        0.        , 0.        , 0.        , 0.11764706, 0.14117648,\n",
       "        0.36862746, 0.6039216 , 0.6666667 , 0.99215686, 0.99215686,\n",
       "        0.99215686, 0.99215686, 0.99215686, 0.88235295, 0.6745098 ,\n",
       "        0.99215686, 0.9490196 , 0.7647059 , 0.2509804 , 0.        ,\n",
       "        0.        , 0.        , 0.        ],\n",
       "       [0.        , 0.        , 0.        , 0.        , 0.        ,\n",
       "        0.        , 0.        , 0.19215687, 0.93333334, 0.99215686,\n",
       "        0.99215686, 0.99215686, 0.99215686, 0.99215686, 0.99215686,\n",
       "        0.99215686, 0.99215686, 0.9843137 , 0.3647059 , 0.32156864,\n",
       "        0.32156864, 0.21960784, 0.15294118, 0.        , 0.        ,\n",
       "        0.        , 0.        , 0.        ],\n",
       "       [0.        , 0.        , 0.        , 0.        , 0.        ,\n",
       "        0.        , 0.        , 0.07058824, 0.85882354, 0.99215686,\n",
       "        0.99215686, 0.99215686, 0.99215686, 0.99215686, 0.7764706 ,\n",
       "        0.7137255 , 0.96862745, 0.94509804, 0.        , 0.        ,\n",
       "        0.        , 0.        , 0.        , 0.        , 0.        ,\n",
       "        0.        , 0.        , 0.        ],\n",
       "       [0.        , 0.        , 0.        , 0.        , 0.        ,\n",
       "        0.        , 0.        , 0.        , 0.3137255 , 0.6117647 ,\n",
       "        0.41960785, 0.99215686, 0.99215686, 0.8039216 , 0.04313726,\n",
       "        0.        , 0.16862746, 0.6039216 , 0.        , 0.        ,\n",
       "        0.        , 0.        , 0.        , 0.        , 0.        ,\n",
       "        0.        , 0.        , 0.        ],\n",
       "       [0.        , 0.        , 0.        , 0.        , 0.        ,\n",
       "        0.        , 0.        , 0.        , 0.        , 0.05490196,\n",
       "        0.00392157, 0.6039216 , 0.99215686, 0.3529412 , 0.        ,\n",
       "        0.        , 0.        , 0.        , 0.        , 0.        ,\n",
       "        0.        , 0.        , 0.        , 0.        , 0.        ,\n",
       "        0.        , 0.        , 0.        ],\n",
       "       [0.        , 0.        , 0.        , 0.        , 0.        ,\n",
       "        0.        , 0.        , 0.        , 0.        , 0.        ,\n",
       "        0.        , 0.54509807, 0.99215686, 0.74509805, 0.00784314,\n",
       "        0.        , 0.        , 0.        , 0.        , 0.        ,\n",
       "        0.        , 0.        , 0.        , 0.        , 0.        ,\n",
       "        0.        , 0.        , 0.        ],\n",
       "       [0.        , 0.        , 0.        , 0.        , 0.        ,\n",
       "        0.        , 0.        , 0.        , 0.        , 0.        ,\n",
       "        0.        , 0.04313726, 0.74509805, 0.99215686, 0.27450982,\n",
       "        0.        , 0.        , 0.        , 0.        , 0.        ,\n",
       "        0.        , 0.        , 0.        , 0.        , 0.        ,\n",
       "        0.        , 0.        , 0.        ],\n",
       "       [0.        , 0.        , 0.        , 0.        , 0.        ,\n",
       "        0.        , 0.        , 0.        , 0.        , 0.        ,\n",
       "        0.        , 0.        , 0.13725491, 0.94509804, 0.88235295,\n",
       "        0.627451  , 0.42352942, 0.00392157, 0.        , 0.        ,\n",
       "        0.        , 0.        , 0.        , 0.        , 0.        ,\n",
       "        0.        , 0.        , 0.        ],\n",
       "       [0.        , 0.        , 0.        , 0.        , 0.        ,\n",
       "        0.        , 0.        , 0.        , 0.        , 0.        ,\n",
       "        0.        , 0.        , 0.        , 0.31764707, 0.9411765 ,\n",
       "        0.99215686, 0.99215686, 0.46666667, 0.09803922, 0.        ,\n",
       "        0.        , 0.        , 0.        , 0.        , 0.        ,\n",
       "        0.        , 0.        , 0.        ],\n",
       "       [0.        , 0.        , 0.        , 0.        , 0.        ,\n",
       "        0.        , 0.        , 0.        , 0.        , 0.        ,\n",
       "        0.        , 0.        , 0.        , 0.        , 0.1764706 ,\n",
       "        0.7294118 , 0.99215686, 0.99215686, 0.5882353 , 0.10588235,\n",
       "        0.        , 0.        , 0.        , 0.        , 0.        ,\n",
       "        0.        , 0.        , 0.        ],\n",
       "       [0.        , 0.        , 0.        , 0.        , 0.        ,\n",
       "        0.        , 0.        , 0.        , 0.        , 0.        ,\n",
       "        0.        , 0.        , 0.        , 0.        , 0.        ,\n",
       "        0.0627451 , 0.3647059 , 0.9882353 , 0.99215686, 0.73333335,\n",
       "        0.        , 0.        , 0.        , 0.        , 0.        ,\n",
       "        0.        , 0.        , 0.        ],\n",
       "       [0.        , 0.        , 0.        , 0.        , 0.        ,\n",
       "        0.        , 0.        , 0.        , 0.        , 0.        ,\n",
       "        0.        , 0.        , 0.        , 0.        , 0.        ,\n",
       "        0.        , 0.        , 0.9764706 , 0.99215686, 0.9764706 ,\n",
       "        0.2509804 , 0.        , 0.        , 0.        , 0.        ,\n",
       "        0.        , 0.        , 0.        ],\n",
       "       [0.        , 0.        , 0.        , 0.        , 0.        ,\n",
       "        0.        , 0.        , 0.        , 0.        , 0.        ,\n",
       "        0.        , 0.        , 0.        , 0.        , 0.18039216,\n",
       "        0.50980395, 0.7176471 , 0.99215686, 0.99215686, 0.8117647 ,\n",
       "        0.00784314, 0.        , 0.        , 0.        , 0.        ,\n",
       "        0.        , 0.        , 0.        ],\n",
       "       [0.        , 0.        , 0.        , 0.        , 0.        ,\n",
       "        0.        , 0.        , 0.        , 0.        , 0.        ,\n",
       "        0.        , 0.        , 0.15294118, 0.5803922 , 0.8980392 ,\n",
       "        0.99215686, 0.99215686, 0.99215686, 0.98039216, 0.7137255 ,\n",
       "        0.        , 0.        , 0.        , 0.        , 0.        ,\n",
       "        0.        , 0.        , 0.        ],\n",
       "       [0.        , 0.        , 0.        , 0.        , 0.        ,\n",
       "        0.        , 0.        , 0.        , 0.        , 0.        ,\n",
       "        0.09411765, 0.44705883, 0.8666667 , 0.99215686, 0.99215686,\n",
       "        0.99215686, 0.99215686, 0.7882353 , 0.30588236, 0.        ,\n",
       "        0.        , 0.        , 0.        , 0.        , 0.        ,\n",
       "        0.        , 0.        , 0.        ],\n",
       "       [0.        , 0.        , 0.        , 0.        , 0.        ,\n",
       "        0.        , 0.        , 0.        , 0.09019608, 0.25882354,\n",
       "        0.8352941 , 0.99215686, 0.99215686, 0.99215686, 0.99215686,\n",
       "        0.7764706 , 0.31764707, 0.00784314, 0.        , 0.        ,\n",
       "        0.        , 0.        , 0.        , 0.        , 0.        ,\n",
       "        0.        , 0.        , 0.        ],\n",
       "       [0.        , 0.        , 0.        , 0.        , 0.        ,\n",
       "        0.        , 0.07058824, 0.67058825, 0.85882354, 0.99215686,\n",
       "        0.99215686, 0.99215686, 0.99215686, 0.7647059 , 0.3137255 ,\n",
       "        0.03529412, 0.        , 0.        , 0.        , 0.        ,\n",
       "        0.        , 0.        , 0.        , 0.        , 0.        ,\n",
       "        0.        , 0.        , 0.        ],\n",
       "       [0.        , 0.        , 0.        , 0.        , 0.21568628,\n",
       "        0.6745098 , 0.8862745 , 0.99215686, 0.99215686, 0.99215686,\n",
       "        0.99215686, 0.95686275, 0.52156866, 0.04313726, 0.        ,\n",
       "        0.        , 0.        , 0.        , 0.        , 0.        ,\n",
       "        0.        , 0.        , 0.        , 0.        , 0.        ,\n",
       "        0.        , 0.        , 0.        ],\n",
       "       [0.        , 0.        , 0.        , 0.        , 0.53333336,\n",
       "        0.99215686, 0.99215686, 0.99215686, 0.83137256, 0.5294118 ,\n",
       "        0.5176471 , 0.0627451 , 0.        , 0.        , 0.        ,\n",
       "        0.        , 0.        , 0.        , 0.        , 0.        ,\n",
       "        0.        , 0.        , 0.        , 0.        , 0.        ,\n",
       "        0.        , 0.        , 0.        ],\n",
       "       [0.        , 0.        , 0.        , 0.        , 0.        ,\n",
       "        0.        , 0.        , 0.        , 0.        , 0.        ,\n",
       "        0.        , 0.        , 0.        , 0.        , 0.        ,\n",
       "        0.        , 0.        , 0.        , 0.        , 0.        ,\n",
       "        0.        , 0.        , 0.        , 0.        , 0.        ,\n",
       "        0.        , 0.        , 0.        ],\n",
       "       [0.        , 0.        , 0.        , 0.        , 0.        ,\n",
       "        0.        , 0.        , 0.        , 0.        , 0.        ,\n",
       "        0.        , 0.        , 0.        , 0.        , 0.        ,\n",
       "        0.        , 0.        , 0.        , 0.        , 0.        ,\n",
       "        0.        , 0.        , 0.        , 0.        , 0.        ,\n",
       "        0.        , 0.        , 0.        ],\n",
       "       [0.        , 0.        , 0.        , 0.        , 0.        ,\n",
       "        0.        , 0.        , 0.        , 0.        , 0.        ,\n",
       "        0.        , 0.        , 0.        , 0.        , 0.        ,\n",
       "        0.        , 0.        , 0.        , 0.        , 0.        ,\n",
       "        0.        , 0.        , 0.        , 0.        , 0.        ,\n",
       "        0.        , 0.        , 0.        ]], dtype=float32)"
      ]
     },
     "execution_count": 14,
     "metadata": {},
     "output_type": "execute_result"
    }
   ],
   "source": [
    "'''\n",
    "Comprobamos la normalización\n",
    "'''\n",
    "X_train[0]"
   ]
  },
  {
   "cell_type": "code",
   "execution_count": 15,
   "metadata": {},
   "outputs": [],
   "source": [
    "y_train = y_train.astype(\"float32\")\n",
    "y_test = y_test.astype(\"float32\")"
   ]
  },
  {
   "cell_type": "markdown",
   "metadata": {},
   "source": [
    "Guardamos datos para validación. Estos datos se usarán durante el entrenamiento. Otra opción es decirle a keras en la etapa de entrenamiento que reserve un X % de los datos para validar."
   ]
  },
  {
   "cell_type": "code",
   "execution_count": 16,
   "metadata": {},
   "outputs": [],
   "source": [
    "X_val = X_train[-10000:]\n",
    "y_val = y_train[-10000:]\n",
    "\n",
    "\n",
    "X_train = X_train[:-10000]\n",
    "y_train = y_train[:-10000]"
   ]
  },
  {
   "cell_type": "code",
   "execution_count": 17,
   "metadata": {},
   "outputs": [
    {
     "name": "stdout",
     "output_type": "stream",
     "text": [
      "(50000, 28, 28)\n",
      "(10000, 28, 28)\n",
      "(10000, 28, 28)\n"
     ]
    }
   ],
   "source": [
    "print(X_train.shape)\n",
    "print(X_val.shape)\n",
    "print(X_test.shape)"
   ]
  },
  {
   "cell_type": "markdown",
   "metadata": {},
   "source": [
    "Montamos la arquitectura de la red neuronal. Se va a componer de:\n",
    "* **Sequential**: API para iniciar la red neuronal. No cuenta como capa.\n",
    "* **Flatten**: capa de entrada. Necesita un vector unidimensional. Como tenemos imágenes, esta capa aplana las imagenes (2D) en 1D.\n",
    "* **Dense**: es una hidden layer. Se compondrá de `n` neuronas y de una función de activación que se aplicará a todas las neuronas de la capa.\n",
    "\n",
    "Recuerda que es un problema de clasificación multiclase (10 clases) y que por tanto la última capa se compondrá de tantas neuronas como clases tengas.\n",
    "\n",
    "En cuanto a las funciones de activación es recomendable usar relu en las hidden layer, que tarda menos en entrenar, mientras que la ultima (output) suele ser una softmax."
   ]
  },
  {
   "cell_type": "code",
   "execution_count": 18,
   "metadata": {},
   "outputs": [],
   "source": [
    "model = keras.models.Sequential()\n",
    "\n",
    "# Capa entrada\n",
    "model.add(keras.layers.Flatten(input_shape=(28, 28)))\n",
    "\n",
    "# Hidden layer\n",
    "model.add(keras.layers.Dense(units = 300,\n",
    "                            activation='relu'))\n",
    "\n",
    "# Hidden layer\n",
    "model.add(keras.layers.Dense(units = 100,\n",
    "                            activation='relu'))\n",
    "\n",
    "# Capa salida\n",
    "model.add(keras.layers.Dense(units = 10,\n",
    "                            activation='softmax'))"
   ]
  },
  {
   "cell_type": "code",
   "execution_count": 19,
   "metadata": {},
   "outputs": [],
   "source": [
    "# Otra manera de declarar la red neuronal\n",
    "capas = [\n",
    "    keras.layers.Flatten(input_shape=(28, 28)),\n",
    "    keras.layers.Dense(units = 300, activation='relu'),\n",
    "    keras.layers.Dense(units = 100, activation='relu'),\n",
    "    keras.layers.Dense(units = 10, activation='softmax')\n",
    "]\n",
    "\n",
    "model = keras.models.Sequential(capas)"
   ]
  },
  {
   "cell_type": "markdown",
   "metadata": {},
   "source": [
    "Podemos ver las capas, y acceder a sus elementos"
   ]
  },
  {
   "cell_type": "code",
   "execution_count": 20,
   "metadata": {},
   "outputs": [
    {
     "name": "stdout",
     "output_type": "stream",
     "text": [
      "<keras.src.layers.reshaping.flatten.Flatten object at 0x1067d6ce0>\n"
     ]
    }
   ],
   "source": [
    "print(model.layers[0])"
   ]
  },
  {
   "cell_type": "markdown",
   "metadata": {},
   "source": [
    "Podemos ver los pesos de las capas sin entrenar, porque los inicializa aleatoriamente. Los bias los inicializa a 0."
   ]
  },
  {
   "cell_type": "code",
   "execution_count": 21,
   "metadata": {},
   "outputs": [],
   "source": [
    "hidden1 = model.layers[1]\n",
    "weights, biases = hidden1.get_weights()"
   ]
  },
  {
   "cell_type": "code",
   "execution_count": 22,
   "metadata": {
    "collapsed": true,
    "jupyter": {
     "outputs_hidden": true
    },
    "tags": []
   },
   "outputs": [
    {
     "data": {
      "text/plain": [
       "300"
      ]
     },
     "execution_count": 22,
     "metadata": {},
     "output_type": "execute_result"
    }
   ],
   "source": [
    "len(weights[0])"
   ]
  },
  {
   "cell_type": "code",
   "execution_count": 23,
   "metadata": {},
   "outputs": [
    {
     "data": {
      "text/plain": [
       "784"
      ]
     },
     "execution_count": 23,
     "metadata": {},
     "output_type": "execute_result"
    }
   ],
   "source": [
    "28*28"
   ]
  },
  {
   "cell_type": "code",
   "execution_count": 24,
   "metadata": {},
   "outputs": [
    {
     "data": {
      "text/plain": [
       "235200"
      ]
     },
     "execution_count": 24,
     "metadata": {},
     "output_type": "execute_result"
    }
   ],
   "source": [
    "300*784"
   ]
  },
  {
   "cell_type": "code",
   "execution_count": 25,
   "metadata": {},
   "outputs": [
    {
     "data": {
      "text/plain": [
       "235200"
      ]
     },
     "execution_count": 25,
     "metadata": {},
     "output_type": "execute_result"
    }
   ],
   "source": [
    "weights.size"
   ]
  },
  {
   "cell_type": "code",
   "execution_count": 26,
   "metadata": {},
   "outputs": [
    {
     "data": {
      "text/plain": [
       "array([0., 0., 0., 0., 0., 0., 0., 0., 0., 0., 0., 0., 0., 0., 0., 0., 0.,\n",
       "       0., 0., 0.], dtype=float32)"
      ]
     },
     "execution_count": 26,
     "metadata": {},
     "output_type": "execute_result"
    }
   ],
   "source": [
    "biases[:20]"
   ]
  },
  {
   "cell_type": "markdown",
   "metadata": {},
   "source": [
    "Establecemos la configuración de ejecución... el compile."
   ]
  },
  {
   "cell_type": "code",
   "execution_count": 27,
   "metadata": {},
   "outputs": [],
   "source": [
    "model.compile(\n",
    "    optimizer = keras.optimizers.legacy.SGD(),\n",
    "    loss = keras.losses.SparseCategoricalCrossentropy(),\n",
    "    metrics = [keras.metrics.SparseCategoricalAccuracy()]\n",
    ")"
   ]
  },
  {
   "cell_type": "code",
   "execution_count": 28,
   "metadata": {},
   "outputs": [],
   "source": [
    "# Equivalente\n",
    "model.compile(\n",
    "    optimizer = \"sgd\",\n",
    "    loss = \"sparse_categorical_crossentropy\",\n",
    "    metrics = [\"accuracy\"]\n",
    ")"
   ]
  },
  {
   "cell_type": "code",
   "execution_count": 29,
   "metadata": {
    "tags": []
   },
   "outputs": [
    {
     "name": "stdout",
     "output_type": "stream",
     "text": [
      "Model: \"sequential_1\"\n",
      "_________________________________________________________________\n",
      " Layer (type)                Output Shape              Param #   \n",
      "=================================================================\n",
      " flatten_1 (Flatten)         (None, 784)               0         \n",
      "                                                                 \n",
      " dense_3 (Dense)             (None, 300)               235500    \n",
      "                                                                 \n",
      " dense_4 (Dense)             (None, 100)               30100     \n",
      "                                                                 \n",
      " dense_5 (Dense)             (None, 10)                1010      \n",
      "                                                                 \n",
      "=================================================================\n",
      "Total params: 266610 (1.02 MB)\n",
      "Trainable params: 266610 (1.02 MB)\n",
      "Non-trainable params: 0 (0.00 Byte)\n",
      "_________________________________________________________________\n"
     ]
    }
   ],
   "source": [
    "# Summary\n",
    "model.summary()"
   ]
  },
  {
   "cell_type": "markdown",
   "metadata": {},
   "source": [
    "Entrenamos el modelo. Usamos los datos de entrenamiento. El batch_size es la cantidad de muestras que utiliza el SGD, y las epochs son las iteraciones que realiza en el entrenamiento."
   ]
  },
  {
   "cell_type": "code",
   "execution_count": 30,
   "metadata": {},
   "outputs": [
    {
     "data": {
      "text/plain": [
       "(50000, 28, 28)"
      ]
     },
     "execution_count": 30,
     "metadata": {},
     "output_type": "execute_result"
    }
   ],
   "source": [
    "X_train.shape"
   ]
  },
  {
   "cell_type": "code",
   "execution_count": 31,
   "metadata": {},
   "outputs": [
    {
     "data": {
      "text/plain": [
       "390.625"
      ]
     },
     "execution_count": 31,
     "metadata": {},
     "output_type": "execute_result"
    }
   ],
   "source": [
    "50000/128"
   ]
  },
  {
   "cell_type": "code",
   "execution_count": 32,
   "metadata": {
    "tags": []
   },
   "outputs": [
    {
     "name": "stdout",
     "output_type": "stream",
     "text": [
      "Epoch 1/50\n",
      "391/391 [==============================] - 1s 2ms/step - loss: 1.2612 - accuracy: 0.7001 - val_loss: 0.6087 - val_accuracy: 0.8655\n",
      "Epoch 2/50\n",
      "391/391 [==============================] - 1s 2ms/step - loss: 0.5176 - accuracy: 0.8696 - val_loss: 0.3966 - val_accuracy: 0.8974\n",
      "Epoch 3/50\n",
      "391/391 [==============================] - 1s 2ms/step - loss: 0.3972 - accuracy: 0.8926 - val_loss: 0.3337 - val_accuracy: 0.9079\n",
      "Epoch 4/50\n",
      "391/391 [==============================] - 1s 2ms/step - loss: 0.3469 - accuracy: 0.9035 - val_loss: 0.3013 - val_accuracy: 0.9153\n",
      "Epoch 5/50\n",
      "391/391 [==============================] - 1s 2ms/step - loss: 0.3160 - accuracy: 0.9112 - val_loss: 0.2807 - val_accuracy: 0.9187\n",
      "Epoch 6/50\n",
      "391/391 [==============================] - 1s 2ms/step - loss: 0.2935 - accuracy: 0.9175 - val_loss: 0.2618 - val_accuracy: 0.9251\n",
      "Epoch 7/50\n",
      "391/391 [==============================] - 1s 2ms/step - loss: 0.2758 - accuracy: 0.9222 - val_loss: 0.2500 - val_accuracy: 0.9289\n",
      "Epoch 8/50\n",
      "391/391 [==============================] - 1s 2ms/step - loss: 0.2611 - accuracy: 0.9264 - val_loss: 0.2379 - val_accuracy: 0.9310\n",
      "Epoch 9/50\n",
      "391/391 [==============================] - 1s 2ms/step - loss: 0.2485 - accuracy: 0.9304 - val_loss: 0.2282 - val_accuracy: 0.9346\n",
      "Epoch 10/50\n",
      "391/391 [==============================] - 1s 2ms/step - loss: 0.2371 - accuracy: 0.9339 - val_loss: 0.2184 - val_accuracy: 0.9390\n",
      "Epoch 11/50\n",
      "391/391 [==============================] - 1s 2ms/step - loss: 0.2272 - accuracy: 0.9362 - val_loss: 0.2111 - val_accuracy: 0.9415\n",
      "Epoch 12/50\n",
      "391/391 [==============================] - 1s 2ms/step - loss: 0.2179 - accuracy: 0.9386 - val_loss: 0.2031 - val_accuracy: 0.9441\n",
      "Epoch 13/50\n",
      "391/391 [==============================] - 1s 2ms/step - loss: 0.2095 - accuracy: 0.9412 - val_loss: 0.1972 - val_accuracy: 0.9458\n",
      "Epoch 14/50\n",
      "391/391 [==============================] - 1s 2ms/step - loss: 0.2018 - accuracy: 0.9435 - val_loss: 0.1901 - val_accuracy: 0.9493\n",
      "Epoch 15/50\n",
      "391/391 [==============================] - 1s 2ms/step - loss: 0.1946 - accuracy: 0.9456 - val_loss: 0.1840 - val_accuracy: 0.9507\n",
      "Epoch 16/50\n",
      "391/391 [==============================] - 1s 2ms/step - loss: 0.1878 - accuracy: 0.9475 - val_loss: 0.1792 - val_accuracy: 0.9517\n",
      "Epoch 17/50\n",
      "391/391 [==============================] - 1s 2ms/step - loss: 0.1817 - accuracy: 0.9493 - val_loss: 0.1745 - val_accuracy: 0.9539\n",
      "Epoch 18/50\n",
      "391/391 [==============================] - 1s 2ms/step - loss: 0.1756 - accuracy: 0.9509 - val_loss: 0.1692 - val_accuracy: 0.9537\n",
      "Epoch 19/50\n",
      "391/391 [==============================] - 1s 2ms/step - loss: 0.1701 - accuracy: 0.9517 - val_loss: 0.1650 - val_accuracy: 0.9562\n",
      "Epoch 20/50\n",
      "391/391 [==============================] - 1s 2ms/step - loss: 0.1649 - accuracy: 0.9535 - val_loss: 0.1608 - val_accuracy: 0.9559\n",
      "Epoch 21/50\n",
      "391/391 [==============================] - 1s 2ms/step - loss: 0.1599 - accuracy: 0.9552 - val_loss: 0.1563 - val_accuracy: 0.9589\n",
      "Epoch 22/50\n",
      "391/391 [==============================] - 1s 2ms/step - loss: 0.1552 - accuracy: 0.9557 - val_loss: 0.1553 - val_accuracy: 0.9579\n",
      "Epoch 23/50\n",
      "391/391 [==============================] - 1s 2ms/step - loss: 0.1508 - accuracy: 0.9574 - val_loss: 0.1532 - val_accuracy: 0.9597\n",
      "Epoch 24/50\n",
      "391/391 [==============================] - 1s 2ms/step - loss: 0.1467 - accuracy: 0.9582 - val_loss: 0.1475 - val_accuracy: 0.9609\n",
      "Epoch 25/50\n",
      "391/391 [==============================] - 1s 2ms/step - loss: 0.1427 - accuracy: 0.9592 - val_loss: 0.1449 - val_accuracy: 0.9625\n",
      "Epoch 26/50\n",
      "391/391 [==============================] - 1s 2ms/step - loss: 0.1389 - accuracy: 0.9606 - val_loss: 0.1408 - val_accuracy: 0.9619\n",
      "Epoch 27/50\n",
      "391/391 [==============================] - 1s 2ms/step - loss: 0.1351 - accuracy: 0.9617 - val_loss: 0.1399 - val_accuracy: 0.9633\n",
      "Epoch 28/50\n",
      "391/391 [==============================] - 1s 2ms/step - loss: 0.1318 - accuracy: 0.9626 - val_loss: 0.1375 - val_accuracy: 0.9644\n",
      "Epoch 29/50\n",
      "391/391 [==============================] - 1s 2ms/step - loss: 0.1284 - accuracy: 0.9642 - val_loss: 0.1339 - val_accuracy: 0.9654\n",
      "Epoch 30/50\n",
      "391/391 [==============================] - 1s 2ms/step - loss: 0.1252 - accuracy: 0.9648 - val_loss: 0.1313 - val_accuracy: 0.9645\n",
      "Epoch 31/50\n",
      "391/391 [==============================] - 1s 2ms/step - loss: 0.1223 - accuracy: 0.9656 - val_loss: 0.1294 - val_accuracy: 0.9665\n",
      "Epoch 32/50\n",
      "391/391 [==============================] - 1s 2ms/step - loss: 0.1194 - accuracy: 0.9664 - val_loss: 0.1270 - val_accuracy: 0.9662\n",
      "Epoch 33/50\n",
      "391/391 [==============================] - 1s 2ms/step - loss: 0.1163 - accuracy: 0.9673 - val_loss: 0.1249 - val_accuracy: 0.9672\n",
      "Epoch 34/50\n",
      "391/391 [==============================] - 1s 2ms/step - loss: 0.1139 - accuracy: 0.9679 - val_loss: 0.1231 - val_accuracy: 0.9666\n",
      "Epoch 35/50\n",
      "391/391 [==============================] - 1s 2ms/step - loss: 0.1111 - accuracy: 0.9690 - val_loss: 0.1230 - val_accuracy: 0.9673\n",
      "Epoch 36/50\n",
      "391/391 [==============================] - 1s 2ms/step - loss: 0.1087 - accuracy: 0.9692 - val_loss: 0.1198 - val_accuracy: 0.9678\n",
      "Epoch 37/50\n",
      "391/391 [==============================] - 1s 2ms/step - loss: 0.1063 - accuracy: 0.9706 - val_loss: 0.1179 - val_accuracy: 0.9686\n",
      "Epoch 38/50\n",
      "391/391 [==============================] - 1s 2ms/step - loss: 0.1040 - accuracy: 0.9711 - val_loss: 0.1165 - val_accuracy: 0.9684\n",
      "Epoch 39/50\n",
      "391/391 [==============================] - 1s 2ms/step - loss: 0.1017 - accuracy: 0.9714 - val_loss: 0.1154 - val_accuracy: 0.9685\n",
      "Epoch 40/50\n",
      "391/391 [==============================] - 1s 2ms/step - loss: 0.0997 - accuracy: 0.9725 - val_loss: 0.1138 - val_accuracy: 0.9692\n",
      "Epoch 41/50\n",
      "391/391 [==============================] - 1s 2ms/step - loss: 0.0975 - accuracy: 0.9730 - val_loss: 0.1122 - val_accuracy: 0.9689\n",
      "Epoch 42/50\n",
      "391/391 [==============================] - 1s 2ms/step - loss: 0.0952 - accuracy: 0.9735 - val_loss: 0.1107 - val_accuracy: 0.9695\n",
      "Epoch 43/50\n",
      "391/391 [==============================] - 1s 2ms/step - loss: 0.0935 - accuracy: 0.9738 - val_loss: 0.1119 - val_accuracy: 0.9695\n",
      "Epoch 44/50\n",
      "391/391 [==============================] - 1s 2ms/step - loss: 0.0915 - accuracy: 0.9746 - val_loss: 0.1080 - val_accuracy: 0.9696\n",
      "Epoch 45/50\n",
      "391/391 [==============================] - 1s 2ms/step - loss: 0.0897 - accuracy: 0.9751 - val_loss: 0.1072 - val_accuracy: 0.9707\n",
      "Epoch 46/50\n",
      "391/391 [==============================] - 1s 2ms/step - loss: 0.0879 - accuracy: 0.9760 - val_loss: 0.1061 - val_accuracy: 0.9709\n",
      "Epoch 47/50\n",
      "391/391 [==============================] - 1s 2ms/step - loss: 0.0862 - accuracy: 0.9763 - val_loss: 0.1052 - val_accuracy: 0.9705\n",
      "Epoch 48/50\n",
      "391/391 [==============================] - 1s 2ms/step - loss: 0.0844 - accuracy: 0.9767 - val_loss: 0.1037 - val_accuracy: 0.9717\n",
      "Epoch 49/50\n",
      "391/391 [==============================] - 1s 2ms/step - loss: 0.0827 - accuracy: 0.9775 - val_loss: 0.1025 - val_accuracy: 0.9714\n",
      "Epoch 50/50\n",
      "391/391 [==============================] - 1s 2ms/step - loss: 0.0812 - accuracy: 0.9776 - val_loss: 0.1026 - val_accuracy: 0.9714\n"
     ]
    }
   ],
   "source": [
    "history = model.fit(\n",
    "    X_train,\n",
    "    y_train,\n",
    "    batch_size = 128,\n",
    "    epochs = 50,\n",
    "    validation_data = (X_val, y_val) # validation_split = 0.1\n",
    ")"
   ]
  },
  {
   "cell_type": "markdown",
   "metadata": {},
   "source": [
    "Podemos reentrenar el modelo. No empieza de nuevo, sino que retoma el entrenamiento anterior."
   ]
  },
  {
   "cell_type": "code",
   "execution_count": 33,
   "metadata": {},
   "outputs": [
    {
     "name": "stdout",
     "output_type": "stream",
     "text": [
      "Epoch 1/10\n",
      "782/782 [==============================] - 1s 1ms/step - loss: 0.0807 - accuracy: 0.9776 - val_loss: 0.1044 - val_accuracy: 0.9699\n",
      "Epoch 2/10\n",
      "782/782 [==============================] - 1s 1ms/step - loss: 0.0777 - accuracy: 0.9786 - val_loss: 0.1006 - val_accuracy: 0.9714\n",
      "Epoch 3/10\n",
      "782/782 [==============================] - 1s 1ms/step - loss: 0.0749 - accuracy: 0.9793 - val_loss: 0.0990 - val_accuracy: 0.9722\n",
      "Epoch 4/10\n",
      "782/782 [==============================] - 1s 1ms/step - loss: 0.0720 - accuracy: 0.9804 - val_loss: 0.1006 - val_accuracy: 0.9709\n",
      "Epoch 5/10\n",
      "782/782 [==============================] - 1s 1ms/step - loss: 0.0697 - accuracy: 0.9810 - val_loss: 0.0942 - val_accuracy: 0.9737\n",
      "Epoch 6/10\n",
      "782/782 [==============================] - 1s 1ms/step - loss: 0.0670 - accuracy: 0.9814 - val_loss: 0.0924 - val_accuracy: 0.9735\n",
      "Epoch 7/10\n",
      "782/782 [==============================] - 1s 1ms/step - loss: 0.0647 - accuracy: 0.9823 - val_loss: 0.0920 - val_accuracy: 0.9742\n",
      "Epoch 8/10\n",
      "782/782 [==============================] - 1s 1ms/step - loss: 0.0625 - accuracy: 0.9827 - val_loss: 0.0909 - val_accuracy: 0.9745\n",
      "Epoch 9/10\n",
      "782/782 [==============================] - 1s 1ms/step - loss: 0.0604 - accuracy: 0.9834 - val_loss: 0.0897 - val_accuracy: 0.9752\n",
      "Epoch 10/10\n",
      "782/782 [==============================] - 1s 1ms/step - loss: 0.0583 - accuracy: 0.9842 - val_loss: 0.0888 - val_accuracy: 0.9753\n"
     ]
    },
    {
     "data": {
      "text/plain": [
       "<keras.src.callbacks.History at 0x29ec3e0b0>"
      ]
     },
     "execution_count": 33,
     "metadata": {},
     "output_type": "execute_result"
    }
   ],
   "source": [
    "model.fit(\n",
    "    X_train,\n",
    "    y_train,\n",
    "    batch_size = 64,\n",
    "    epochs = 10,\n",
    "    validation_data = (X_val, y_val) # validation_split = 0.1\n",
    ")"
   ]
  },
  {
   "cell_type": "markdown",
   "metadata": {},
   "source": [
    "Veamos el histórico del entrenamiento, para poder representarlo posteriormente."
   ]
  },
  {
   "cell_type": "code",
   "execution_count": 34,
   "metadata": {
    "collapsed": true,
    "jupyter": {
     "outputs_hidden": true
    },
    "tags": []
   },
   "outputs": [
    {
     "name": "stdout",
     "output_type": "stream",
     "text": [
      "{'verbose': 1, 'epochs': 50, 'steps': 391}\n",
      "[0, 1, 2, 3, 4, 5, 6, 7, 8, 9, 10, 11, 12, 13, 14, 15, 16, 17, 18, 19, 20, 21, 22, 23, 24, 25, 26, 27, 28, 29, 30, 31, 32, 33, 34, 35, 36, 37, 38, 39, 40, 41, 42, 43, 44, 45, 46, 47, 48, 49]\n"
     ]
    },
    {
     "data": {
      "text/plain": [
       "{'loss': [1.2611974477767944,\n",
       "  0.5175681114196777,\n",
       "  0.39717671275138855,\n",
       "  0.34690481424331665,\n",
       "  0.3160381019115448,\n",
       "  0.2934836447238922,\n",
       "  0.27575382590293884,\n",
       "  0.2611294090747833,\n",
       "  0.2485114187002182,\n",
       "  0.2371288239955902,\n",
       "  0.22715921700000763,\n",
       "  0.21793246269226074,\n",
       "  0.20947465300559998,\n",
       "  0.2017858326435089,\n",
       "  0.19464802742004395,\n",
       "  0.18784917891025543,\n",
       "  0.1816859394311905,\n",
       "  0.17562097311019897,\n",
       "  0.1701238602399826,\n",
       "  0.16486260294914246,\n",
       "  0.15989314019680023,\n",
       "  0.15522721409797668,\n",
       "  0.1507575511932373,\n",
       "  0.14671845734119415,\n",
       "  0.14268410205841064,\n",
       "  0.13885433971881866,\n",
       "  0.13507607579231262,\n",
       "  0.13176493346691132,\n",
       "  0.128411665558815,\n",
       "  0.12520568072795868,\n",
       "  0.1222592368721962,\n",
       "  0.11936879903078079,\n",
       "  0.11634428799152374,\n",
       "  0.1139129102230072,\n",
       "  0.11113853752613068,\n",
       "  0.10872627049684525,\n",
       "  0.10632456094026566,\n",
       "  0.1040206328034401,\n",
       "  0.10172244161367416,\n",
       "  0.09968534857034683,\n",
       "  0.09754641354084015,\n",
       "  0.09515716135501862,\n",
       "  0.09354706853628159,\n",
       "  0.0914609283208847,\n",
       "  0.08966286480426788,\n",
       "  0.0878918468952179,\n",
       "  0.08618365228176117,\n",
       "  0.08439692109823227,\n",
       "  0.08269266784191132,\n",
       "  0.08116284757852554],\n",
       " 'accuracy': [0.7000799775123596,\n",
       "  0.8695999979972839,\n",
       "  0.892579972743988,\n",
       "  0.9035400152206421,\n",
       "  0.9111800193786621,\n",
       "  0.9174799919128418,\n",
       "  0.9222400188446045,\n",
       "  0.9264400005340576,\n",
       "  0.9304400086402893,\n",
       "  0.9338799715042114,\n",
       "  0.936240017414093,\n",
       "  0.9385799765586853,\n",
       "  0.9411600232124329,\n",
       "  0.9435200095176697,\n",
       "  0.9456200003623962,\n",
       "  0.9474999904632568,\n",
       "  0.9492999911308289,\n",
       "  0.9509199857711792,\n",
       "  0.95169997215271,\n",
       "  0.953540027141571,\n",
       "  0.9551600217819214,\n",
       "  0.9556800127029419,\n",
       "  0.9573799967765808,\n",
       "  0.9582200050354004,\n",
       "  0.9592000246047974,\n",
       "  0.9606000185012817,\n",
       "  0.961679995059967,\n",
       "  0.9625599980354309,\n",
       "  0.9641600251197815,\n",
       "  0.9647799730300903,\n",
       "  0.9656400084495544,\n",
       "  0.9663599729537964,\n",
       "  0.9673399925231934,\n",
       "  0.9679399728775024,\n",
       "  0.9690200090408325,\n",
       "  0.9691799879074097,\n",
       "  0.9706199765205383,\n",
       "  0.9711199998855591,\n",
       "  0.9714400172233582,\n",
       "  0.9725000262260437,\n",
       "  0.973039984703064,\n",
       "  0.9735000133514404,\n",
       "  0.9738199710845947,\n",
       "  0.9746000170707703,\n",
       "  0.975059986114502,\n",
       "  0.9759600162506104,\n",
       "  0.9763200283050537,\n",
       "  0.9767000079154968,\n",
       "  0.9774600267410278,\n",
       "  0.9776399731636047],\n",
       " 'val_loss': [0.6086682677268982,\n",
       "  0.3966069519519806,\n",
       "  0.33370304107666016,\n",
       "  0.3012554347515106,\n",
       "  0.28067827224731445,\n",
       "  0.2618442177772522,\n",
       "  0.24999970197677612,\n",
       "  0.23788808286190033,\n",
       "  0.22824226319789886,\n",
       "  0.21844428777694702,\n",
       "  0.2110937535762787,\n",
       "  0.20310774445533752,\n",
       "  0.19716468453407288,\n",
       "  0.19007503986358643,\n",
       "  0.18400780856609344,\n",
       "  0.17920492589473724,\n",
       "  0.17450778186321259,\n",
       "  0.16917330026626587,\n",
       "  0.16502436995506287,\n",
       "  0.1608121395111084,\n",
       "  0.1563393771648407,\n",
       "  0.15528009831905365,\n",
       "  0.15321733057498932,\n",
       "  0.1475340873003006,\n",
       "  0.14494791626930237,\n",
       "  0.1407983899116516,\n",
       "  0.13994410634040833,\n",
       "  0.1375015676021576,\n",
       "  0.13390269875526428,\n",
       "  0.1312616467475891,\n",
       "  0.12940144538879395,\n",
       "  0.1269911229610443,\n",
       "  0.12485235929489136,\n",
       "  0.12313447147607803,\n",
       "  0.12296608835458755,\n",
       "  0.11978451162576675,\n",
       "  0.11788713186979294,\n",
       "  0.11652636528015137,\n",
       "  0.11540184170007706,\n",
       "  0.11375708132982254,\n",
       "  0.11218418180942535,\n",
       "  0.11069627851247787,\n",
       "  0.11193843930959702,\n",
       "  0.10796572268009186,\n",
       "  0.10719610750675201,\n",
       "  0.1061447486281395,\n",
       "  0.10516580939292908,\n",
       "  0.1037064716219902,\n",
       "  0.10250848531723022,\n",
       "  0.10260937362909317],\n",
       " 'val_accuracy': [0.8654999732971191,\n",
       "  0.8974000215530396,\n",
       "  0.9078999757766724,\n",
       "  0.9153000116348267,\n",
       "  0.9186999797821045,\n",
       "  0.9251000285148621,\n",
       "  0.9289000034332275,\n",
       "  0.9309999942779541,\n",
       "  0.9345999956130981,\n",
       "  0.9390000104904175,\n",
       "  0.9415000081062317,\n",
       "  0.944100022315979,\n",
       "  0.9458000063896179,\n",
       "  0.9492999911308289,\n",
       "  0.9506999850273132,\n",
       "  0.95169997215271,\n",
       "  0.9538999795913696,\n",
       "  0.9537000060081482,\n",
       "  0.9562000036239624,\n",
       "  0.9559000134468079,\n",
       "  0.958899974822998,\n",
       "  0.9578999876976013,\n",
       "  0.9596999883651733,\n",
       "  0.9609000086784363,\n",
       "  0.9624999761581421,\n",
       "  0.961899995803833,\n",
       "  0.9632999897003174,\n",
       "  0.9643999934196472,\n",
       "  0.965399980545044,\n",
       "  0.9645000100135803,\n",
       "  0.9664999842643738,\n",
       "  0.9661999940872192,\n",
       "  0.967199981212616,\n",
       "  0.9666000008583069,\n",
       "  0.9672999978065491,\n",
       "  0.9678000211715698,\n",
       "  0.9685999751091003,\n",
       "  0.9684000015258789,\n",
       "  0.968500018119812,\n",
       "  0.9692000150680542,\n",
       "  0.9689000248908997,\n",
       "  0.9695000052452087,\n",
       "  0.9695000052452087,\n",
       "  0.9696000218391418,\n",
       "  0.9707000255584717,\n",
       "  0.9708999991416931,\n",
       "  0.9704999923706055,\n",
       "  0.9717000126838684,\n",
       "  0.9714000225067139,\n",
       "  0.9714000225067139]}"
      ]
     },
     "execution_count": 34,
     "metadata": {},
     "output_type": "execute_result"
    }
   ],
   "source": [
    "print(history.params)\n",
    "print(history.epoch)\n",
    "history.history"
   ]
  },
  {
   "cell_type": "code",
   "execution_count": 35,
   "metadata": {},
   "outputs": [
    {
     "data": {
      "text/plain": [
       "{'loss': [1.2611974477767944,\n",
       "  0.5175681114196777,\n",
       "  0.39717671275138855,\n",
       "  0.34690481424331665,\n",
       "  0.3160381019115448,\n",
       "  0.2934836447238922,\n",
       "  0.27575382590293884,\n",
       "  0.2611294090747833,\n",
       "  0.2485114187002182,\n",
       "  0.2371288239955902,\n",
       "  0.22715921700000763,\n",
       "  0.21793246269226074,\n",
       "  0.20947465300559998,\n",
       "  0.2017858326435089,\n",
       "  0.19464802742004395,\n",
       "  0.18784917891025543,\n",
       "  0.1816859394311905,\n",
       "  0.17562097311019897,\n",
       "  0.1701238602399826,\n",
       "  0.16486260294914246,\n",
       "  0.15989314019680023,\n",
       "  0.15522721409797668,\n",
       "  0.1507575511932373,\n",
       "  0.14671845734119415,\n",
       "  0.14268410205841064,\n",
       "  0.13885433971881866,\n",
       "  0.13507607579231262,\n",
       "  0.13176493346691132,\n",
       "  0.128411665558815,\n",
       "  0.12520568072795868,\n",
       "  0.1222592368721962,\n",
       "  0.11936879903078079,\n",
       "  0.11634428799152374,\n",
       "  0.1139129102230072,\n",
       "  0.11113853752613068,\n",
       "  0.10872627049684525,\n",
       "  0.10632456094026566,\n",
       "  0.1040206328034401,\n",
       "  0.10172244161367416,\n",
       "  0.09968534857034683,\n",
       "  0.09754641354084015,\n",
       "  0.09515716135501862,\n",
       "  0.09354706853628159,\n",
       "  0.0914609283208847,\n",
       "  0.08966286480426788,\n",
       "  0.0878918468952179,\n",
       "  0.08618365228176117,\n",
       "  0.08439692109823227,\n",
       "  0.08269266784191132,\n",
       "  0.08116284757852554],\n",
       " 'accuracy': [0.7000799775123596,\n",
       "  0.8695999979972839,\n",
       "  0.892579972743988,\n",
       "  0.9035400152206421,\n",
       "  0.9111800193786621,\n",
       "  0.9174799919128418,\n",
       "  0.9222400188446045,\n",
       "  0.9264400005340576,\n",
       "  0.9304400086402893,\n",
       "  0.9338799715042114,\n",
       "  0.936240017414093,\n",
       "  0.9385799765586853,\n",
       "  0.9411600232124329,\n",
       "  0.9435200095176697,\n",
       "  0.9456200003623962,\n",
       "  0.9474999904632568,\n",
       "  0.9492999911308289,\n",
       "  0.9509199857711792,\n",
       "  0.95169997215271,\n",
       "  0.953540027141571,\n",
       "  0.9551600217819214,\n",
       "  0.9556800127029419,\n",
       "  0.9573799967765808,\n",
       "  0.9582200050354004,\n",
       "  0.9592000246047974,\n",
       "  0.9606000185012817,\n",
       "  0.961679995059967,\n",
       "  0.9625599980354309,\n",
       "  0.9641600251197815,\n",
       "  0.9647799730300903,\n",
       "  0.9656400084495544,\n",
       "  0.9663599729537964,\n",
       "  0.9673399925231934,\n",
       "  0.9679399728775024,\n",
       "  0.9690200090408325,\n",
       "  0.9691799879074097,\n",
       "  0.9706199765205383,\n",
       "  0.9711199998855591,\n",
       "  0.9714400172233582,\n",
       "  0.9725000262260437,\n",
       "  0.973039984703064,\n",
       "  0.9735000133514404,\n",
       "  0.9738199710845947,\n",
       "  0.9746000170707703,\n",
       "  0.975059986114502,\n",
       "  0.9759600162506104,\n",
       "  0.9763200283050537,\n",
       "  0.9767000079154968,\n",
       "  0.9774600267410278,\n",
       "  0.9776399731636047],\n",
       " 'val_loss': [0.6086682677268982,\n",
       "  0.3966069519519806,\n",
       "  0.33370304107666016,\n",
       "  0.3012554347515106,\n",
       "  0.28067827224731445,\n",
       "  0.2618442177772522,\n",
       "  0.24999970197677612,\n",
       "  0.23788808286190033,\n",
       "  0.22824226319789886,\n",
       "  0.21844428777694702,\n",
       "  0.2110937535762787,\n",
       "  0.20310774445533752,\n",
       "  0.19716468453407288,\n",
       "  0.19007503986358643,\n",
       "  0.18400780856609344,\n",
       "  0.17920492589473724,\n",
       "  0.17450778186321259,\n",
       "  0.16917330026626587,\n",
       "  0.16502436995506287,\n",
       "  0.1608121395111084,\n",
       "  0.1563393771648407,\n",
       "  0.15528009831905365,\n",
       "  0.15321733057498932,\n",
       "  0.1475340873003006,\n",
       "  0.14494791626930237,\n",
       "  0.1407983899116516,\n",
       "  0.13994410634040833,\n",
       "  0.1375015676021576,\n",
       "  0.13390269875526428,\n",
       "  0.1312616467475891,\n",
       "  0.12940144538879395,\n",
       "  0.1269911229610443,\n",
       "  0.12485235929489136,\n",
       "  0.12313447147607803,\n",
       "  0.12296608835458755,\n",
       "  0.11978451162576675,\n",
       "  0.11788713186979294,\n",
       "  0.11652636528015137,\n",
       "  0.11540184170007706,\n",
       "  0.11375708132982254,\n",
       "  0.11218418180942535,\n",
       "  0.11069627851247787,\n",
       "  0.11193843930959702,\n",
       "  0.10796572268009186,\n",
       "  0.10719610750675201,\n",
       "  0.1061447486281395,\n",
       "  0.10516580939292908,\n",
       "  0.1037064716219902,\n",
       "  0.10250848531723022,\n",
       "  0.10260937362909317],\n",
       " 'val_accuracy': [0.8654999732971191,\n",
       "  0.8974000215530396,\n",
       "  0.9078999757766724,\n",
       "  0.9153000116348267,\n",
       "  0.9186999797821045,\n",
       "  0.9251000285148621,\n",
       "  0.9289000034332275,\n",
       "  0.9309999942779541,\n",
       "  0.9345999956130981,\n",
       "  0.9390000104904175,\n",
       "  0.9415000081062317,\n",
       "  0.944100022315979,\n",
       "  0.9458000063896179,\n",
       "  0.9492999911308289,\n",
       "  0.9506999850273132,\n",
       "  0.95169997215271,\n",
       "  0.9538999795913696,\n",
       "  0.9537000060081482,\n",
       "  0.9562000036239624,\n",
       "  0.9559000134468079,\n",
       "  0.958899974822998,\n",
       "  0.9578999876976013,\n",
       "  0.9596999883651733,\n",
       "  0.9609000086784363,\n",
       "  0.9624999761581421,\n",
       "  0.961899995803833,\n",
       "  0.9632999897003174,\n",
       "  0.9643999934196472,\n",
       "  0.965399980545044,\n",
       "  0.9645000100135803,\n",
       "  0.9664999842643738,\n",
       "  0.9661999940872192,\n",
       "  0.967199981212616,\n",
       "  0.9666000008583069,\n",
       "  0.9672999978065491,\n",
       "  0.9678000211715698,\n",
       "  0.9685999751091003,\n",
       "  0.9684000015258789,\n",
       "  0.968500018119812,\n",
       "  0.9692000150680542,\n",
       "  0.9689000248908997,\n",
       "  0.9695000052452087,\n",
       "  0.9695000052452087,\n",
       "  0.9696000218391418,\n",
       "  0.9707000255584717,\n",
       "  0.9708999991416931,\n",
       "  0.9704999923706055,\n",
       "  0.9717000126838684,\n",
       "  0.9714000225067139,\n",
       "  0.9714000225067139]}"
      ]
     },
     "execution_count": 35,
     "metadata": {},
     "output_type": "execute_result"
    }
   ],
   "source": [
    "history.history"
   ]
  },
  {
   "cell_type": "code",
   "execution_count": 36,
   "metadata": {},
   "outputs": [
    {
     "data": {
      "text/plain": [
       "dict_keys(['loss', 'accuracy', 'val_loss', 'val_accuracy'])"
      ]
     },
     "execution_count": 36,
     "metadata": {},
     "output_type": "execute_result"
    }
   ],
   "source": [
    "history.history.keys()"
   ]
  },
  {
   "cell_type": "code",
   "execution_count": 37,
   "metadata": {},
   "outputs": [
    {
     "data": {
      "text/html": [
       "<div>\n",
       "<style scoped>\n",
       "    .dataframe tbody tr th:only-of-type {\n",
       "        vertical-align: middle;\n",
       "    }\n",
       "\n",
       "    .dataframe tbody tr th {\n",
       "        vertical-align: top;\n",
       "    }\n",
       "\n",
       "    .dataframe thead th {\n",
       "        text-align: right;\n",
       "    }\n",
       "</style>\n",
       "<table border=\"1\" class=\"dataframe\">\n",
       "  <thead>\n",
       "    <tr style=\"text-align: right;\">\n",
       "      <th></th>\n",
       "      <th>loss</th>\n",
       "      <th>accuracy</th>\n",
       "      <th>val_loss</th>\n",
       "      <th>val_accuracy</th>\n",
       "    </tr>\n",
       "  </thead>\n",
       "  <tbody>\n",
       "    <tr>\n",
       "      <th>0</th>\n",
       "      <td>1.261197</td>\n",
       "      <td>0.70008</td>\n",
       "      <td>0.608668</td>\n",
       "      <td>0.8655</td>\n",
       "    </tr>\n",
       "    <tr>\n",
       "      <th>1</th>\n",
       "      <td>0.517568</td>\n",
       "      <td>0.86960</td>\n",
       "      <td>0.396607</td>\n",
       "      <td>0.8974</td>\n",
       "    </tr>\n",
       "    <tr>\n",
       "      <th>2</th>\n",
       "      <td>0.397177</td>\n",
       "      <td>0.89258</td>\n",
       "      <td>0.333703</td>\n",
       "      <td>0.9079</td>\n",
       "    </tr>\n",
       "    <tr>\n",
       "      <th>3</th>\n",
       "      <td>0.346905</td>\n",
       "      <td>0.90354</td>\n",
       "      <td>0.301255</td>\n",
       "      <td>0.9153</td>\n",
       "    </tr>\n",
       "    <tr>\n",
       "      <th>4</th>\n",
       "      <td>0.316038</td>\n",
       "      <td>0.91118</td>\n",
       "      <td>0.280678</td>\n",
       "      <td>0.9187</td>\n",
       "    </tr>\n",
       "    <tr>\n",
       "      <th>5</th>\n",
       "      <td>0.293484</td>\n",
       "      <td>0.91748</td>\n",
       "      <td>0.261844</td>\n",
       "      <td>0.9251</td>\n",
       "    </tr>\n",
       "    <tr>\n",
       "      <th>6</th>\n",
       "      <td>0.275754</td>\n",
       "      <td>0.92224</td>\n",
       "      <td>0.250000</td>\n",
       "      <td>0.9289</td>\n",
       "    </tr>\n",
       "    <tr>\n",
       "      <th>7</th>\n",
       "      <td>0.261129</td>\n",
       "      <td>0.92644</td>\n",
       "      <td>0.237888</td>\n",
       "      <td>0.9310</td>\n",
       "    </tr>\n",
       "    <tr>\n",
       "      <th>8</th>\n",
       "      <td>0.248511</td>\n",
       "      <td>0.93044</td>\n",
       "      <td>0.228242</td>\n",
       "      <td>0.9346</td>\n",
       "    </tr>\n",
       "    <tr>\n",
       "      <th>9</th>\n",
       "      <td>0.237129</td>\n",
       "      <td>0.93388</td>\n",
       "      <td>0.218444</td>\n",
       "      <td>0.9390</td>\n",
       "    </tr>\n",
       "    <tr>\n",
       "      <th>10</th>\n",
       "      <td>0.227159</td>\n",
       "      <td>0.93624</td>\n",
       "      <td>0.211094</td>\n",
       "      <td>0.9415</td>\n",
       "    </tr>\n",
       "    <tr>\n",
       "      <th>11</th>\n",
       "      <td>0.217932</td>\n",
       "      <td>0.93858</td>\n",
       "      <td>0.203108</td>\n",
       "      <td>0.9441</td>\n",
       "    </tr>\n",
       "    <tr>\n",
       "      <th>12</th>\n",
       "      <td>0.209475</td>\n",
       "      <td>0.94116</td>\n",
       "      <td>0.197165</td>\n",
       "      <td>0.9458</td>\n",
       "    </tr>\n",
       "    <tr>\n",
       "      <th>13</th>\n",
       "      <td>0.201786</td>\n",
       "      <td>0.94352</td>\n",
       "      <td>0.190075</td>\n",
       "      <td>0.9493</td>\n",
       "    </tr>\n",
       "    <tr>\n",
       "      <th>14</th>\n",
       "      <td>0.194648</td>\n",
       "      <td>0.94562</td>\n",
       "      <td>0.184008</td>\n",
       "      <td>0.9507</td>\n",
       "    </tr>\n",
       "    <tr>\n",
       "      <th>15</th>\n",
       "      <td>0.187849</td>\n",
       "      <td>0.94750</td>\n",
       "      <td>0.179205</td>\n",
       "      <td>0.9517</td>\n",
       "    </tr>\n",
       "    <tr>\n",
       "      <th>16</th>\n",
       "      <td>0.181686</td>\n",
       "      <td>0.94930</td>\n",
       "      <td>0.174508</td>\n",
       "      <td>0.9539</td>\n",
       "    </tr>\n",
       "    <tr>\n",
       "      <th>17</th>\n",
       "      <td>0.175621</td>\n",
       "      <td>0.95092</td>\n",
       "      <td>0.169173</td>\n",
       "      <td>0.9537</td>\n",
       "    </tr>\n",
       "    <tr>\n",
       "      <th>18</th>\n",
       "      <td>0.170124</td>\n",
       "      <td>0.95170</td>\n",
       "      <td>0.165024</td>\n",
       "      <td>0.9562</td>\n",
       "    </tr>\n",
       "    <tr>\n",
       "      <th>19</th>\n",
       "      <td>0.164863</td>\n",
       "      <td>0.95354</td>\n",
       "      <td>0.160812</td>\n",
       "      <td>0.9559</td>\n",
       "    </tr>\n",
       "    <tr>\n",
       "      <th>20</th>\n",
       "      <td>0.159893</td>\n",
       "      <td>0.95516</td>\n",
       "      <td>0.156339</td>\n",
       "      <td>0.9589</td>\n",
       "    </tr>\n",
       "    <tr>\n",
       "      <th>21</th>\n",
       "      <td>0.155227</td>\n",
       "      <td>0.95568</td>\n",
       "      <td>0.155280</td>\n",
       "      <td>0.9579</td>\n",
       "    </tr>\n",
       "    <tr>\n",
       "      <th>22</th>\n",
       "      <td>0.150758</td>\n",
       "      <td>0.95738</td>\n",
       "      <td>0.153217</td>\n",
       "      <td>0.9597</td>\n",
       "    </tr>\n",
       "    <tr>\n",
       "      <th>23</th>\n",
       "      <td>0.146718</td>\n",
       "      <td>0.95822</td>\n",
       "      <td>0.147534</td>\n",
       "      <td>0.9609</td>\n",
       "    </tr>\n",
       "    <tr>\n",
       "      <th>24</th>\n",
       "      <td>0.142684</td>\n",
       "      <td>0.95920</td>\n",
       "      <td>0.144948</td>\n",
       "      <td>0.9625</td>\n",
       "    </tr>\n",
       "    <tr>\n",
       "      <th>25</th>\n",
       "      <td>0.138854</td>\n",
       "      <td>0.96060</td>\n",
       "      <td>0.140798</td>\n",
       "      <td>0.9619</td>\n",
       "    </tr>\n",
       "    <tr>\n",
       "      <th>26</th>\n",
       "      <td>0.135076</td>\n",
       "      <td>0.96168</td>\n",
       "      <td>0.139944</td>\n",
       "      <td>0.9633</td>\n",
       "    </tr>\n",
       "    <tr>\n",
       "      <th>27</th>\n",
       "      <td>0.131765</td>\n",
       "      <td>0.96256</td>\n",
       "      <td>0.137502</td>\n",
       "      <td>0.9644</td>\n",
       "    </tr>\n",
       "    <tr>\n",
       "      <th>28</th>\n",
       "      <td>0.128412</td>\n",
       "      <td>0.96416</td>\n",
       "      <td>0.133903</td>\n",
       "      <td>0.9654</td>\n",
       "    </tr>\n",
       "    <tr>\n",
       "      <th>29</th>\n",
       "      <td>0.125206</td>\n",
       "      <td>0.96478</td>\n",
       "      <td>0.131262</td>\n",
       "      <td>0.9645</td>\n",
       "    </tr>\n",
       "    <tr>\n",
       "      <th>30</th>\n",
       "      <td>0.122259</td>\n",
       "      <td>0.96564</td>\n",
       "      <td>0.129401</td>\n",
       "      <td>0.9665</td>\n",
       "    </tr>\n",
       "    <tr>\n",
       "      <th>31</th>\n",
       "      <td>0.119369</td>\n",
       "      <td>0.96636</td>\n",
       "      <td>0.126991</td>\n",
       "      <td>0.9662</td>\n",
       "    </tr>\n",
       "    <tr>\n",
       "      <th>32</th>\n",
       "      <td>0.116344</td>\n",
       "      <td>0.96734</td>\n",
       "      <td>0.124852</td>\n",
       "      <td>0.9672</td>\n",
       "    </tr>\n",
       "    <tr>\n",
       "      <th>33</th>\n",
       "      <td>0.113913</td>\n",
       "      <td>0.96794</td>\n",
       "      <td>0.123134</td>\n",
       "      <td>0.9666</td>\n",
       "    </tr>\n",
       "    <tr>\n",
       "      <th>34</th>\n",
       "      <td>0.111139</td>\n",
       "      <td>0.96902</td>\n",
       "      <td>0.122966</td>\n",
       "      <td>0.9673</td>\n",
       "    </tr>\n",
       "    <tr>\n",
       "      <th>35</th>\n",
       "      <td>0.108726</td>\n",
       "      <td>0.96918</td>\n",
       "      <td>0.119785</td>\n",
       "      <td>0.9678</td>\n",
       "    </tr>\n",
       "    <tr>\n",
       "      <th>36</th>\n",
       "      <td>0.106325</td>\n",
       "      <td>0.97062</td>\n",
       "      <td>0.117887</td>\n",
       "      <td>0.9686</td>\n",
       "    </tr>\n",
       "    <tr>\n",
       "      <th>37</th>\n",
       "      <td>0.104021</td>\n",
       "      <td>0.97112</td>\n",
       "      <td>0.116526</td>\n",
       "      <td>0.9684</td>\n",
       "    </tr>\n",
       "    <tr>\n",
       "      <th>38</th>\n",
       "      <td>0.101722</td>\n",
       "      <td>0.97144</td>\n",
       "      <td>0.115402</td>\n",
       "      <td>0.9685</td>\n",
       "    </tr>\n",
       "    <tr>\n",
       "      <th>39</th>\n",
       "      <td>0.099685</td>\n",
       "      <td>0.97250</td>\n",
       "      <td>0.113757</td>\n",
       "      <td>0.9692</td>\n",
       "    </tr>\n",
       "    <tr>\n",
       "      <th>40</th>\n",
       "      <td>0.097546</td>\n",
       "      <td>0.97304</td>\n",
       "      <td>0.112184</td>\n",
       "      <td>0.9689</td>\n",
       "    </tr>\n",
       "    <tr>\n",
       "      <th>41</th>\n",
       "      <td>0.095157</td>\n",
       "      <td>0.97350</td>\n",
       "      <td>0.110696</td>\n",
       "      <td>0.9695</td>\n",
       "    </tr>\n",
       "    <tr>\n",
       "      <th>42</th>\n",
       "      <td>0.093547</td>\n",
       "      <td>0.97382</td>\n",
       "      <td>0.111938</td>\n",
       "      <td>0.9695</td>\n",
       "    </tr>\n",
       "    <tr>\n",
       "      <th>43</th>\n",
       "      <td>0.091461</td>\n",
       "      <td>0.97460</td>\n",
       "      <td>0.107966</td>\n",
       "      <td>0.9696</td>\n",
       "    </tr>\n",
       "    <tr>\n",
       "      <th>44</th>\n",
       "      <td>0.089663</td>\n",
       "      <td>0.97506</td>\n",
       "      <td>0.107196</td>\n",
       "      <td>0.9707</td>\n",
       "    </tr>\n",
       "    <tr>\n",
       "      <th>45</th>\n",
       "      <td>0.087892</td>\n",
       "      <td>0.97596</td>\n",
       "      <td>0.106145</td>\n",
       "      <td>0.9709</td>\n",
       "    </tr>\n",
       "    <tr>\n",
       "      <th>46</th>\n",
       "      <td>0.086184</td>\n",
       "      <td>0.97632</td>\n",
       "      <td>0.105166</td>\n",
       "      <td>0.9705</td>\n",
       "    </tr>\n",
       "    <tr>\n",
       "      <th>47</th>\n",
       "      <td>0.084397</td>\n",
       "      <td>0.97670</td>\n",
       "      <td>0.103706</td>\n",
       "      <td>0.9717</td>\n",
       "    </tr>\n",
       "    <tr>\n",
       "      <th>48</th>\n",
       "      <td>0.082693</td>\n",
       "      <td>0.97746</td>\n",
       "      <td>0.102508</td>\n",
       "      <td>0.9714</td>\n",
       "    </tr>\n",
       "    <tr>\n",
       "      <th>49</th>\n",
       "      <td>0.081163</td>\n",
       "      <td>0.97764</td>\n",
       "      <td>0.102609</td>\n",
       "      <td>0.9714</td>\n",
       "    </tr>\n",
       "  </tbody>\n",
       "</table>\n",
       "</div>"
      ],
      "text/plain": [
       "        loss  accuracy  val_loss  val_accuracy\n",
       "0   1.261197   0.70008  0.608668        0.8655\n",
       "1   0.517568   0.86960  0.396607        0.8974\n",
       "2   0.397177   0.89258  0.333703        0.9079\n",
       "3   0.346905   0.90354  0.301255        0.9153\n",
       "4   0.316038   0.91118  0.280678        0.9187\n",
       "5   0.293484   0.91748  0.261844        0.9251\n",
       "6   0.275754   0.92224  0.250000        0.9289\n",
       "7   0.261129   0.92644  0.237888        0.9310\n",
       "8   0.248511   0.93044  0.228242        0.9346\n",
       "9   0.237129   0.93388  0.218444        0.9390\n",
       "10  0.227159   0.93624  0.211094        0.9415\n",
       "11  0.217932   0.93858  0.203108        0.9441\n",
       "12  0.209475   0.94116  0.197165        0.9458\n",
       "13  0.201786   0.94352  0.190075        0.9493\n",
       "14  0.194648   0.94562  0.184008        0.9507\n",
       "15  0.187849   0.94750  0.179205        0.9517\n",
       "16  0.181686   0.94930  0.174508        0.9539\n",
       "17  0.175621   0.95092  0.169173        0.9537\n",
       "18  0.170124   0.95170  0.165024        0.9562\n",
       "19  0.164863   0.95354  0.160812        0.9559\n",
       "20  0.159893   0.95516  0.156339        0.9589\n",
       "21  0.155227   0.95568  0.155280        0.9579\n",
       "22  0.150758   0.95738  0.153217        0.9597\n",
       "23  0.146718   0.95822  0.147534        0.9609\n",
       "24  0.142684   0.95920  0.144948        0.9625\n",
       "25  0.138854   0.96060  0.140798        0.9619\n",
       "26  0.135076   0.96168  0.139944        0.9633\n",
       "27  0.131765   0.96256  0.137502        0.9644\n",
       "28  0.128412   0.96416  0.133903        0.9654\n",
       "29  0.125206   0.96478  0.131262        0.9645\n",
       "30  0.122259   0.96564  0.129401        0.9665\n",
       "31  0.119369   0.96636  0.126991        0.9662\n",
       "32  0.116344   0.96734  0.124852        0.9672\n",
       "33  0.113913   0.96794  0.123134        0.9666\n",
       "34  0.111139   0.96902  0.122966        0.9673\n",
       "35  0.108726   0.96918  0.119785        0.9678\n",
       "36  0.106325   0.97062  0.117887        0.9686\n",
       "37  0.104021   0.97112  0.116526        0.9684\n",
       "38  0.101722   0.97144  0.115402        0.9685\n",
       "39  0.099685   0.97250  0.113757        0.9692\n",
       "40  0.097546   0.97304  0.112184        0.9689\n",
       "41  0.095157   0.97350  0.110696        0.9695\n",
       "42  0.093547   0.97382  0.111938        0.9695\n",
       "43  0.091461   0.97460  0.107966        0.9696\n",
       "44  0.089663   0.97506  0.107196        0.9707\n",
       "45  0.087892   0.97596  0.106145        0.9709\n",
       "46  0.086184   0.97632  0.105166        0.9705\n",
       "47  0.084397   0.97670  0.103706        0.9717\n",
       "48  0.082693   0.97746  0.102508        0.9714\n",
       "49  0.081163   0.97764  0.102609        0.9714"
      ]
     },
     "execution_count": 37,
     "metadata": {},
     "output_type": "execute_result"
    }
   ],
   "source": [
    "pd.DataFrame(history.history)"
   ]
  },
  {
   "cell_type": "code",
   "execution_count": 38,
   "metadata": {},
   "outputs": [
    {
     "data": {
      "image/png": "[encoded data removed]",
      "text/plain": [
       "<Figure size 800x500 with 1 Axes>"
      ]
     },
     "metadata": {},
     "output_type": "display_data"
    }
   ],
   "source": [
    "import pandas as pd\n",
    "import matplotlib.pyplot as plt\n",
    "\n",
    "pd.DataFrame(history.history).plot(figsize=(8, 5))\n",
    "plt.grid(True)\n",
    "plt.gca().set_ylim(0, 1) # set the vertical range to [0-1]\n",
    "plt.show()"
   ]
  },
  {
   "cell_type": "markdown",
   "metadata": {},
   "source": [
    "Si el modelo no ha ido bien, prueba a cambiar el learning rate, cambia de optimizador y después prueba a cambiar capas, neuronas y funciones de activación.\n",
    "\n",
    "Ya tenemos el modelo entrenado. Probémoslo con test"
   ]
  },
  {
   "cell_type": "code",
   "execution_count": 39,
   "metadata": {
    "tags": []
   },
   "outputs": [
    {
     "name": "stdout",
     "output_type": "stream",
     "text": [
      "313/313 [==============================] - 0s 564us/step - loss: 0.0887 - accuracy: 0.9737\n"
     ]
    },
    {
     "data": {
      "text/plain": [
       "[0.08869128674268723, 0.9736999869346619]"
      ]
     },
     "execution_count": 39,
     "metadata": {},
     "output_type": "execute_result"
    }
   ],
   "source": [
    "results = model.evaluate(X_test, y_test)\n",
    "results"
   ]
  },
  {
   "cell_type": "code",
   "execution_count": 40,
   "metadata": {
    "collapsed": true,
    "jupyter": {
     "outputs_hidden": true
    },
    "tags": []
   },
   "outputs": [
    {
     "data": {
      "image/png": "[encoded data removed]",
      "text/plain": [
       "<Figure size 640x480 with 1 Axes>"
      ]
     },
     "metadata": {},
     "output_type": "display_data"
    }
   ],
   "source": [
    "# Cogemos el primero\n",
    "plt.imshow(X_test[0].reshape(28,28), cmap=plt.cm.get_cmap('Greys'));"
   ]
  },
  {
   "cell_type": "code",
   "execution_count": 41,
   "metadata": {},
   "outputs": [
    {
     "data": {
      "text/plain": [
       "array([[[0.        , 0.        , 0.        , 0.        , 0.        ,\n",
       "         0.        , 0.        , 0.        , 0.        , 0.        ,\n",
       "         0.        , 0.        , 0.        , 0.        , 0.        ,\n",
       "         0.        , 0.        , 0.        , 0.        , 0.        ,\n",
       "         0.        , 0.        , 0.        , 0.        , 0.        ,\n",
       "         0.        , 0.        , 0.        ],\n",
       "        [0.        , 0.        , 0.        , 0.        , 0.        ,\n",
       "         0.        , 0.        , 0.        , 0.        , 0.        ,\n",
       "         0.        , 0.        , 0.        , 0.        , 0.        ,\n",
       "         0.        , 0.        , 0.        , 0.        , 0.        ,\n",
       "         0.        , 0.        , 0.        , 0.        , 0.        ,\n",
       "         0.        , 0.        , 0.        ],\n",
       "        [0.        , 0.        , 0.        , 0.        , 0.        ,\n",
       "         0.        , 0.        , 0.        , 0.        , 0.        ,\n",
       "         0.        , 0.        , 0.        , 0.        , 0.        ,\n",
       "         0.        , 0.        , 0.        , 0.        , 0.        ,\n",
       "         0.        , 0.        , 0.        , 0.        , 0.        ,\n",
       "         0.        , 0.        , 0.        ],\n",
       "        [0.        , 0.        , 0.        , 0.        , 0.        ,\n",
       "         0.        , 0.        , 0.        , 0.        , 0.        ,\n",
       "         0.        , 0.        , 0.        , 0.        , 0.        ,\n",
       "         0.        , 0.        , 0.        , 0.        , 0.        ,\n",
       "         0.        , 0.        , 0.        , 0.        , 0.        ,\n",
       "         0.        , 0.        , 0.        ],\n",
       "        [0.        , 0.        , 0.        , 0.        , 0.        ,\n",
       "         0.        , 0.        , 0.        , 0.        , 0.        ,\n",
       "         0.        , 0.        , 0.        , 0.        , 0.        ,\n",
       "         0.        , 0.        , 0.        , 0.        , 0.        ,\n",
       "         0.        , 0.        , 0.        , 0.        , 0.        ,\n",
       "         0.        , 0.        , 0.        ],\n",
       "        [0.        , 0.        , 0.        , 0.        , 0.        ,\n",
       "         0.        , 0.        , 0.        , 0.        , 0.        ,\n",
       "         0.        , 0.        , 0.        , 0.        , 0.        ,\n",
       "         0.        , 0.        , 0.        , 0.        , 0.        ,\n",
       "         0.        , 0.        , 0.        , 0.        , 0.        ,\n",
       "         0.        , 0.        , 0.        ],\n",
       "        [0.        , 0.        , 0.        , 0.        , 0.        ,\n",
       "         0.        , 0.        , 0.        , 0.        , 0.        ,\n",
       "         0.        , 0.        , 0.        , 0.        , 0.        ,\n",
       "         0.        , 0.        , 0.        , 0.        , 0.        ,\n",
       "         0.        , 0.        , 0.        , 0.        , 0.        ,\n",
       "         0.        , 0.        , 0.        ],\n",
       "        [0.        , 0.        , 0.        , 0.        , 0.        ,\n",
       "         0.        , 0.32941177, 0.7254902 , 0.62352943, 0.5921569 ,\n",
       "         0.23529412, 0.14117648, 0.        , 0.        , 0.        ,\n",
       "         0.        , 0.        , 0.        , 0.        , 0.        ,\n",
       "         0.        , 0.        , 0.        , 0.        , 0.        ,\n",
       "         0.        , 0.        , 0.        ],\n",
       "        [0.        , 0.        , 0.        , 0.        , 0.        ,\n",
       "         0.        , 0.87058824, 0.99607843, 0.99607843, 0.99607843,\n",
       "         0.99607843, 0.94509804, 0.7764706 , 0.7764706 , 0.7764706 ,\n",
       "         0.7764706 , 0.7764706 , 0.7764706 , 0.7764706 , 0.7764706 ,\n",
       "         0.6666667 , 0.20392157, 0.        , 0.        , 0.        ,\n",
       "         0.        , 0.        , 0.        ],\n",
       "        [0.        , 0.        , 0.        , 0.        , 0.        ,\n",
       "         0.        , 0.2627451 , 0.44705883, 0.28235295, 0.44705883,\n",
       "         0.6392157 , 0.8901961 , 0.99607843, 0.88235295, 0.99607843,\n",
       "         0.99607843, 0.99607843, 0.98039216, 0.8980392 , 0.99607843,\n",
       "         0.99607843, 0.54901963, 0.        , 0.        , 0.        ,\n",
       "         0.        , 0.        , 0.        ],\n",
       "        [0.        , 0.        , 0.        , 0.        , 0.        ,\n",
       "         0.        , 0.        , 0.        , 0.        , 0.        ,\n",
       "         0.        , 0.06666667, 0.25882354, 0.05490196, 0.2627451 ,\n",
       "         0.2627451 , 0.2627451 , 0.23137255, 0.08235294, 0.9254902 ,\n",
       "         0.99607843, 0.41568628, 0.        , 0.        , 0.        ,\n",
       "         0.        , 0.        , 0.        ],\n",
       "        [0.        , 0.        , 0.        , 0.        , 0.        ,\n",
       "         0.        , 0.        , 0.        , 0.        , 0.        ,\n",
       "         0.        , 0.        , 0.        , 0.        , 0.        ,\n",
       "         0.        , 0.        , 0.        , 0.3254902 , 0.99215686,\n",
       "         0.81960785, 0.07058824, 0.        , 0.        , 0.        ,\n",
       "         0.        , 0.        , 0.        ],\n",
       "        [0.        , 0.        , 0.        , 0.        , 0.        ,\n",
       "         0.        , 0.        , 0.        , 0.        , 0.        ,\n",
       "         0.        , 0.        , 0.        , 0.        , 0.        ,\n",
       "         0.        , 0.        , 0.08627451, 0.9137255 , 1.        ,\n",
       "         0.3254902 , 0.        , 0.        , 0.        , 0.        ,\n",
       "         0.        , 0.        , 0.        ],\n",
       "        [0.        , 0.        , 0.        , 0.        , 0.        ,\n",
       "         0.        , 0.        , 0.        , 0.        , 0.        ,\n",
       "         0.        , 0.        , 0.        , 0.        , 0.        ,\n",
       "         0.        , 0.        , 0.5058824 , 0.99607843, 0.93333334,\n",
       "         0.17254902, 0.        , 0.        , 0.        , 0.        ,\n",
       "         0.        , 0.        , 0.        ],\n",
       "        [0.        , 0.        , 0.        , 0.        , 0.        ,\n",
       "         0.        , 0.        , 0.        , 0.        , 0.        ,\n",
       "         0.        , 0.        , 0.        , 0.        , 0.        ,\n",
       "         0.        , 0.23137255, 0.9764706 , 0.99607843, 0.24313726,\n",
       "         0.        , 0.        , 0.        , 0.        , 0.        ,\n",
       "         0.        , 0.        , 0.        ],\n",
       "        [0.        , 0.        , 0.        , 0.        , 0.        ,\n",
       "         0.        , 0.        , 0.        , 0.        , 0.        ,\n",
       "         0.        , 0.        , 0.        , 0.        , 0.        ,\n",
       "         0.        , 0.52156866, 0.99607843, 0.73333335, 0.01960784,\n",
       "         0.        , 0.        , 0.        , 0.        , 0.        ,\n",
       "         0.        , 0.        , 0.        ],\n",
       "        [0.        , 0.        , 0.        , 0.        , 0.        ,\n",
       "         0.        , 0.        , 0.        , 0.        , 0.        ,\n",
       "         0.        , 0.        , 0.        , 0.        , 0.        ,\n",
       "         0.03529412, 0.8039216 , 0.972549  , 0.22745098, 0.        ,\n",
       "         0.        , 0.        , 0.        , 0.        , 0.        ,\n",
       "         0.        , 0.        , 0.        ],\n",
       "        [0.        , 0.        , 0.        , 0.        , 0.        ,\n",
       "         0.        , 0.        , 0.        , 0.        , 0.        ,\n",
       "         0.        , 0.        , 0.        , 0.        , 0.        ,\n",
       "         0.49411765, 0.99607843, 0.7137255 , 0.        , 0.        ,\n",
       "         0.        , 0.        , 0.        , 0.        , 0.        ,\n",
       "         0.        , 0.        , 0.        ],\n",
       "        [0.        , 0.        , 0.        , 0.        , 0.        ,\n",
       "         0.        , 0.        , 0.        , 0.        , 0.        ,\n",
       "         0.        , 0.        , 0.        , 0.        , 0.29411766,\n",
       "         0.9843137 , 0.9411765 , 0.22352941, 0.        , 0.        ,\n",
       "         0.        , 0.        , 0.        , 0.        , 0.        ,\n",
       "         0.        , 0.        , 0.        ],\n",
       "        [0.        , 0.        , 0.        , 0.        , 0.        ,\n",
       "         0.        , 0.        , 0.        , 0.        , 0.        ,\n",
       "         0.        , 0.        , 0.        , 0.07450981, 0.8666667 ,\n",
       "         0.99607843, 0.6509804 , 0.        , 0.        , 0.        ,\n",
       "         0.        , 0.        , 0.        , 0.        , 0.        ,\n",
       "         0.        , 0.        , 0.        ],\n",
       "        [0.        , 0.        , 0.        , 0.        , 0.        ,\n",
       "         0.        , 0.        , 0.        , 0.        , 0.        ,\n",
       "         0.        , 0.        , 0.01176471, 0.79607844, 0.99607843,\n",
       "         0.85882354, 0.13725491, 0.        , 0.        , 0.        ,\n",
       "         0.        , 0.        , 0.        , 0.        , 0.        ,\n",
       "         0.        , 0.        , 0.        ],\n",
       "        [0.        , 0.        , 0.        , 0.        , 0.        ,\n",
       "         0.        , 0.        , 0.        , 0.        , 0.        ,\n",
       "         0.        , 0.        , 0.14901961, 0.99607843, 0.99607843,\n",
       "         0.3019608 , 0.        , 0.        , 0.        , 0.        ,\n",
       "         0.        , 0.        , 0.        , 0.        , 0.        ,\n",
       "         0.        , 0.        , 0.        ],\n",
       "        [0.        , 0.        , 0.        , 0.        , 0.        ,\n",
       "         0.        , 0.        , 0.        , 0.        , 0.        ,\n",
       "         0.        , 0.12156863, 0.8784314 , 0.99607843, 0.4509804 ,\n",
       "         0.00392157, 0.        , 0.        , 0.        , 0.        ,\n",
       "         0.        , 0.        , 0.        , 0.        , 0.        ,\n",
       "         0.        , 0.        , 0.        ],\n",
       "        [0.        , 0.        , 0.        , 0.        , 0.        ,\n",
       "         0.        , 0.        , 0.        , 0.        , 0.        ,\n",
       "         0.        , 0.52156866, 0.99607843, 0.99607843, 0.20392157,\n",
       "         0.        , 0.        , 0.        , 0.        , 0.        ,\n",
       "         0.        , 0.        , 0.        , 0.        , 0.        ,\n",
       "         0.        , 0.        , 0.        ],\n",
       "        [0.        , 0.        , 0.        , 0.        , 0.        ,\n",
       "         0.        , 0.        , 0.        , 0.        , 0.        ,\n",
       "         0.23921569, 0.9490196 , 0.99607843, 0.99607843, 0.20392157,\n",
       "         0.        , 0.        , 0.        , 0.        , 0.        ,\n",
       "         0.        , 0.        , 0.        , 0.        , 0.        ,\n",
       "         0.        , 0.        , 0.        ],\n",
       "        [0.        , 0.        , 0.        , 0.        , 0.        ,\n",
       "         0.        , 0.        , 0.        , 0.        , 0.        ,\n",
       "         0.4745098 , 0.99607843, 0.99607843, 0.85882354, 0.15686275,\n",
       "         0.        , 0.        , 0.        , 0.        , 0.        ,\n",
       "         0.        , 0.        , 0.        , 0.        , 0.        ,\n",
       "         0.        , 0.        , 0.        ],\n",
       "        [0.        , 0.        , 0.        , 0.        , 0.        ,\n",
       "         0.        , 0.        , 0.        , 0.        , 0.        ,\n",
       "         0.4745098 , 0.99607843, 0.8117647 , 0.07058824, 0.        ,\n",
       "         0.        , 0.        , 0.        , 0.        , 0.        ,\n",
       "         0.        , 0.        , 0.        , 0.        , 0.        ,\n",
       "         0.        , 0.        , 0.        ],\n",
       "        [0.        , 0.        , 0.        , 0.        , 0.        ,\n",
       "         0.        , 0.        , 0.        , 0.        , 0.        ,\n",
       "         0.        , 0.        , 0.        , 0.        , 0.        ,\n",
       "         0.        , 0.        , 0.        , 0.        , 0.        ,\n",
       "         0.        , 0.        , 0.        , 0.        , 0.        ,\n",
       "         0.        , 0.        , 0.        ]]], dtype=float32)"
      ]
     },
     "execution_count": 41,
     "metadata": {},
     "output_type": "execute_result"
    }
   ],
   "source": [
    "X_test[:1]"
   ]
  },
  {
   "cell_type": "code",
   "execution_count": 42,
   "metadata": {
    "tags": []
   },
   "outputs": [
    {
     "name": "stdout",
     "output_type": "stream",
     "text": [
      "1/1 [==============================] - 0s 43ms/step\n",
      "(1, 10)\n"
     ]
    },
    {
     "data": {
      "text/plain": [
       "array([[0.   , 0.   , 0.   , 0.   , 0.   , 0.   , 0.   , 0.999, 0.   ,\n",
       "        0.   ]], dtype=float32)"
      ]
     },
     "execution_count": 42,
     "metadata": {},
     "output_type": "execute_result"
    }
   ],
   "source": [
    "predictions = model.predict(X_test[:1]).round(3)\n",
    "print(predictions.shape)\n",
    "predictions"
   ]
  },
  {
   "cell_type": "code",
   "execution_count": 43,
   "metadata": {},
   "outputs": [
    {
     "data": {
      "text/plain": [
       "7"
      ]
     },
     "execution_count": 43,
     "metadata": {},
     "output_type": "execute_result"
    }
   ],
   "source": [
    "predictions.argmax()"
   ]
  },
  {
   "cell_type": "code",
   "execution_count": 44,
   "metadata": {},
   "outputs": [
    {
     "name": "stdout",
     "output_type": "stream",
     "text": [
      "313/313 [==============================] - 0s 453us/step\n"
     ]
    },
    {
     "data": {
      "text/plain": [
       "array([7, 2, 1, ..., 4, 5, 6])"
      ]
     },
     "execution_count": 44,
     "metadata": {},
     "output_type": "execute_result"
    }
   ],
   "source": [
    "model.predict(X_test).argmax(axis=1)"
   ]
  },
  {
   "cell_type": "code",
   "execution_count": 45,
   "metadata": {},
   "outputs": [
    {
     "data": {
      "image/png": "[encoded data removed]",
      "text/plain": [
       "<Figure size 640x480 with 1 Axes>"
      ]
     },
     "metadata": {},
     "output_type": "display_data"
    }
   ],
   "source": [
    "plt.imshow(X_test[2].reshape(28,28), cmap=plt.cm.get_cmap('Greys'));"
   ]
  },
  {
   "cell_type": "markdown",
   "metadata": {},
   "source": [
    "### Problema de regresión\n",
    "Veamos un ejemplo de cómo aplicar una red neuronal de TensorFlow a un problema de regresión."
   ]
  },
  {
   "cell_type": "code",
   "execution_count": 47,
   "metadata": {},
   "outputs": [
    {
     "data": {
      "text/html": [
       "<div>\n",
       "<style scoped>\n",
       "    .dataframe tbody tr th:only-of-type {\n",
       "        vertical-align: middle;\n",
       "    }\n",
       "\n",
       "    .dataframe tbody tr th {\n",
       "        vertical-align: top;\n",
       "    }\n",
       "\n",
       "    .dataframe thead th {\n",
       "        text-align: right;\n",
       "    }\n",
       "</style>\n",
       "<table border=\"1\" class=\"dataframe\">\n",
       "  <thead>\n",
       "    <tr style=\"text-align: right;\">\n",
       "      <th></th>\n",
       "      <th>MedInc</th>\n",
       "      <th>HouseAge</th>\n",
       "      <th>AveRooms</th>\n",
       "      <th>AveBedrms</th>\n",
       "      <th>Population</th>\n",
       "      <th>AveOccup</th>\n",
       "      <th>Latitude</th>\n",
       "      <th>Longitude</th>\n",
       "      <th>target</th>\n",
       "    </tr>\n",
       "  </thead>\n",
       "  <tbody>\n",
       "    <tr>\n",
       "      <th>0</th>\n",
       "      <td>8.3252</td>\n",
       "      <td>41.0</td>\n",
       "      <td>6.984127</td>\n",
       "      <td>1.023810</td>\n",
       "      <td>322.0</td>\n",
       "      <td>2.555556</td>\n",
       "      <td>37.88</td>\n",
       "      <td>-122.23</td>\n",
       "      <td>4.526</td>\n",
       "    </tr>\n",
       "    <tr>\n",
       "      <th>1</th>\n",
       "      <td>8.3014</td>\n",
       "      <td>21.0</td>\n",
       "      <td>6.238137</td>\n",
       "      <td>0.971880</td>\n",
       "      <td>2401.0</td>\n",
       "      <td>2.109842</td>\n",
       "      <td>37.86</td>\n",
       "      <td>-122.22</td>\n",
       "      <td>3.585</td>\n",
       "    </tr>\n",
       "    <tr>\n",
       "      <th>2</th>\n",
       "      <td>7.2574</td>\n",
       "      <td>52.0</td>\n",
       "      <td>8.288136</td>\n",
       "      <td>1.073446</td>\n",
       "      <td>496.0</td>\n",
       "      <td>2.802260</td>\n",
       "      <td>37.85</td>\n",
       "      <td>-122.24</td>\n",
       "      <td>3.521</td>\n",
       "    </tr>\n",
       "    <tr>\n",
       "      <th>3</th>\n",
       "      <td>5.6431</td>\n",
       "      <td>52.0</td>\n",
       "      <td>5.817352</td>\n",
       "      <td>1.073059</td>\n",
       "      <td>558.0</td>\n",
       "      <td>2.547945</td>\n",
       "      <td>37.85</td>\n",
       "      <td>-122.25</td>\n",
       "      <td>3.413</td>\n",
       "    </tr>\n",
       "    <tr>\n",
       "      <th>4</th>\n",
       "      <td>3.8462</td>\n",
       "      <td>52.0</td>\n",
       "      <td>6.281853</td>\n",
       "      <td>1.081081</td>\n",
       "      <td>565.0</td>\n",
       "      <td>2.181467</td>\n",
       "      <td>37.85</td>\n",
       "      <td>-122.25</td>\n",
       "      <td>3.422</td>\n",
       "    </tr>\n",
       "  </tbody>\n",
       "</table>\n",
       "</div>"
      ],
      "text/plain": [
       "   MedInc  HouseAge  AveRooms  AveBedrms  Population  AveOccup  Latitude   \n",
       "0  8.3252      41.0  6.984127   1.023810       322.0  2.555556     37.88  \\\n",
       "1  8.3014      21.0  6.238137   0.971880      2401.0  2.109842     37.86   \n",
       "2  7.2574      52.0  8.288136   1.073446       496.0  2.802260     37.85   \n",
       "3  5.6431      52.0  5.817352   1.073059       558.0  2.547945     37.85   \n",
       "4  3.8462      52.0  6.281853   1.081081       565.0  2.181467     37.85   \n",
       "\n",
       "   Longitude  target  \n",
       "0    -122.23   4.526  \n",
       "1    -122.22   3.585  \n",
       "2    -122.24   3.521  \n",
       "3    -122.25   3.413  \n",
       "4    -122.25   3.422  "
      ]
     },
     "execution_count": 47,
     "metadata": {},
     "output_type": "execute_result"
    }
   ],
   "source": [
    "# Cargamos datos\n",
    "from sklearn.datasets import fetch_california_housing\n",
    "from sklearn.model_selection import train_test_split\n",
    "from sklearn.preprocessing import StandardScaler\n",
    "\n",
    "housing = fetch_california_housing()\n",
    "df = pd.DataFrame(housing.data, columns = housing.feature_names)\n",
    "df['target'] = housing['target']\n",
    "df.head()"
   ]
  },
  {
   "cell_type": "code",
   "execution_count": 49,
   "metadata": {},
   "outputs": [
    {
     "data": {
      "text/plain": [
       "dict_keys(['data', 'target', 'frame', 'target_names', 'feature_names', 'DESCR'])"
      ]
     },
     "execution_count": 49,
     "metadata": {},
     "output_type": "execute_result"
    }
   ],
   "source": [
    "housing.keys()"
   ]
  },
  {
   "cell_type": "markdown",
   "metadata": {},
   "source": [
    "Divimos en train, test y validation"
   ]
  },
  {
   "cell_type": "code",
   "execution_count": 50,
   "metadata": {},
   "outputs": [],
   "source": [
    "X_train_full, X_test, y_train_full, y_test = train_test_split(housing.data,\n",
    "                                                              housing.target, random_state=42)\n",
    "\n",
    "X_train, X_valid, y_train, y_valid = train_test_split(X_train_full,\n",
    "                                                      y_train_full,random_state=42)\n",
    "\n",
    "scaler = StandardScaler()\n",
    "X_train = scaler.fit_transform(X_train)\n",
    "X_valid = scaler.transform(X_valid)\n",
    "X_test = scaler.transform(X_test)"
   ]
  },
  {
   "cell_type": "code",
   "execution_count": 51,
   "metadata": {},
   "outputs": [
    {
     "data": {
      "text/plain": [
       "(11610, 8)"
      ]
     },
     "execution_count": 51,
     "metadata": {},
     "output_type": "execute_result"
    }
   ],
   "source": [
    "X_train.shape"
   ]
  },
  {
   "cell_type": "markdown",
   "metadata": {},
   "source": [
    "Montamos el modelo. Simplemente se compondrá de una hidden layer, a la que le configuramos una capa previa de entrada de 8 neuronas (las features).\n",
    "\n",
    "Se trata de un modelo de regresión, por lo que la capa de salida es una única neurona."
   ]
  },
  {
   "cell_type": "code",
   "execution_count": 52,
   "metadata": {},
   "outputs": [
    {
     "data": {
      "text/plain": [
       "362.8125"
      ]
     },
     "execution_count": 52,
     "metadata": {},
     "output_type": "execute_result"
    }
   ],
   "source": [
    "11610/32"
   ]
  },
  {
   "cell_type": "code",
   "execution_count": 53,
   "metadata": {},
   "outputs": [
    {
     "name": "stdout",
     "output_type": "stream",
     "text": [
      "Epoch 1/20\n",
      "363/363 [==============================] - 0s 521us/step - loss: 0.8071 - val_loss: 100.5778\n",
      "Epoch 2/20\n",
      "363/363 [==============================] - 0s 415us/step - loss: 0.7650 - val_loss: 3.3820\n",
      "Epoch 3/20\n",
      "363/363 [==============================] - 0s 410us/step - loss: 0.4745 - val_loss: 10.0637\n",
      "Epoch 4/20\n",
      "363/363 [==============================] - 0s 407us/step - loss: 0.4992 - val_loss: 3.0737\n",
      "Epoch 5/20\n",
      "363/363 [==============================] - 0s 431us/step - loss: 0.4241 - val_loss: 0.6040\n",
      "Epoch 6/20\n",
      "363/363 [==============================] - 0s 439us/step - loss: 0.4724 - val_loss: 0.4331\n",
      "Epoch 7/20\n",
      "363/363 [==============================] - 0s 414us/step - loss: 0.4043 - val_loss: 0.4161\n",
      "Epoch 8/20\n",
      "363/363 [==============================] - 0s 481us/step - loss: 0.3858 - val_loss: 0.3873\n",
      "Epoch 9/20\n",
      "363/363 [==============================] - 0s 600us/step - loss: 0.3729 - val_loss: 0.3727\n",
      "Epoch 10/20\n",
      "363/363 [==============================] - 0s 552us/step - loss: 0.3718 - val_loss: 0.4826\n",
      "Epoch 11/20\n",
      "363/363 [==============================] - 0s 473us/step - loss: 0.3664 - val_loss: 0.3459\n",
      "Epoch 12/20\n",
      "363/363 [==============================] - 0s 432us/step - loss: 0.3627 - val_loss: 0.3442\n",
      "Epoch 13/20\n",
      "363/363 [==============================] - 0s 466us/step - loss: 0.3589 - val_loss: 0.3430\n",
      "Epoch 14/20\n",
      "363/363 [==============================] - 0s 460us/step - loss: 0.3574 - val_loss: 0.3579\n",
      "Epoch 15/20\n",
      "363/363 [==============================] - 0s 427us/step - loss: 0.3551 - val_loss: 0.5084\n",
      "Epoch 16/20\n",
      "363/363 [==============================] - 0s 425us/step - loss: 0.3564 - val_loss: 0.3564\n",
      "Epoch 17/20\n",
      "363/363 [==============================] - 0s 415us/step - loss: 0.3568 - val_loss: 0.3406\n",
      "Epoch 18/20\n",
      "363/363 [==============================] - 0s 486us/step - loss: 0.3523 - val_loss: 0.3412\n",
      "Epoch 19/20\n",
      "363/363 [==============================] - 0s 417us/step - loss: 0.3523 - val_loss: 0.3771\n",
      "Epoch 20/20\n",
      "363/363 [==============================] - 0s 428us/step - loss: 0.3565 - val_loss: 0.3322\n"
     ]
    }
   ],
   "source": [
    "model = keras.models.Sequential([\n",
    "    keras.layers.Dense(30, activation = 'relu',\n",
    "                      input_shape = X_train.shape[1:]),\n",
    "    keras.layers.Dense(1)\n",
    "])\n",
    "\n",
    "model.compile(loss = \"mean_squared_error\",\n",
    "             optimizer = \"sgd\")\n",
    "\n",
    "history = model.fit(X_train,\n",
    "                   y_train,\n",
    "                   epochs = 20,\n",
    "                   validation_data = (X_valid, y_valid))"
   ]
  },
  {
   "cell_type": "code",
   "execution_count": 54,
   "metadata": {},
   "outputs": [
    {
     "data": {
      "text/plain": [
       "270"
      ]
     },
     "execution_count": 54,
     "metadata": {},
     "output_type": "execute_result"
    }
   ],
   "source": [
    "8*30 + 30"
   ]
  },
  {
   "cell_type": "code",
   "execution_count": 55,
   "metadata": {},
   "outputs": [
    {
     "name": "stdout",
     "output_type": "stream",
     "text": [
      "Model: \"sequential_2\"\n",
      "_________________________________________________________________\n",
      " Layer (type)                Output Shape              Param #   \n",
      "=================================================================\n",
      " dense_6 (Dense)             (None, 30)                270       \n",
      "                                                                 \n",
      " dense_7 (Dense)             (None, 1)                 31        \n",
      "                                                                 \n",
      "=================================================================\n",
      "Total params: 301 (1.18 KB)\n",
      "Trainable params: 301 (1.18 KB)\n",
      "Non-trainable params: 0 (0.00 Byte)\n",
      "_________________________________________________________________\n"
     ]
    }
   ],
   "source": [
    "model.summary()"
   ]
  },
  {
   "cell_type": "code",
   "execution_count": 56,
   "metadata": {},
   "outputs": [
    {
     "name": "stdout",
     "output_type": "stream",
     "text": [
      "162/162 [==============================] - 0s 277us/step - loss: 0.3521\n",
      "0.3520505428314209\n"
     ]
    }
   ],
   "source": [
    "mse_test = model.evaluate(X_test, y_test)\n",
    "print(mse_test)"
   ]
  },
  {
   "cell_type": "code",
   "execution_count": 57,
   "metadata": {},
   "outputs": [
    {
     "name": "stdout",
     "output_type": "stream",
     "text": [
      "1/1 [==============================] - 0s 26ms/step\n"
     ]
    },
    {
     "data": {
      "text/plain": [
       "array([[0.6649549],\n",
       "       [1.6416693],\n",
       "       [4.179448 ],\n",
       "       [2.641819 ],\n",
       "       [2.9939349]], dtype=float32)"
      ]
     },
     "execution_count": 57,
     "metadata": {},
     "output_type": "execute_result"
    }
   ],
   "source": [
    "y_pred = model.predict(X_test[:5])\n",
    "y_pred"
   ]
  },
  {
   "cell_type": "code",
   "execution_count": 58,
   "metadata": {},
   "outputs": [
    {
     "name": "stdout",
     "output_type": "stream",
     "text": [
      "0.47265217382596847\n",
      "0.8333147597175339\n"
     ]
    }
   ],
   "source": [
    "from sklearn.metrics import mean_squared_error, r2_score\n",
    "\n",
    "print(mean_squared_error(y_test[:5], y_pred))\n",
    "print(r2_score(y_test[:5], y_pred))"
   ]
  },
  {
   "cell_type": "markdown",
   "metadata": {},
   "source": [
    "### Guardar modelo\n",
    "Para guardar el modelo, en el formato de Keras (HDF5). "
   ]
  },
  {
   "cell_type": "code",
   "execution_count": 59,
   "metadata": {},
   "outputs": [],
   "source": [
    "# import pickle\n",
    "# pickle.dump(model, open(\"model.pkl\", \"wb\"))\n",
    "\n",
    "# H5 como pickle para guardar los modelos"
   ]
  },
  {
   "cell_type": "code",
   "execution_count": 60,
   "metadata": {},
   "outputs": [
    {
     "name": "stderr",
     "output_type": "stream",
     "text": [
      "/opt/homebrew/lib/python3.10/site-packages/keras/src/engine/training.py:3000: UserWarning: You are saving your model as an HDF5 file via `model.save()`. This file format is considered legacy. We recommend using instead the native Keras format, e.g. `model.save('my_model.keras')`.\n",
      "  saving_api.save_model(\n"
     ]
    }
   ],
   "source": [
    "model.save(\"my_keras_model.h5\")"
   ]
  },
  {
   "cell_type": "code",
   "execution_count": 61,
   "metadata": {},
   "outputs": [],
   "source": [
    "# Lo volvemos a cargar\n",
    "model = keras.models.load_model(\"my_keras_model.h5\")"
   ]
  },
  {
   "cell_type": "markdown",
   "metadata": {},
   "source": [
    "### Callbacks\n",
    "Son funciones predefinidas de Keras a aplicar durante el entrenamiento\n",
    "Por ejemplo, `ModelCheckpoint` sirve para que el modelo se vaya guardando tras cada epoch. Así no perdemos el progreso en caso de que decidamos interrumpir el entrenamiento. El callback recibe como argumento el nombre del objeto donde queremos que se guarde el modelo entrenado."
   ]
  },
  {
   "cell_type": "code",
   "execution_count": 62,
   "metadata": {
    "collapsed": true,
    "jupyter": {
     "outputs_hidden": true
    },
    "tags": []
   },
   "outputs": [
    {
     "name": "stdout",
     "output_type": "stream",
     "text": [
      "Epoch 1/30\n",
      "363/363 [==============================] - 0s 324us/step - loss: 0.3537\n",
      "Epoch 2/30\n",
      "363/363 [==============================] - 0s 368us/step - loss: 0.3505\n",
      "Epoch 3/30\n",
      "363/363 [==============================] - 0s 319us/step - loss: 0.3478\n",
      "Epoch 4/30\n",
      "363/363 [==============================] - 0s 324us/step - loss: 0.3472\n",
      "Epoch 5/30\n",
      "363/363 [==============================] - 0s 307us/step - loss: 0.3428\n",
      "Epoch 6/30\n",
      "363/363 [==============================] - 0s 307us/step - loss: 0.3418\n",
      "Epoch 7/30\n",
      "363/363 [==============================] - 0s 320us/step - loss: 0.3421\n",
      "Epoch 8/30\n",
      "363/363 [==============================] - 0s 326us/step - loss: 0.3412\n",
      "Epoch 9/30\n",
      "363/363 [==============================] - 0s 333us/step - loss: 0.3392\n",
      "Epoch 10/30\n",
      "363/363 [==============================] - 0s 313us/step - loss: 0.3388\n",
      "Epoch 11/30\n",
      "363/363 [==============================] - 0s 333us/step - loss: 0.3364\n",
      "Epoch 12/30\n",
      "363/363 [==============================] - 0s 347us/step - loss: 0.3370\n",
      "Epoch 13/30\n",
      "363/363 [==============================] - 0s 427us/step - loss: 0.3374\n",
      "Epoch 14/30\n",
      "363/363 [==============================] - 0s 338us/step - loss: 0.3369\n",
      "Epoch 15/30\n",
      "363/363 [==============================] - 0s 313us/step - loss: 0.3334\n",
      "Epoch 16/30\n",
      "363/363 [==============================] - 0s 310us/step - loss: 0.3330\n",
      "Epoch 17/30\n",
      "363/363 [==============================] - 0s 306us/step - loss: 0.3307\n",
      "Epoch 18/30\n",
      "363/363 [==============================] - 0s 320us/step - loss: 0.3301\n",
      "Epoch 19/30\n",
      "363/363 [==============================] - 0s 325us/step - loss: 0.3283\n",
      "Epoch 20/30\n",
      "363/363 [==============================] - 0s 320us/step - loss: 0.3271\n",
      "Epoch 21/30\n",
      "363/363 [==============================] - 0s 346us/step - loss: 0.3341\n",
      "Epoch 22/30\n",
      "363/363 [==============================] - 0s 413us/step - loss: 0.3285\n",
      "Epoch 23/30\n",
      "363/363 [==============================] - 0s 315us/step - loss: 0.3306\n",
      "Epoch 24/30\n",
      "363/363 [==============================] - 0s 373us/step - loss: 0.3293\n",
      "Epoch 25/30\n",
      "363/363 [==============================] - 0s 344us/step - loss: 0.3283\n",
      "Epoch 26/30\n",
      "363/363 [==============================] - 0s 323us/step - loss: 0.3262\n",
      "Epoch 27/30\n",
      "363/363 [==============================] - 0s 351us/step - loss: 0.3238\n",
      "Epoch 28/30\n",
      "363/363 [==============================] - 0s 357us/step - loss: 0.3248\n",
      "Epoch 29/30\n",
      "363/363 [==============================] - 0s 319us/step - loss: 0.3235\n",
      "Epoch 30/30\n",
      "363/363 [==============================] - 0s 421us/step - loss: 0.3233\n"
     ]
    }
   ],
   "source": [
    "checkpoint_cb = keras.callbacks.ModelCheckpoint(\"callback_model.h5\")\n",
    "history = model.fit(X_train,\n",
    "                   y_train,\n",
    "                   epochs=30,\n",
    "                   callbacks = [checkpoint_cb])"
   ]
  },
  {
   "cell_type": "markdown",
   "metadata": {},
   "source": [
    "### Early Stopping\n",
    "Interrumpe el entrenamiento cuando no ve progreso en el set de validación. Para ello tiene en cuenta un numero de epochs llamado `patience`. Se puede combinar con el callback"
   ]
  },
  {
   "cell_type": "code",
   "execution_count": 63,
   "metadata": {},
   "outputs": [
    {
     "name": "stdout",
     "output_type": "stream",
     "text": [
      "Epoch 1/20\n",
      "363/363 [==============================] - 0s 557us/step - loss: 0.3210 - val_loss: 0.3241\n",
      "Epoch 2/20\n",
      "363/363 [==============================] - 0s 417us/step - loss: 0.3209 - val_loss: 0.3971\n",
      "Epoch 3/20\n",
      "363/363 [==============================] - 0s 409us/step - loss: 0.3226 - val_loss: 0.3110\n",
      "Epoch 4/20\n",
      "363/363 [==============================] - 0s 406us/step - loss: 0.3225 - val_loss: 0.3163\n",
      "Epoch 5/20\n",
      "363/363 [==============================] - 0s 401us/step - loss: 0.3215 - val_loss: 0.3623\n",
      "Epoch 6/20\n",
      "363/363 [==============================] - 0s 418us/step - loss: 0.3211 - val_loss: 0.3113\n",
      "Epoch 7/20\n",
      "363/363 [==============================] - 0s 480us/step - loss: 0.3189 - val_loss: 0.3275\n",
      "Epoch 8/20\n",
      "363/363 [==============================] - 0s 418us/step - loss: 0.3200 - val_loss: 0.3354\n"
     ]
    }
   ],
   "source": [
    "early_stopping_cb = keras.callbacks.EarlyStopping(patience=5)\n",
    "history = model.fit(X_train,\n",
    "                   y_train,\n",
    "                   epochs=20,\n",
    "                    validation_data = (X_valid, y_valid),\n",
    "                   callbacks = [early_stopping_cb])"
   ]
  },
  {
   "cell_type": "code",
   "execution_count": null,
   "metadata": {},
   "outputs": [],
   "source": []
  }
 ],
 "metadata": {
  "kernelspec": {
   "display_name": "Python 3",
   "language": "python",
   "name": "python3"
  },
  "language_info": {
   "codemirror_mode": {
    "name": "ipython",
    "version": 3
   },
   "file_extension": ".py",
   "mimetype": "text/x-python",
   "name": "python",
   "nbconvert_exporter": "python",
   "pygments_lexer": "ipython3",
   "version": "3.10.10"
  }
 },
 "nbformat": 4,
 "nbformat_minor": 4
}
